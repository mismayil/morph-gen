{
 "cells": [
  {
   "cell_type": "code",
   "execution_count": 2,
   "metadata": {},
   "outputs": [
    {
     "data": {
      "text/plain": [
       "['(de[VB]+[Polarity=Pos])([VN]-r[Derivation=AorNom]+[PersonNumber=A3sg]+[Possessive=Pnon]+[Case=Bare])([NOMP]-sH[Derivation=Sim]+[PersonNumber=A3sg]+Hn[Possessive=P2sg]+NDA[Case=Loc]+[Copula=PresCop]+YHm[PersonNumber=V1sg])',\n",
       " '(ders[NOMP]+[PersonNumber=A3sg]+Hn[Possessive=P2sg]+NDA[Case=Loc]+[Copula=PresCop]+YHm[PersonNumber=V1sg])',\n",
       " '(ders[NOMP]+[PersonNumber=A3sg]+SH[Possessive=P3sg]+NDA[Case=Loc]+[Copula=PresCop]+YHm[PersonNumber=V1sg])']"
      ]
     },
     "execution_count": 2,
     "metadata": {},
     "output_type": "execute_result"
    }
   ],
   "source": [
    "from turkish_morphology import decompose, analyze\n",
    "\n",
    "word = \"kitaplarımızdaki\"\n",
    "word = \"yapamadıklarımızdan\"\n",
    "sentence = \"Yazarın kitaplarını yayın hakkını elinde bulunduran Aziz Nesin Vakfı'ndan yapılan açıklamaya göre,ilki 1946 yılında basılan Aziz Nesin'in kitapları, o dönemden bu yana 10 milyon 780 bin adet basıldı ve dağıtıldı\"\n",
    "word = \"dersindeyim\"\n",
    "\n",
    "analyses = analyze.surface_form(word, use_proper_feature=False)\n",
    "decomposition = decompose.human_readable_analysis(analyses[0])\n",
    "\n",
    "analyses\n",
    "# decomposition"
   ]
  },
  {
   "cell_type": "code",
   "execution_count": 3,
   "metadata": {},
   "outputs": [
    {
     "data": {
      "text/plain": [
       "[Decomposition(root=ders, pos=NOMP, meta_morphemes=['SH', 'NDA', 'YHm'], morphemes=['i', 'nde', 'yim']),\n",
       " Decomposition(root=ders, pos=NOMP, meta_morphemes=['Hn', 'NDA', 'YHm'], morphemes=['in', 'de', 'yim']),\n",
       " Decomposition(root=de, pos=NOMP, meta_morphemes=['r', 'sH', 'Hn', 'NDA', 'YHm'], morphemes=['r', 'si', 'n', 'de', 'yim']),\n",
       " Decomposition(root=de, pos=NOMP, meta_morphemes=['r', 'sH', 'Hn', 'NDA', 'YHm'], morphemes=['r', 'si', 'n', 'de', 'yim'])]"
      ]
     },
     "execution_count": 3,
     "metadata": {},
     "output_type": "execute_result"
    }
   ],
   "source": [
    "from morphology import decompose_tr\n",
    "\n",
    "decomposition = decompose_tr(word)\n",
    "decomposition"
   ]
  },
  {
   "cell_type": "code",
   "execution_count": null,
   "metadata": {},
   "outputs": [],
   "source": [
    "import pandas as pd\n",
    "\n",
    "data = pd.read_csv(\"data/bilkent-turkish-writings/bilkent-turkish-writings-dataset.csv\")\n",
    "data.head()"
   ]
  },
  {
   "cell_type": "code",
   "execution_count": null,
   "metadata": {},
   "outputs": [],
   "source": [
    "import re\n",
    "from utils import write_json\n",
    "\n",
    "essays = []\n",
    "\n",
    "for i, row in data.iterrows():\n",
    "    if isinstance(row[\"text\"], str):\n",
    "        raw_texts = re.split(\"[.?!]\\s\",row[\"text\"].replace(\"\\r\\n\", \"\"))\n",
    "        texts = []\n",
    "\n",
    "        for text in raw_texts:\n",
    "            texts.extend(re.split(\"\\s\\s\\s\\s\", text))\n",
    "\n",
    "        texts = [re.sub(\"^[A-ZÜÖĞIŞÇİ0-9\\-\\s.]+$\", \"\", text) for text in texts]\n",
    "        texts = [re.sub(\"\\s+\", \" \", text).strip() for text in texts if all([\"http\" not in text.lower(), \"kaynakça\" not in text.lower()]) and len(text.strip().split()) > 5]\n",
    "        \n",
    "        if len(texts) > 1:\n",
    "            essays.append({\n",
    "                \"id\": f\"bilkent-turkish-writings-{i}\",\n",
    "                \"sentences\": texts\n",
    "            })\n",
    "\n",
    "write_json(essays, \"data/bilkent-turkish-writings/bilkent-turkish-writings-dataset.json\", ensure_ascii=False)\n"
   ]
  },
  {
   "cell_type": "code",
   "execution_count": null,
   "metadata": {},
   "outputs": [],
   "source": [
    "from morphology import decompose_tr\n",
    "\n",
    "# decompose_tr(\"heykelciklerinin\")\n",
    "[decomposition.to_json() for decomposition in decompose_tr(\"yansıttığımızın\")]"
   ]
  },
  {
   "cell_type": "code",
   "execution_count": null,
   "metadata": {},
   "outputs": [],
   "source": [
    "from utils import read_json\n",
    "\n",
    "data = read_json(\"../data/bilkent-turkish-writings/bilkent-turkish-writings-dataset_prep.json\")"
   ]
  },
  {
   "cell_type": "code",
   "execution_count": null,
   "metadata": {},
   "outputs": [],
   "source": [
    "len(data), sum([len(val) for val in data.values()])"
   ]
  },
  {
   "cell_type": "code",
   "execution_count": null,
   "metadata": {},
   "outputs": [],
   "source": [
    "sum([1 for root, word_map in data.items() for word, decompositions in word_map.items() if len(decompositions) == 1 and decompositions[0][\"morphemes\"]])"
   ]
  },
  {
   "cell_type": "code",
   "execution_count": null,
   "metadata": {},
   "outputs": [],
   "source": [
    "from utils import write_json\n",
    "import pathlib\n",
    "\n",
    "pathlib.Path(\"../data/bilkent-turkish-writings/batches\").mkdir(parents=True, exist_ok=True)\n",
    "i = 0\n",
    "while True:\n",
    "    data_chunk = list(data.items())[i*500:(i+1)*500]\n",
    "    if data_chunk:\n",
    "        write_json(dict(data_chunk), f\"../data/bilkent-turkish-writings/batches/bilkent-turkish-writings-dataset_prep_{i}.json\", ensure_ascii=False)\n",
    "        i += 1\n",
    "    else:\n",
    "        break"
   ]
  },
  {
   "cell_type": "code",
   "execution_count": 1,
   "metadata": {},
   "outputs": [],
   "source": [
    "from utils import write_json\n",
    "from prepare_data_for_morph import post_morph_process\n",
    "\n",
    "new_data = post_morph_process(\"../data/bilkent-turkish-writings/batches/bilkent-turkish-writings-dataset_prep_0.json\")\n",
    "\n",
    "write_json(new_data, \"../data/bilkent-turkish-writings/batches/bilkent-turkish-writings-dataset_prep_0_new.json\", ensure_ascii=False)"
   ]
  },
  {
   "cell_type": "code",
   "execution_count": 2,
   "metadata": {},
   "outputs": [],
   "source": [
    "from src.utils import read_json, write_json\n",
    "\n",
    "data = read_json(\"../data/bilkent-turkish-writings/btwd_prep.json\")\n",
    "\n",
    "output_data = {\n",
    "    \"metadata\": {\n",
    "        \"source\": \"../data/bilkent-turkish-writings/btwd.json\",\n",
    "        \"processor\": \"tr_btwd_prep\",\n",
    "        \"language\": \"tr\"\n",
    "    },\n",
    "    \"data\": data\n",
    "}\n",
    "write_json(output_data, \"../data/bilkent-turkish-writings/btwd_prep.json\", ensure_ascii=False)"
   ]
  },
  {
   "cell_type": "code",
   "execution_count": null,
   "metadata": {},
   "outputs": [],
   "source": [
    "from src.utils import read_json, write_json\n",
    "\n",
    "data = read_json(\"outputs/gpt-3.5/tr/btwd/btwd_prep_post_morph_sample_llm_morph_gen_en_one_shot_gpt-3.5-turbo_2094783b7ba0.json\")\n",
    "write_json(data, \"outputs/gpt-3.5/tr/btwd/btwd_prep_post_morph_sample_llm_morph_gen_en_one_shot_gpt-3.5-turbo_2094783b7ba0.json\", ensure_ascii=False)"
   ]
  },
  {
   "cell_type": "code",
   "execution_count": 3,
   "metadata": {},
   "outputs": [
    {
     "name": "stderr",
     "output_type": "stream",
     "text": [
      "/Users/mismayil/.pyenv/versions/3.9.7/envs/til/lib/python3.9/site-packages/openpyxl/worksheet/_reader.py:329: UserWarning: Unknown extension is not supported and will be removed\n",
      "  warn(msg)\n"
     ]
    }
   ],
   "source": [
    "import pandas as pd\n",
    "\n",
    "data = pd.read_excel(\"../data/MorphoLEX_en.xlsx\", sheet_name=\"0-1-2\")"
   ]
  },
  {
   "cell_type": "code",
   "execution_count": 4,
   "metadata": {},
   "outputs": [
    {
     "data": {
      "text/html": [
       "<div>\n",
       "<style scoped>\n",
       "    .dataframe tbody tr th:only-of-type {\n",
       "        vertical-align: middle;\n",
       "    }\n",
       "\n",
       "    .dataframe tbody tr th {\n",
       "        vertical-align: top;\n",
       "    }\n",
       "\n",
       "    .dataframe thead th {\n",
       "        text-align: right;\n",
       "    }\n",
       "</style>\n",
       "<table border=\"1\" class=\"dataframe\">\n",
       "  <thead>\n",
       "    <tr style=\"text-align: right;\">\n",
       "      <th></th>\n",
       "      <th>ELP_ItemID</th>\n",
       "      <th>Word</th>\n",
       "      <th>POS</th>\n",
       "      <th>Nmorph</th>\n",
       "      <th>PRS_signature</th>\n",
       "      <th>MorphoLexSegm</th>\n",
       "      <th>ROOT1_PFMF</th>\n",
       "      <th>ROOT1_FamSize</th>\n",
       "      <th>ROOT1_Freq_HAL</th>\n",
       "      <th>SUFF1_PFMF</th>\n",
       "      <th>...</th>\n",
       "      <th>SUFF1_Freq_HAL</th>\n",
       "      <th>SUFF1_length</th>\n",
       "      <th>SUFF1_P</th>\n",
       "      <th>SUFF1_P*</th>\n",
       "      <th>SUFF2_PFMF</th>\n",
       "      <th>SUFF2_FamSize</th>\n",
       "      <th>SUFF2_Freq_HAL</th>\n",
       "      <th>SUFF2_length</th>\n",
       "      <th>SUFF2_P</th>\n",
       "      <th>SUFF2_P*</th>\n",
       "    </tr>\n",
       "  </thead>\n",
       "  <tbody>\n",
       "    <tr>\n",
       "      <th>0</th>\n",
       "      <td>4</td>\n",
       "      <td>algebraical</td>\n",
       "      <td>JJ</td>\n",
       "      <td>3</td>\n",
       "      <td>0,1,2</td>\n",
       "      <td>{(algebra)}&gt;ic&gt;&gt;al&gt;</td>\n",
       "      <td>100.0</td>\n",
       "      <td>4</td>\n",
       "      <td>3692</td>\n",
       "      <td>88.450148</td>\n",
       "      <td>...</td>\n",
       "      <td>1472797</td>\n",
       "      <td>2</td>\n",
       "      <td>0.000028</td>\n",
       "      <td>0.006334</td>\n",
       "      <td>91.538462</td>\n",
       "      <td>1431</td>\n",
       "      <td>4704731</td>\n",
       "      <td>2</td>\n",
       "      <td>0.000009</td>\n",
       "      <td>0.006643</td>\n",
       "    </tr>\n",
       "    <tr>\n",
       "      <th>1</th>\n",
       "      <td>61</td>\n",
       "      <td>allowably</td>\n",
       "      <td>RB</td>\n",
       "      <td>3</td>\n",
       "      <td>0,1,2</td>\n",
       "      <td>{(allow)}&gt;able&gt;&gt;y&gt;</td>\n",
       "      <td>100.0</td>\n",
       "      <td>5</td>\n",
       "      <td>185956</td>\n",
       "      <td>88.978186</td>\n",
       "      <td>...</td>\n",
       "      <td>1227992</td>\n",
       "      <td>4</td>\n",
       "      <td>0.000032</td>\n",
       "      <td>0.006025</td>\n",
       "      <td>73.641851</td>\n",
       "      <td>2486</td>\n",
       "      <td>3870233</td>\n",
       "      <td>1</td>\n",
       "      <td>0.000050</td>\n",
       "      <td>0.029816</td>\n",
       "    </tr>\n",
       "    <tr>\n",
       "      <th>2</th>\n",
       "      <td>69</td>\n",
       "      <td>allusively</td>\n",
       "      <td>RB</td>\n",
       "      <td>3</td>\n",
       "      <td>0,1,2</td>\n",
       "      <td>{(allude)}&gt;ive&gt;&gt;ly&gt;</td>\n",
       "      <td>100.0</td>\n",
       "      <td>4</td>\n",
       "      <td>2066</td>\n",
       "      <td>92.746114</td>\n",
       "      <td>...</td>\n",
       "      <td>1037354</td>\n",
       "      <td>3</td>\n",
       "      <td>0.000017</td>\n",
       "      <td>0.002781</td>\n",
       "      <td>80.980324</td>\n",
       "      <td>2898</td>\n",
       "      <td>3857999</td>\n",
       "      <td>2</td>\n",
       "      <td>0.000045</td>\n",
       "      <td>0.026726</td>\n",
       "    </tr>\n",
       "    <tr>\n",
       "      <th>3</th>\n",
       "      <td>94</td>\n",
       "      <td>alphabetically</td>\n",
       "      <td>RB</td>\n",
       "      <td>3</td>\n",
       "      <td>0,1,2</td>\n",
       "      <td>{(alphabet)}&gt;al&gt;&gt;ly&gt;</td>\n",
       "      <td>50.0</td>\n",
       "      <td>5</td>\n",
       "      <td>6877</td>\n",
       "      <td>30.279720</td>\n",
       "      <td>...</td>\n",
       "      <td>4704731</td>\n",
       "      <td>2</td>\n",
       "      <td>0.000009</td>\n",
       "      <td>0.006643</td>\n",
       "      <td>13.496721</td>\n",
       "      <td>2898</td>\n",
       "      <td>3857999</td>\n",
       "      <td>2</td>\n",
       "      <td>0.000045</td>\n",
       "      <td>0.026726</td>\n",
       "    </tr>\n",
       "    <tr>\n",
       "      <th>4</th>\n",
       "      <td>116</td>\n",
       "      <td>altercations</td>\n",
       "      <td>NN</td>\n",
       "      <td>3</td>\n",
       "      <td>0,1,2</td>\n",
       "      <td>{(alterc)&gt;ate&gt;}&gt;ion&gt;</td>\n",
       "      <td>0.0</td>\n",
       "      <td>2</td>\n",
       "      <td>187</td>\n",
       "      <td>56.623932</td>\n",
       "      <td>...</td>\n",
       "      <td>2569118</td>\n",
       "      <td>3</td>\n",
       "      <td>0.000026</td>\n",
       "      <td>0.010505</td>\n",
       "      <td>58.322904</td>\n",
       "      <td>1599</td>\n",
       "      <td>6530204</td>\n",
       "      <td>3</td>\n",
       "      <td>0.000009</td>\n",
       "      <td>0.009115</td>\n",
       "    </tr>\n",
       "  </tbody>\n",
       "</table>\n",
       "<p>5 rows × 21 columns</p>\n",
       "</div>"
      ],
      "text/plain": [
       "   ELP_ItemID            Word POS  Nmorph PRS_signature         MorphoLexSegm  \\\n",
       "0           4     algebraical  JJ       3         0,1,2   {(algebra)}>ic>>al>   \n",
       "1          61       allowably  RB       3         0,1,2    {(allow)}>able>>y>   \n",
       "2          69      allusively  RB       3         0,1,2   {(allude)}>ive>>ly>   \n",
       "3          94  alphabetically  RB       3         0,1,2  {(alphabet)}>al>>ly>   \n",
       "4         116    altercations  NN       3         0,1,2  {(alterc)>ate>}>ion>   \n",
       "\n",
       "   ROOT1_PFMF  ROOT1_FamSize  ROOT1_Freq_HAL  SUFF1_PFMF  ...  SUFF1_Freq_HAL  \\\n",
       "0       100.0              4            3692   88.450148  ...         1472797   \n",
       "1       100.0              5          185956   88.978186  ...         1227992   \n",
       "2       100.0              4            2066   92.746114  ...         1037354   \n",
       "3        50.0              5            6877   30.279720  ...         4704731   \n",
       "4         0.0              2             187   56.623932  ...         2569118   \n",
       "\n",
       "   SUFF1_length   SUFF1_P  SUFF1_P*  SUFF2_PFMF  SUFF2_FamSize  \\\n",
       "0             2  0.000028  0.006334   91.538462           1431   \n",
       "1             4  0.000032  0.006025   73.641851           2486   \n",
       "2             3  0.000017  0.002781   80.980324           2898   \n",
       "3             2  0.000009  0.006643   13.496721           2898   \n",
       "4             3  0.000026  0.010505   58.322904           1599   \n",
       "\n",
       "   SUFF2_Freq_HAL  SUFF2_length   SUFF2_P  SUFF2_P*  \n",
       "0         4704731             2  0.000009  0.006643  \n",
       "1         3870233             1  0.000050  0.029816  \n",
       "2         3857999             2  0.000045  0.026726  \n",
       "3         3857999             2  0.000045  0.026726  \n",
       "4         6530204             3  0.000009  0.009115  \n",
       "\n",
       "[5 rows x 21 columns]"
      ]
     },
     "execution_count": 4,
     "metadata": {},
     "output_type": "execute_result"
    }
   ],
   "source": [
    "data.head()"
   ]
  },
  {
   "cell_type": "code",
   "execution_count": 6,
   "metadata": {},
   "outputs": [],
   "source": [
    "words = []\n",
    "\n",
    "for i, row in data.iterrows():\n",
    "    word = row[\"Word\"]\n",
    "    segmentation = row[\"MorphoLexSegm\"]\n",
    "    morphemes = re.findall(r\"[A-Za-z]+\", segmentation)\n",
    "    if word == \"\".join(morphemes):\n",
    "        words.append({\n",
    "            \"word\": word,\n",
    "            \"morphemes\": morphemes\n",
    "        })"
   ]
  },
  {
   "cell_type": "code",
   "execution_count": 8,
   "metadata": {},
   "outputs": [
    {
     "data": {
      "text/plain": [
       "[{'word': 'algebraical', 'morphemes': ['algebra', 'ic', 'al']},\n",
       " {'word': 'altruistic', 'morphemes': ['altru', 'ist', 'ic']},\n",
       " {'word': 'amateurishly', 'morphemes': ['amateur', 'ish', 'ly']},\n",
       " {'word': 'ambassadorship', 'morphemes': ['ambassad', 'or', 'ship']},\n",
       " {'word': 'ambitiousness', 'morphemes': ['ambit', 'ious', 'ness']},\n",
       " {'word': 'woodenly', 'morphemes': ['wood', 'en', 'ly']},\n",
       " {'word': 'woodenness', 'morphemes': ['wood', 'en', 'ness']},\n",
       " {'word': 'wordlessly', 'morphemes': ['word', 'less', 'ly']},\n",
       " {'word': 'workableness', 'morphemes': ['work', 'able', 'ness']},\n",
       " {'word': 'worthlessly', 'morphemes': ['worth', 'less', 'ly']}]"
      ]
     },
     "execution_count": 8,
     "metadata": {},
     "output_type": "execute_result"
    }
   ],
   "source": [
    "words[:10]"
   ]
  },
  {
   "cell_type": "code",
   "execution_count": 5,
   "metadata": {},
   "outputs": [
    {
     "name": "stdout",
     "output_type": "stream",
     "text": [
      "['algebra', 'ic', 'al']\n"
     ]
    }
   ],
   "source": [
    "import re\n",
    "\n",
    "s = \"{(algebra)}>ic>>al>\"\n",
    "matches = re.findall(r\"[A-Za-z]+\", s)\n",
    "print(matches)"
   ]
  },
  {
   "cell_type": "code",
   "execution_count": 3,
   "metadata": {},
   "outputs": [],
   "source": [
    "from src.utils import read_json, write_json\n",
    "\n",
    "data = read_json(\"experiments/data/en/morpholex/MorphoLEX_en_prep_morph_sample_nonce.json\")\n",
    "\n",
    "for i, sample in enumerate(data[\"data\"]):\n",
    "    sample[\"id\"] = f\"morpholex-ood-{i}\"\n",
    "\n",
    "write_json(data, \"experiments/data/en/morpholex/MorphoLEX_en_prep_morph_sample_nonce.json\", ensure_ascii=False)"
   ]
  },
  {
   "cell_type": "code",
   "execution_count": 1,
   "metadata": {},
   "outputs": [],
   "source": [
    "from src.utils import read_json, write_json\n",
    "\n",
    "data = read_json(\"experiments/data/tr/btwd/btwd_prep_post_comp_morph_sample_nonce.json\")\n",
    "\n",
    "for i, sample in enumerate(data[\"data\"]):\n",
    "    sample[\"id\"] = f\"tr-ood-{i}\"\n",
    "\n",
    "write_json(data, \"experiments/data/tr/btwd/btwd_prep_post_comp_morph_sample_nonce.json\", ensure_ascii=False)"
   ]
  },
  {
   "cell_type": "code",
   "execution_count": 4,
   "metadata": {},
   "outputs": [],
   "source": [
    "import networkx as nx\n",
    "\n",
    "G = nx.MultiDiGraph(root=False)\n",
    "G.add_node(\"gel\", id=1, root=True)\n",
    "G.add_node(\"yap\", id=2, root=True)\n",
    "G.add_node(\"DH\", id=3)\n",
    "G.add_node(\"lAr\", id=4)\n",
    "G.add_node(\"mHs\", id=5)"
   ]
  },
  {
   "cell_type": "code",
   "execution_count": 5,
   "metadata": {},
   "outputs": [
    {
     "data": {
      "text/plain": [
       "[0, 0, 0, 1, 0, 0]"
      ]
     },
     "execution_count": 5,
     "metadata": {},
     "output_type": "execute_result"
    }
   ],
   "source": [
    "G.add_edges_from([(\"gel\", \"DH\", {\"route\": \"1-3\", \"key\": \"di\"}), (\"DH\", \"lAr\", {\"route\": \"1-3-4\", \"key\": \"ler\"}), (\"yap\", \"DH\", {\"route\": \"2-3\", \"surface\": \"ti\"}), (\"DH\", \"lAr\", {\"route\": \"2-3-4\", \"surface\": \"lar\"}), (\"yap\", \"mHs\", {\"route\": \"2-5\", \"surface\": \"mis\"}), (\"mHs\", \"lAr\", {\"route\": \"2-5-4\", \"surface\": \"lar\"})])"
   ]
  },
  {
   "cell_type": "code",
   "execution_count": 6,
   "metadata": {},
   "outputs": [
    {
     "data": {
      "image/png": "[encoded data removed]",
      "text/plain": [
       "<Figure size 640x480 with 1 Axes>"
      ]
     },
     "metadata": {},
     "output_type": "display_data"
    }
   ],
   "source": [
    "import matplotlib.pyplot as plt\n",
    "\n",
    "subax1 = plt.subplot(121)\n",
    "nx.draw(G, with_labels=True, font_weight='bold')\n",
    "# subax2 = plt.subplot(122)\n",
    "# nx.draw_shell(G, nlist=[range(5, 10), range(5)], with_labels=True, font_weight='bold')"
   ]
  },
  {
   "cell_type": "code",
   "execution_count": 12,
   "metadata": {},
   "outputs": [
    {
     "data": {
      "text/plain": [
       "{0: {'route': '1-3', 'surface': 'di'}}"
      ]
     },
     "execution_count": 12,
     "metadata": {},
     "output_type": "execute_result"
    }
   ],
   "source": [
    "G.get_edge_data(\"gel\", \"DH\")"
   ]
  },
  {
   "cell_type": "code",
   "execution_count": 84,
   "metadata": {},
   "outputs": [],
   "source": [
    "def has_edge(G, source, target, edge_key):\n",
    "    edge_data = G.get_edge_data(source, target)\n",
    "    if edge_data:\n",
    "        for key, edge in edge_data.items():\n",
    "            if key == edge_key:\n",
    "                return edge\n",
    "\n",
    "def update_graph(G, root, meta_morphemes, morphemes):\n",
    "    G.add_node(root, root=True)\n",
    "    last_edge_key = root\n",
    "    last_node = root\n",
    "\n",
    "    for i, (meta_morph, morph) in enumerate(zip(meta_morphemes, morphemes)):\n",
    "        morph_node = f\"+{meta_morph}\"\n",
    "        G.add_node(morph_node)\n",
    "        edge_key = f\"{last_edge_key}+{morph}\"\n",
    "        existing_edge = has_edge(G, last_node, morph_node, edge_key)\n",
    "        is_leaf = i == len(meta_morphemes) - 1\n",
    "        if existing_edge:\n",
    "            existing_edge[\"count\"] += 1\n",
    "            existing_edge[\"leaf\"] += int(is_leaf)\n",
    "        else:\n",
    "            G.add_edge(last_node, morph_node, key=edge_key, count=1, leaf=int(is_leaf))\n",
    "        last_edge_key = edge_key\n",
    "        last_node = morph_node"
   ]
  },
  {
   "cell_type": "code",
   "execution_count": 96,
   "metadata": {},
   "outputs": [
    {
     "name": "stderr",
     "output_type": "stream",
     "text": [
      "Processing samples: 100%|██████████| 392/392 [00:00<00:00, 29123.50it/s]\n"
     ]
    }
   ],
   "source": [
    "from tqdm import tqdm\n",
    "from utils import read_json\n",
    "btwd_data = read_json(\"../experiments/data/tr/btwd/balanced/btwd_prep_post_balanced_sample_morph.json\")\n",
    "\n",
    "G = nx.MultiDiGraph(root=False)\n",
    "\n",
    "for sample in tqdm(btwd_data[\"data\"], total=len(btwd_data[\"data\"]), desc=\"Processing samples\"):\n",
    "    update_graph(G, sample[\"root\"], sample[\"meta_suffixes\"], sample[\"suffixes\"])"
   ]
  },
  {
   "cell_type": "code",
   "execution_count": null,
   "metadata": {},
   "outputs": [],
   "source": [
    "GH = nx.compose(G, G)"
   ]
  },
  {
   "cell_type": "code",
   "execution_count": 85,
   "metadata": {},
   "outputs": [
    {
     "name": "stderr",
     "output_type": "stream",
     "text": [
      "Processing samples: 100%|██████████| 9/9 [00:00<00:00, 15709.00it/s]\n"
     ]
    }
   ],
   "source": [
    "data = [\n",
    "    {\n",
    "        \"root\": \"gel\",\n",
    "        \"pos\": \"V\",\n",
    "        \"meta_suffixes\": [\"DH\", \"lAr\"],\n",
    "        \"suffixes\": [\"di\", \"ler\"]\n",
    "    },\n",
    "    {\n",
    "        \"root\": \"yap\",\n",
    "        \"pos\": \"V\",\n",
    "        \"meta_suffixes\": [\"DH\", \"lAr\"],\n",
    "        \"suffixes\": [\"tı\", \"lar\"]\n",
    "    },\n",
    "    {\n",
    "        \"root\": \"gel\",\n",
    "        \"pos\": \"V\",\n",
    "        \"meta_suffixes\": [\"DH\"],\n",
    "        \"suffixes\": [\"di\"]\n",
    "    },\n",
    "    {\n",
    "        \"root\": \"gel\",\n",
    "        \"pos\": \"V\",\n",
    "        \"meta_suffixes\": [\"DH\", \"m\"],\n",
    "        \"suffixes\": [\"di\", \"m\"]\n",
    "    },\n",
    "        {\n",
    "        \"root\": \"yap\",\n",
    "        \"pos\": \"V\",\n",
    "        \"meta_suffixes\": [\"mHş\", \"lAr\"],\n",
    "        \"suffixes\": [\"mış\", \"lar\"]\n",
    "    },\n",
    "    {\n",
    "        \"root\": \"gel\",\n",
    "        \"pos\": \"V\",\n",
    "        \"meta_suffixes\": [\"mHş\", \"lAr\"],\n",
    "        \"suffixes\": [\"miş\", \"ler\"]\n",
    "    },\n",
    "    {\n",
    "        \"root\": \"yap\",\n",
    "        \"pos\": \"V\",\n",
    "        \"meta_suffixes\": [\"DH\", \"m\"],\n",
    "        \"suffixes\": [\"tı\", \"m\"]\n",
    "    },\n",
    "    {\n",
    "        \"root\": \"ne\",\n",
    "        \"pos\": \"V\",\n",
    "        \"meta_suffixes\": [\"rA\", \"DAn\"],\n",
    "        \"suffixes\": [\"re\", \"den\"]\n",
    "    },\n",
    "    {\n",
    "        \"root\": \"ev\",\n",
    "        \"pos\": \"V\",\n",
    "        \"meta_suffixes\": [\"YH\", \"ne\"],\n",
    "        \"suffixes\": [\"i\", \"ne\"]\n",
    "    }\n",
    "]\n",
    "\n",
    "G = nx.MultiDiGraph(root=False)\n",
    "\n",
    "for sample in tqdm(data, total=len(data), desc=\"Processing samples\"):\n",
    "    update_graph(G, sample[\"root\"], sample[\"meta_suffixes\"], sample[\"suffixes\"])"
   ]
  },
  {
   "cell_type": "code",
   "execution_count": 39,
   "metadata": {},
   "outputs": [
    {
     "data": {
      "text/plain": [
       "True"
      ]
     },
     "execution_count": 39,
     "metadata": {},
     "output_type": "execute_result"
    }
   ],
   "source": [
    "G.has_edge(\"gel\", \"mHş\")"
   ]
  },
  {
   "cell_type": "code",
   "execution_count": 86,
   "metadata": {},
   "outputs": [
    {
     "data": {
      "text/plain": [
       "NodeDataView({'gel': {'root': True}, '+DH': {}, '+lAr': {}, 'yap': {'root': True}, '+m': {}, '+mHş': {}, 'ne': {'root': True}, '+rA': {}, '+DAn': {}, 'ev': {'root': True}, '+YH': {}, '+ne': {}})"
      ]
     },
     "execution_count": 86,
     "metadata": {},
     "output_type": "execute_result"
    }
   ],
   "source": [
    "G.nodes(data=True)"
   ]
  },
  {
   "cell_type": "code",
   "execution_count": 89,
   "metadata": {},
   "outputs": [
    {
     "data": {
      "text/plain": [
       "{'gel+di': {'count': 3, 'leaf': 1}}"
      ]
     },
     "execution_count": 89,
     "metadata": {},
     "output_type": "execute_result"
    }
   ],
   "source": [
    "G.get_edge_data(\"gel\", \"+DH\")"
   ]
  },
  {
   "cell_type": "code",
   "execution_count": 88,
   "metadata": {},
   "outputs": [
    {
     "data": {
      "text/plain": [
       "OutMultiEdgeDataView([('gel', '+DH', {'count': 3, 'leaf': 1}), ('gel', '+mHş', {'count': 1, 'leaf': 0}), ('+DH', '+lAr', {'count': 1, 'leaf': 1}), ('+DH', '+lAr', {'count': 1, 'leaf': 1}), ('+DH', '+m', {'count': 1, 'leaf': 1}), ('+DH', '+m', {'count': 1, 'leaf': 1}), ('yap', '+DH', {'count': 2, 'leaf': 0}), ('yap', '+mHş', {'count': 1, 'leaf': 0}), ('+mHş', '+lAr', {'count': 1, 'leaf': 1}), ('+mHş', '+lAr', {'count': 1, 'leaf': 1}), ('ne', '+rA', {'count': 1, 'leaf': 0}), ('+rA', '+DAn', {'count': 1, 'leaf': 1}), ('ev', '+YH', {'count': 1, 'leaf': 0}), ('+YH', '+ne', {'count': 1, 'leaf': 1})])"
      ]
     },
     "execution_count": 88,
     "metadata": {},
     "output_type": "execute_result"
    }
   ],
   "source": [
    "G.edges(data=True)"
   ]
  },
  {
   "cell_type": "code",
   "execution_count": 90,
   "metadata": {},
   "outputs": [],
   "source": [
    "nx.write_gml(G, \"graph.gml\")"
   ]
  },
  {
   "cell_type": "code",
   "execution_count": 91,
   "metadata": {},
   "outputs": [
    {
     "name": "stderr",
     "output_type": "stream",
     "text": [
      "Processing samples: 100%|██████████| 9/9 [00:00<00:00, 19152.07it/s]\n"
     ]
    }
   ],
   "source": [
    "H = nx.MultiDiGraph(root=False)\n",
    "\n",
    "for sample in tqdm(data, total=len(data), desc=\"Processing samples\"):\n",
    "    update_graph(H, sample[\"root\"], sample[\"meta_suffixes\"], sample[\"suffixes\"])"
   ]
  },
  {
   "cell_type": "code",
   "execution_count": 97,
   "metadata": {},
   "outputs": [],
   "source": [
    "def merge_graphs(G, H):\n",
    "    GH = nx.compose(G, H)\n",
    "    count_edge_data = {\n",
    "        e: G.edges[e][\"count\"] + H.edges[e][\"count\"] for e in G.edges & H.edges\n",
    "    }\n",
    "    leaf_edge_data = {\n",
    "        e: G.edges[e][\"leaf\"] + H.edges[e][\"leaf\"] for e in G.edges & H.edges\n",
    "    }\n",
    "    nx.set_edge_attributes(GH, count_edge_data, \"count\")\n",
    "    nx.set_edge_attributes(GH, leaf_edge_data, \"leaf\")\n",
    "    return GH"
   ]
  },
  {
   "cell_type": "code",
   "execution_count": 98,
   "metadata": {},
   "outputs": [],
   "source": [
    "GH = merge_graphs(G, G)"
   ]
  },
  {
   "cell_type": "code",
   "execution_count": null,
   "metadata": {},
   "outputs": [],
   "source": [
    "nx.write_gml(GH, \"graph2.gml\")"
   ]
  },
  {
   "cell_type": "code",
   "execution_count": 93,
   "metadata": {},
   "outputs": [
    {
     "data": {
      "text/plain": [
       "OutMultiEdgeDataView([('gel', '+DH', {'count': 3, 'leaf': 1}), ('gel', '+mHş', {'count': 1, 'leaf': 0}), ('+DH', '+lAr', {'count': 1, 'leaf': 1}), ('+DH', '+lAr', {'count': 1, 'leaf': 1}), ('+DH', '+m', {'count': 1, 'leaf': 1}), ('+DH', '+m', {'count': 1, 'leaf': 1}), ('yap', '+DH', {'count': 2, 'leaf': 0}), ('yap', '+mHş', {'count': 1, 'leaf': 0}), ('+mHş', '+lAr', {'count': 1, 'leaf': 1}), ('+mHş', '+lAr', {'count': 1, 'leaf': 1}), ('ne', '+rA', {'count': 1, 'leaf': 0}), ('+rA', '+DAn', {'count': 1, 'leaf': 1}), ('ev', '+YH', {'count': 1, 'leaf': 0}), ('+YH', '+ne', {'count': 1, 'leaf': 1})])"
      ]
     },
     "execution_count": 93,
     "metadata": {},
     "output_type": "execute_result"
    }
   ],
   "source": [
    "GH.edges(data=True)"
   ]
  },
  {
   "cell_type": "code",
   "execution_count": 94,
   "metadata": {},
   "outputs": [],
   "source": [
    "count_edge_data = {\n",
    "    e: G.edges[e][\"count\"] + H.edges[e][\"count\"] for e in G.edges & H.edges\n",
    "}\n",
    "leaf_edge_data = {\n",
    "    e: G.edges[e][\"leaf\"] + H.edges[e][\"leaf\"] for e in G.edges & H.edges\n",
    "}\n",
    "nx.set_edge_attributes(GH, count_edge_data, \"count\")\n",
    "nx.set_edge_attributes(GH, leaf_edge_data, \"leaf\")"
   ]
  },
  {
   "cell_type": "code",
   "execution_count": 95,
   "metadata": {},
   "outputs": [
    {
     "data": {
      "text/plain": [
       "OutMultiEdgeDataView([('gel', '+DH', {'count': 6, 'leaf': 2}), ('gel', '+mHş', {'count': 2, 'leaf': 0}), ('+DH', '+lAr', {'count': 2, 'leaf': 2}), ('+DH', '+lAr', {'count': 2, 'leaf': 2}), ('+DH', '+m', {'count': 2, 'leaf': 2}), ('+DH', '+m', {'count': 2, 'leaf': 2}), ('yap', '+DH', {'count': 4, 'leaf': 0}), ('yap', '+mHş', {'count': 2, 'leaf': 0}), ('+mHş', '+lAr', {'count': 2, 'leaf': 2}), ('+mHş', '+lAr', {'count': 2, 'leaf': 2}), ('ne', '+rA', {'count': 2, 'leaf': 0}), ('+rA', '+DAn', {'count': 2, 'leaf': 2}), ('ev', '+YH', {'count': 2, 'leaf': 0}), ('+YH', '+ne', {'count': 2, 'leaf': 2})])"
      ]
     },
     "execution_count": 95,
     "metadata": {},
     "output_type": "execute_result"
    }
   ],
   "source": [
    "GH.edges(data=True)"
   ]
  },
  {
   "cell_type": "code",
   "execution_count": 55,
   "metadata": {},
   "outputs": [],
   "source": [
    "nx.write_gml(G, \"graph.gml\")"
   ]
  },
  {
   "cell_type": "code",
   "execution_count": 32,
   "metadata": {},
   "outputs": [
    {
     "data": {
      "image/png": "[encoded data removed]",
      "text/plain": [
       "<Figure size 640x480 with 1 Axes>"
      ]
     },
     "metadata": {},
     "output_type": "display_data"
    }
   ],
   "source": [
    "import matplotlib.pyplot as plt\n",
    "\n",
    "subax1 = plt.subplot(121)\n",
    "nx.draw(G, with_labels=True, font_weight='bold')"
   ]
  },
  {
   "cell_type": "code",
   "execution_count": 8,
   "metadata": {},
   "outputs": [],
   "source": [
    "nx.write_gml(G, \"graph.gml\")"
   ]
  },
  {
   "cell_type": "code",
   "execution_count": 51,
   "metadata": {},
   "outputs": [],
   "source": [
    "import networkx as nx\n",
    "G2 = nx.read_gml(\"/mnt/nlpdata1/home/ismayilz/morph-gen-c4/morph_graphs/318b96dbba16.gml\")"
   ]
  },
  {
   "cell_type": "code",
   "execution_count": 53,
   "metadata": {},
   "outputs": [
    {
     "data": {
      "text/plain": [
       "OutMultiEdgeDataView([('gel', 'DH', {'surface': 'gel+di', 'count': 3, 'leaf': 1}), ('gel', 'mHş', {'surface': 'gel+miş', 'count': 1, 'leaf': 0}), ('DH', 'lAr', {'surface': 'gel+di+ler', 'count': 1, 'leaf': 1}), ('DH', 'lAr', {'surface': 'yap+tı+lar', 'count': 1, 'leaf': 1}), ('DH', 'm', {'surface': 'gel+di+m', 'count': 1, 'leaf': 1}), ('DH', 'm', {'surface': 'yap+tı+m', 'count': 1, 'leaf': 1}), ('yap', 'DH', {'surface': 'yap+tı', 'count': 2, 'leaf': 0}), ('yap', 'mHş', {'surface': 'yap+mış', 'count': 1, 'leaf': 0}), ('mHş', 'lAr', {'surface': 'yap+mış+lar', 'count': 1, 'leaf': 1}), ('mHş', 'lAr', {'surface': 'gel+miş+ler', 'count': 1, 'leaf': 1})])"
      ]
     },
     "execution_count": 53,
     "metadata": {},
     "output_type": "execute_result"
    }
   ],
   "source": [
    "G2.edges(data=True)"
   ]
  },
  {
   "cell_type": "code",
   "execution_count": 13,
   "metadata": {},
   "outputs": [],
   "source": [
    "roots = [node for node, data in G.nodes(data=True) if data.get(\"root\")]"
   ]
  },
  {
   "cell_type": "code",
   "execution_count": 15,
   "metadata": {},
   "outputs": [
    {
     "ename": "AttributeError",
     "evalue": "'str' object has no attribute 'neighbors'",
     "output_type": "error",
     "traceback": [
      "\u001b[0;31m---------------------------------------------------------------------------\u001b[0m",
      "\u001b[0;31mAttributeError\u001b[0m                            Traceback (most recent call last)",
      "Cell \u001b[0;32mIn[15], line 1\u001b[0m\n\u001b[0;32m----> 1\u001b[0m \u001b[43mroots\u001b[49m\u001b[43m[\u001b[49m\u001b[38;5;241;43m0\u001b[39;49m\u001b[43m]\u001b[49m\u001b[38;5;241;43m.\u001b[39;49m\u001b[43mneighbors\u001b[49m()\n",
      "\u001b[0;31mAttributeError\u001b[0m: 'str' object has no attribute 'neighbors'"
     ]
    }
   ],
   "source": [
    "roots[0].neighbors()"
   ]
  },
  {
   "cell_type": "code",
   "execution_count": 1,
   "metadata": {},
   "outputs": [],
   "source": [
    "%load_ext autoreload\n",
    "%autoreload 2"
   ]
  },
  {
   "cell_type": "code",
   "execution_count": 6,
   "metadata": {},
   "outputs": [],
   "source": [
    "from datasets import load_dataset\n",
    "\n",
    "data_dir = \"/mnt/nlpdata1/share/datasets/allenai___c4/tr/0.0.0/1588ec454efa1a09f29cd18ddd04fe05fc8653a2\"\n",
    "data_file = \"c4-train-00049-of-00545.arrow\"\n",
    "data = load_dataset(data_dir, data_files=data_file, streaming=True)"
   ]
  },
  {
   "cell_type": "code",
   "execution_count": 3,
   "metadata": {},
   "outputs": [
    {
     "data": {
      "text/plain": [
       "IterableDatasetDict({\n",
       "    train: IterableDataset({\n",
       "        features: ['text', 'timestamp', 'url'],\n",
       "        n_shards: 1\n",
       "    })\n",
       "})"
      ]
     },
     "execution_count": 3,
     "metadata": {},
     "output_type": "execute_result"
    }
   ],
   "source": [
    "data"
   ]
  },
  {
   "cell_type": "code",
   "execution_count": 7,
   "metadata": {},
   "outputs": [],
   "source": [
    "data_iter = iter(data[\"train\"])\n",
    "sample = next(data_iter)"
   ]
  },
  {
   "cell_type": "code",
   "execution_count": 6,
   "metadata": {},
   "outputs": [
    {
     "data": {
      "text/plain": [
       "{'text': 'Yeni Kasa Civic Kasko ve Sigorta Ücretlerini Paylaşın Lütfen | Sayfa 24 | CivicTR Forum\\nYeni Kasa Civic Kasko ve Sigorta Ücretlerini Paylaşın Lütfen\\nKonbuyu başlatan mask946\\nBaşlangıç tarihi 16 Eki 2016\\nFirst Önceki 24 of 25\\nkayafarukk\\nŞINGIL\\' Alıntı:\\n2018 FC5 Eco elegance eşim ilk kez araç aldığı için halk sigorta 936 kasko da aynı firmadan 900 tl fiyat aldım honda mutluhan kendi fiyat teklifinde ise 2300 groupama kasko, sigorta ise 1122 tabi sakın hataya düşüp araç aldığınız yere yaptırmayın\\nKasko için aldıgınız fiyat çok iyi bence de , teklifi bir kontrol edin derim teminatları vs\\nFc5 dizel 0 premiuma bayiden sigorta yaptırdım.Ak sigorta 1100 kasko Groupama 2100(hasarsızlık indirimi yok).Bu arada sigortam.net e de sordum yeni araç klozu 3 yıl olan tek şirket Groupama imiş.Diğerleri 1 yıl.\\nBeğeniler: NoFeaR\\nsigorta 720 ak sigorta\\nkasko 1330 unico (cam dahil) full kasko. hasarsızlık indirimi var honda servis anlaşmalı\\n2018 model Ankara plakalı 1.6 executive eco sedan aracıma\\n15/11/2018 tarihinde\\nTrafik sigortası - Ray Sigorta - 593,75 / 3 taksit\\nKasko - Unico Sigorta - 2.257,16TL / 9 taksit (biraz pahalı oldu ama 2.000TL altında teklif yoktu )\\nimm : 250.000TL\\ndoğal afet, terör, anahtarla çalınma dahil\\nikame araç : 2x15gün\\nmini onarım : Autoking\\nyetkili servis ve orjinal yedek parça (cam dahil)\\numarım yardımcı olur\\nBeğeniler: zozolu ve NoFeaR\\nFc5 elegance eco otomatik. Ruhsat cikacagi icin uzerimdeki araci devretmeden trafik yaptirmak zorunda kaldim . 896tl\\nTURKCELL T50 cihazından CivicTR mobile app kullanılarak gönderildi.\\nOzertr\\nCivic aracım yok\\nÖyle bişey yok yani zorunluluk yok sakın yaptırma yetkili servisi\\nHocam banada zorunlu olarak yaptırmanız gerekiyor dediler. (0 faiz kampanyasından yararlanabilmek için) Nasıl bir yol izleyelim? Bununla ilgili başvurabileceğimiz bir yer var mı? Henüz aracı almadım ama kasko işi korkutuyor beni fazladan 2 bin lira ona vereceğime arabama koruma yaptırırım daha iyi.\\nBu arada bir ek soru daha sorayım son zamanlarda araç alanlar hediye olarak neler alabildi? Seramik kaplamayı sordum dışardan firmaya yaptırıyoruz normalde 3 TL civarında ama size 2500 yaparız dediler çokta inandırıcı gelmedi. ) Önerisi olan var mı?\\nOzertr\\' Alıntı:\\nsakin yaptırmayın tanıdğınız sigortacı varsa \"poliçeleri hazırladım size(bayiye) mail atıyorum \"desin . hiç birşey diyemezler.. tanıdğınız sigortacıyla konuşun o halletsin.. ben trafik sigortasını yaptırdım bayiden 200 tl fazla fiyat çıkarmışlar yaptırmış bulundum.. kaskoyu dışarda yaptırdım..\\nzozolu\\' Alıntı:\\nÇok sağolun hocam.\\nBeğeniler: zozolu\\nBen de aracı alırken tutturdular illaki aldığım bayinin kendisine ait kaskosundan yaptıracaksın diye.\\nNeden dedim, efendim mecburlarmış da kredi kampanyasıymış vs...\\nFiyatı pahalı( eureko o zaman hem daha ucuzdu hemde %15 bonus veriyordu), mini onarım hizmeti sadece yılda bir kere 150 tl ye kadar, (ben her sene otoking e giderim, burada öyle bir seçenek yok. 150 lira mini hasarın işçiliğini bile karşılamaya yetmez) anahtar üzerindeyken çalınma koruması yok.\\nBaşka servise hasar için gittiğinde de yanlış hatırlamıyorsam farklı bir durum da vardı\\nAlmıyorum o zaman aracı dedim ondan sonra sustular. Yani kısaca hangi kasko ve zorunlu trafik sizin uygunsa onu seçin. Eğer gerçekten sıfır faiz kampanyası için kaskoyu belirli bir yerden yaptırma şartı varsa kampanya koşullarını yazılı olarak göstersinler size.\\nsanalcelik\\n2018 eco exe aracım için;\\n1050 TL trafik ve 2200 TL kasko fiyatı verildi. Herhangi bir hasarsızlık indirimim yok.',\n",
       " 'timestamp': datetime.datetime(2018, 12, 17, 13, 3, 42),\n",
       " 'url': 'https://civictr.com/threads/yeni-kasa-civic-kasko-ve-sigorta-uecretlerini-paylasin-luetfen.4347/page-24'}"
      ]
     },
     "execution_count": 6,
     "metadata": {},
     "output_type": "execute_result"
    }
   ],
   "source": [
    "sample"
   ]
  },
  {
   "cell_type": "code",
   "execution_count": 9,
   "metadata": {},
   "outputs": [
    {
     "data": {
      "text/plain": [
       "'2018-12-17 13:03:42'"
      ]
     },
     "execution_count": 9,
     "metadata": {},
     "output_type": "execute_result"
    }
   ],
   "source": [
    "str(sample[\"timestamp\"])"
   ]
  },
  {
   "cell_type": "code",
   "execution_count": 6,
   "metadata": {},
   "outputs": [
    {
     "data": {
      "text/plain": [
       "['yeni',\n",
       " 'kasa',\n",
       " 'civic',\n",
       " 'kasko',\n",
       " 've',\n",
       " 'sigorta',\n",
       " 'ücretlerini',\n",
       " 'paylaşın',\n",
       " 'lütfen',\n",
       " 'sayfa',\n",
       " 'civictr',\n",
       " 'forum',\n",
       " 'yeni',\n",
       " 'kasa',\n",
       " 'civic',\n",
       " 'kasko',\n",
       " 've',\n",
       " 'sigorta',\n",
       " 'ücretlerini',\n",
       " 'paylaşın',\n",
       " 'lütfen',\n",
       " 'konbuyu',\n",
       " 'başlatan',\n",
       " 'başlangıç',\n",
       " 'tarihi',\n",
       " 'eki',\n",
       " 'first',\n",
       " 'önceki',\n",
       " 'of',\n",
       " 'kayafarukk',\n",
       " 'şingil',\n",
       " 'alıntı',\n",
       " 'eco',\n",
       " 'elegance',\n",
       " 'eşim',\n",
       " 'ilk',\n",
       " 'kez',\n",
       " 'araç',\n",
       " 'aldığı',\n",
       " 'için',\n",
       " 'halk',\n",
       " 'sigorta',\n",
       " 'kasko',\n",
       " 'da',\n",
       " 'aynı',\n",
       " 'firmadan',\n",
       " 'tl',\n",
       " 'fiyat',\n",
       " 'aldım',\n",
       " 'honda',\n",
       " 'mutluhan',\n",
       " 'kendi',\n",
       " 'fiyat',\n",
       " 'teklifinde',\n",
       " 'ise',\n",
       " 'groupama',\n",
       " 'kasko',\n",
       " 'sigorta',\n",
       " 'ise',\n",
       " 'tabi',\n",
       " 'sakın',\n",
       " 'hataya',\n",
       " 'düşüp',\n",
       " 'araç',\n",
       " 'aldığınız',\n",
       " 'yere',\n",
       " 'yaptırmayın',\n",
       " 'kasko',\n",
       " 'için',\n",
       " 'aldıgınız',\n",
       " 'fiyat',\n",
       " 'çok',\n",
       " 'iyi',\n",
       " 'bence',\n",
       " 'de',\n",
       " 'teklifi',\n",
       " 'bir',\n",
       " 'kontrol',\n",
       " 'edin',\n",
       " 'derim',\n",
       " 'teminatları',\n",
       " 'vs',\n",
       " 'dizel',\n",
       " 'premiuma',\n",
       " 'bayiden',\n",
       " 'sigorta',\n",
       " 'yaptırdım',\n",
       " 'ak',\n",
       " 'sigorta',\n",
       " 'kasko',\n",
       " 'groupama',\n",
       " 'hasarsızlık',\n",
       " 'indirimi',\n",
       " 'yok',\n",
       " 'bu',\n",
       " 'arada',\n",
       " 'sigortam',\n",
       " 'net',\n",
       " 'e',\n",
       " 'de',\n",
       " 'sordum',\n",
       " 'yeni',\n",
       " 'araç',\n",
       " 'klozu',\n",
       " 'yıl',\n",
       " 'olan',\n",
       " 'tek',\n",
       " 'şirket',\n",
       " 'groupama',\n",
       " 'imiş',\n",
       " 'diğerleri',\n",
       " 'yıl',\n",
       " 'beğeniler',\n",
       " 'nofear',\n",
       " 'sigorta',\n",
       " 'ak',\n",
       " 'sigorta',\n",
       " 'kasko',\n",
       " 'unico',\n",
       " 'cam',\n",
       " 'dahil',\n",
       " 'full',\n",
       " 'kasko',\n",
       " 'hasarsızlık',\n",
       " 'indirimi',\n",
       " 'var',\n",
       " 'honda',\n",
       " 'servis',\n",
       " 'anlaşmalı',\n",
       " 'model',\n",
       " 'ankara',\n",
       " 'plakalı',\n",
       " 'executive',\n",
       " 'eco',\n",
       " 'sedan',\n",
       " 'aracıma',\n",
       " 'tarihinde',\n",
       " 'trafik',\n",
       " 'sigortası',\n",
       " 'ray',\n",
       " 'sigorta',\n",
       " 'taksit',\n",
       " 'kasko',\n",
       " 'unico',\n",
       " 'sigorta',\n",
       " 'taksit',\n",
       " 'biraz',\n",
       " 'pahalı',\n",
       " 'oldu',\n",
       " 'ama',\n",
       " 'altında',\n",
       " 'teklif',\n",
       " 'yoktu',\n",
       " 'imm',\n",
       " 'doğal',\n",
       " 'afet',\n",
       " 'terör',\n",
       " 'anahtarla',\n",
       " 'çalınma',\n",
       " 'dahil',\n",
       " 'ikame',\n",
       " 'araç',\n",
       " 'mini',\n",
       " 'onarım',\n",
       " 'autoking',\n",
       " 'yetkili',\n",
       " 'servis',\n",
       " 've',\n",
       " 'orjinal',\n",
       " 'yedek',\n",
       " 'parça',\n",
       " 'cam',\n",
       " 'dahil',\n",
       " 'umarım',\n",
       " 'yardımcı',\n",
       " 'olur',\n",
       " 'beğeniler',\n",
       " 'zozolu',\n",
       " 've',\n",
       " 'nofear',\n",
       " 'elegance',\n",
       " 'eco',\n",
       " 'otomatik',\n",
       " 'ruhsat',\n",
       " 'cikacagi',\n",
       " 'icin',\n",
       " 'uzerimdeki',\n",
       " 'araci',\n",
       " 'devretmeden',\n",
       " 'trafik',\n",
       " 'yaptirmak',\n",
       " 'zorunda',\n",
       " 'kaldim',\n",
       " 'turkcell',\n",
       " 'cihazından',\n",
       " 'civictr',\n",
       " 'mobile',\n",
       " 'app',\n",
       " 'kullanılarak',\n",
       " 'gönderildi',\n",
       " 'ozertr',\n",
       " 'civic',\n",
       " 'aracım',\n",
       " 'yok',\n",
       " 'öyle',\n",
       " 'bişey',\n",
       " 'yok',\n",
       " 'yani',\n",
       " 'zorunluluk',\n",
       " 'yok',\n",
       " 'sakın',\n",
       " 'yaptırma',\n",
       " 'yetkili',\n",
       " 'servisi',\n",
       " 'hocam',\n",
       " 'banada',\n",
       " 'zorunlu',\n",
       " 'olarak',\n",
       " 'yaptırmanız',\n",
       " 'gerekiyor',\n",
       " 'dediler',\n",
       " 'faiz',\n",
       " 'kampanyasından',\n",
       " 'yararlanabilmek',\n",
       " 'için',\n",
       " 'nasıl',\n",
       " 'bir',\n",
       " 'yol',\n",
       " 'izleyelim',\n",
       " 'bununla',\n",
       " 'ilgili',\n",
       " 'başvurabileceğimiz',\n",
       " 'bir',\n",
       " 'yer',\n",
       " 'var',\n",
       " 'mı',\n",
       " 'henüz',\n",
       " 'aracı',\n",
       " 'almadım',\n",
       " 'ama',\n",
       " 'kasko',\n",
       " 'işi',\n",
       " 'korkutuyor',\n",
       " 'beni',\n",
       " 'fazladan',\n",
       " 'bin',\n",
       " 'lira',\n",
       " 'ona',\n",
       " 'vereceğime',\n",
       " 'arabama',\n",
       " 'koruma',\n",
       " 'yaptırırım',\n",
       " 'daha',\n",
       " 'iyi',\n",
       " 'bu',\n",
       " 'arada',\n",
       " 'bir',\n",
       " 'ek',\n",
       " 'soru',\n",
       " 'daha',\n",
       " 'sorayım',\n",
       " 'son',\n",
       " 'zamanlarda',\n",
       " 'araç',\n",
       " 'alanlar',\n",
       " 'hediye',\n",
       " 'olarak',\n",
       " 'neler',\n",
       " 'alabildi',\n",
       " 'seramik',\n",
       " 'kaplamayı',\n",
       " 'sordum',\n",
       " 'dışardan',\n",
       " 'firmaya',\n",
       " 'yaptırıyoruz',\n",
       " 'normalde',\n",
       " 'tl',\n",
       " 'civarında',\n",
       " 'ama',\n",
       " 'size',\n",
       " 'yaparız',\n",
       " 'dediler',\n",
       " 'çokta',\n",
       " 'inandırıcı',\n",
       " 'gelmedi',\n",
       " 'önerisi',\n",
       " 'olan',\n",
       " 'var',\n",
       " 'mı',\n",
       " 'ozertr',\n",
       " 'alıntı',\n",
       " 'sakin',\n",
       " 'yaptırmayın',\n",
       " 'tanıdğınız',\n",
       " 'sigortacı',\n",
       " 'varsa',\n",
       " 'poliçeleri',\n",
       " 'hazırladım',\n",
       " 'size',\n",
       " 'bayiye',\n",
       " 'mail',\n",
       " 'atıyorum',\n",
       " 'desin',\n",
       " 'hiç',\n",
       " 'birşey',\n",
       " 'diyemezler',\n",
       " 'tanıdğınız',\n",
       " 'sigortacıyla',\n",
       " 'konuşun',\n",
       " 'o',\n",
       " 'halletsin',\n",
       " 'ben',\n",
       " 'trafik',\n",
       " 'sigortasını',\n",
       " 'yaptırdım',\n",
       " 'bayiden',\n",
       " 'tl',\n",
       " 'fazla',\n",
       " 'fiyat',\n",
       " 'çıkarmışlar',\n",
       " 'yaptırmış',\n",
       " 'bulundum',\n",
       " 'kaskoyu',\n",
       " 'dışarda',\n",
       " 'yaptırdım',\n",
       " 'zozolu',\n",
       " 'alıntı',\n",
       " 'çok',\n",
       " 'sağolun',\n",
       " 'hocam',\n",
       " 'beğeniler',\n",
       " 'zozolu',\n",
       " 'ben',\n",
       " 'de',\n",
       " 'aracı',\n",
       " 'alırken',\n",
       " 'tutturdular',\n",
       " 'illaki',\n",
       " 'aldığım',\n",
       " 'bayinin',\n",
       " 'kendisine',\n",
       " 'ait',\n",
       " 'kaskosundan',\n",
       " 'yaptıracaksın',\n",
       " 'diye',\n",
       " 'neden',\n",
       " 'dedim',\n",
       " 'efendim',\n",
       " 'mecburlarmış',\n",
       " 'da',\n",
       " 'kredi',\n",
       " 'kampanyasıymış',\n",
       " 'vs',\n",
       " 'fiyatı',\n",
       " 'pahalı',\n",
       " 'eureko',\n",
       " 'o',\n",
       " 'zaman',\n",
       " 'hem',\n",
       " 'daha',\n",
       " 'ucuzdu',\n",
       " 'hemde',\n",
       " 'bonus',\n",
       " 'veriyordu',\n",
       " 'mini',\n",
       " 'onarım',\n",
       " 'hizmeti',\n",
       " 'sadece',\n",
       " 'yılda',\n",
       " 'bir',\n",
       " 'kere',\n",
       " 'tl',\n",
       " 'ye',\n",
       " 'kadar',\n",
       " 'ben',\n",
       " 'her',\n",
       " 'sene',\n",
       " 'otoking',\n",
       " 'e',\n",
       " 'giderim',\n",
       " 'burada',\n",
       " 'öyle',\n",
       " 'bir',\n",
       " 'seçenek',\n",
       " 'yok',\n",
       " 'lira',\n",
       " 'mini',\n",
       " 'hasarın',\n",
       " 'işçiliğini',\n",
       " 'bile',\n",
       " 'karşılamaya',\n",
       " 'yetmez',\n",
       " 'anahtar',\n",
       " 'üzerindeyken',\n",
       " 'çalınma',\n",
       " 'koruması',\n",
       " 'yok',\n",
       " 'başka',\n",
       " 'servise',\n",
       " 'hasar',\n",
       " 'için',\n",
       " 'gittiğinde',\n",
       " 'de',\n",
       " 'yanlış',\n",
       " 'hatırlamıyorsam',\n",
       " 'farklı',\n",
       " 'bir',\n",
       " 'durum',\n",
       " 'da',\n",
       " 'vardı',\n",
       " 'almıyorum',\n",
       " 'o',\n",
       " 'zaman',\n",
       " 'aracı',\n",
       " 'dedim',\n",
       " 'ondan',\n",
       " 'sonra',\n",
       " 'sustular',\n",
       " 'yani',\n",
       " 'kısaca',\n",
       " 'hangi',\n",
       " 'kasko',\n",
       " 've',\n",
       " 'zorunlu',\n",
       " 'trafik',\n",
       " 'sizin',\n",
       " 'uygunsa',\n",
       " 'onu',\n",
       " 'seçin',\n",
       " 'eğer',\n",
       " 'gerçekten',\n",
       " 'sıfır',\n",
       " 'faiz',\n",
       " 'kampanyası',\n",
       " 'için',\n",
       " 'kaskoyu',\n",
       " 'belirli',\n",
       " 'bir',\n",
       " 'yerden',\n",
       " 'yaptırma',\n",
       " 'şartı',\n",
       " 'varsa',\n",
       " 'kampanya',\n",
       " 'koşullarını',\n",
       " 'yazılı',\n",
       " 'olarak',\n",
       " 'göstersinler',\n",
       " 'size',\n",
       " 'sanalcelik',\n",
       " 'eco',\n",
       " 'exe',\n",
       " 'aracım',\n",
       " 'için',\n",
       " 'tl',\n",
       " 'trafik',\n",
       " 've',\n",
       " 'tl',\n",
       " 'kasko',\n",
       " 'fiyatı',\n",
       " 'verildi',\n",
       " 'herhangi',\n",
       " 'bir',\n",
       " 'hasarsızlık',\n",
       " 'indirimim',\n",
       " 'yok']"
      ]
     },
     "execution_count": 6,
     "metadata": {},
     "output_type": "execute_result"
    }
   ],
   "source": [
    "import re\n",
    "\n",
    "text = sample[\"text\"]\n",
    "words = re.findall(r\"\\b[^\\d\\W]+\\b\", text)\n",
    "words = [word.lower() for word in words]\n",
    "words"
   ]
  },
  {
   "cell_type": "code",
   "execution_count": 27,
   "metadata": {},
   "outputs": [
    {
     "name": "stderr",
     "output_type": "stream",
     "text": [
      "Decomposing words: 100%|██████████| 313/313 [00:14<00:00, 21.44it/s]\n"
     ]
    }
   ],
   "source": [
    "from collections import Counter\n",
    "from morphology import decompose_tr, infer_best_decomposition, read_tr_dictionary\n",
    "from tqdm import tqdm \n",
    "\n",
    "counter = Counter(words)\n",
    "dictionary = read_tr_dictionary()\n",
    "decompositions = []\n",
    "\n",
    "for word in tqdm(counter, total=len(counter), desc=\"Decomposing words\"):\n",
    "    try:\n",
    "        decomps = [d.to_json() for d in decompose_tr(word)]\n",
    "        decomp = infer_best_decomposition(word, decomps, dictionary=dictionary)\n",
    "        if decomp:\n",
    "            decompositions.append({word: decomp})\n",
    "    except Exception as e:\n",
    "        print(e)\n",
    "        print(word)"
   ]
  },
  {
   "cell_type": "code",
   "execution_count": 28,
   "metadata": {},
   "outputs": [],
   "source": [
    "from utils import write_json\n",
    "\n",
    "write_json(decompositions, \"decomps.json\")"
   ]
  },
  {
   "cell_type": "code",
   "execution_count": 31,
   "metadata": {},
   "outputs": [
    {
     "data": {
      "text/plain": [
       "[{'root': 'göster',\n",
       "  'pos': 'VB',\n",
       "  'meta_morphemes': ['sHnlAr'],\n",
       "  'morphemes': ['sinler']}]"
      ]
     },
     "execution_count": 31,
     "metadata": {},
     "output_type": "execute_result"
    }
   ],
   "source": [
    "decomps = decompose_tr(\"göstersinler\")\n",
    "[d.to_json() for d in decomps]"
   ]
  },
  {
   "cell_type": "code",
   "execution_count": 30,
   "metadata": {},
   "outputs": [
    {
     "data": {
      "text/plain": [
       "True"
      ]
     },
     "execution_count": 30,
     "metadata": {},
     "output_type": "execute_result"
    }
   ],
   "source": [
    "\"onmak\" in dictionary"
   ]
  },
  {
   "cell_type": "code",
   "execution_count": 4,
   "metadata": {},
   "outputs": [
    {
     "name": "stdout",
     "output_type": "stream",
     "text": [
      "<class 'langdetect.language.Language'>\n"
     ]
    }
   ],
   "source": [
    "from langdetect import detect, detect_langs\n",
    "s = detect_langs(\"hello ne yapiyorsun?\")\n",
    "print(type(s[0]))"
   ]
  },
  {
   "cell_type": "code",
   "execution_count": 3,
   "metadata": {},
   "outputs": [
    {
     "name": "stderr",
     "output_type": "stream",
     "text": [
      "\u001b[32m2024-05-03 13:41:29.360\u001b[0m | \u001b[1mINFO    \u001b[0m | \u001b[36mdatatrove.utils.logging\u001b[0m:\u001b[36madd_task_logger\u001b[0m:\u001b[36m47\u001b[0m - \u001b[1mLaunching pipeline for rank=0\u001b[0m\n",
      "\u001b[32m2024-05-03 13:41:29.363\u001b[0m | \u001b[1mINFO    \u001b[0m | \u001b[36mdatatrove.utils.logging\u001b[0m:\u001b[36mlog_pipeline\u001b[0m:\u001b[36m76\u001b[0m - \u001b[1m\n",
      "--- 🛠️ PIPELINE 🛠\n",
      "📖 - READER: 🪶 Ipc\n",
      "🔻 - FILTER: 🌍 Language ID\n",
      "💽 - WRITER: 🐿 Jsonl\u001b[0m\n",
      "\u001b[32m2024-05-03 13:41:29.365\u001b[0m | \u001b[31m\u001b[1mERROR   \u001b[0m | \u001b[36mdatatrove.executor.base\u001b[0m:\u001b[36m_run_for_rank\u001b[0m:\u001b[36m95\u001b[0m - \u001b[31m\u001b[1m__enter__\u001b[0m\n",
      "\u001b[33m\u001b[1mTraceback (most recent call last):\u001b[0m\n",
      "\n",
      "  File \"/home/ismayilz/.conda/envs/morphgen2/lib/python3.10/runpy.py\", line 196, in _run_module_as_main\n",
      "    return _run_code(code, main_globals, None,\n",
      "           │         │     └ {'__name__': '__main__', '__doc__': 'Entry point for launching an IPython kernel.\\n\\nThis is separate from the ipykernel pack...\n",
      "           │         └ <code object <module> at 0x7f2849cb2c30, file \"/home/ismayilz/.conda/envs/morphgen2/lib/python3.10/site-packages/ipykernel_la...\n",
      "           └ <function _run_code at 0x7f2849caf5b0>\n",
      "  File \"/home/ismayilz/.conda/envs/morphgen2/lib/python3.10/runpy.py\", line 86, in _run_code\n",
      "    exec(code, run_globals)\n",
      "         │     └ {'__name__': '__main__', '__doc__': 'Entry point for launching an IPython kernel.\\n\\nThis is separate from the ipykernel pack...\n",
      "         └ <code object <module> at 0x7f2849cb2c30, file \"/home/ismayilz/.conda/envs/morphgen2/lib/python3.10/site-packages/ipykernel_la...\n",
      "  File \"/home/ismayilz/.conda/envs/morphgen2/lib/python3.10/site-packages/ipykernel_launcher.py\", line 18, in <module>\n",
      "    app.launch_new_instance()\n",
      "    │   └ <bound method Application.launch_instance of <class 'ipykernel.kernelapp.IPKernelApp'>>\n",
      "    └ <module 'ipykernel.kernelapp' from '/home/ismayilz/.conda/envs/morphgen2/lib/python3.10/site-packages/ipykernel/kernelapp.py'>\n",
      "  File \"/home/ismayilz/.conda/envs/morphgen2/lib/python3.10/site-packages/traitlets/config/application.py\", line 1075, in launch_instance\n",
      "    app.start()\n",
      "    │   └ <function IPKernelApp.start at 0x7f284743c3a0>\n",
      "    └ <ipykernel.kernelapp.IPKernelApp object at 0x7f2849c4cd00>\n",
      "  File \"/home/ismayilz/.conda/envs/morphgen2/lib/python3.10/site-packages/ipykernel/kernelapp.py\", line 739, in start\n",
      "    self.io_loop.start()\n",
      "    │    │       └ <function BaseAsyncIOLoop.start at 0x7f284743e170>\n",
      "    │    └ <tornado.platform.asyncio.AsyncIOMainLoop object at 0x7f2847491060>\n",
      "    └ <ipykernel.kernelapp.IPKernelApp object at 0x7f2849c4cd00>\n",
      "  File \"/home/ismayilz/.conda/envs/morphgen2/lib/python3.10/site-packages/tornado/platform/asyncio.py\", line 205, in start\n",
      "    self.asyncio_loop.run_forever()\n",
      "    │    │            └ <function BaseEventLoop.run_forever at 0x7f2848b4f520>\n",
      "    │    └ <_UnixSelectorEventLoop running=True closed=False debug=False>\n",
      "    └ <tornado.platform.asyncio.AsyncIOMainLoop object at 0x7f2847491060>\n",
      "  File \"/home/ismayilz/.conda/envs/morphgen2/lib/python3.10/asyncio/base_events.py\", line 603, in run_forever\n",
      "    self._run_once()\n",
      "    │    └ <function BaseEventLoop._run_once at 0x7f2848b51090>\n",
      "    └ <_UnixSelectorEventLoop running=True closed=False debug=False>\n",
      "  File \"/home/ismayilz/.conda/envs/morphgen2/lib/python3.10/asyncio/base_events.py\", line 1909, in _run_once\n",
      "    handle._run()\n",
      "    │      └ <function Handle._run at 0x7f2848d30790>\n",
      "    └ <Handle Task.task_wakeup(<Future finis...6B)>, ...],))>)>\n",
      "  File \"/home/ismayilz/.conda/envs/morphgen2/lib/python3.10/asyncio/events.py\", line 80, in _run\n",
      "    self._context.run(self._callback, *self._args)\n",
      "    │    │            │    │           │    └ <member '_args' of 'Handle' objects>\n",
      "    │    │            │    │           └ <Handle Task.task_wakeup(<Future finis...6B)>, ...],))>)>\n",
      "    │    │            │    └ <member '_callback' of 'Handle' objects>\n",
      "    │    │            └ <Handle Task.task_wakeup(<Future finis...6B)>, ...],))>)>\n",
      "    │    └ <member '_context' of 'Handle' objects>\n",
      "    └ <Handle Task.task_wakeup(<Future finis...6B)>, ...],))>)>\n",
      "  File \"/home/ismayilz/.conda/envs/morphgen2/lib/python3.10/site-packages/ipykernel/kernelbase.py\", line 545, in dispatch_queue\n",
      "    await self.process_one()\n",
      "          │    └ <function Kernel.process_one at 0x7f28473d9630>\n",
      "          └ <ipykernel.ipkernel.IPythonKernel object at 0x7f2847491630>\n",
      "  File \"/home/ismayilz/.conda/envs/morphgen2/lib/python3.10/site-packages/ipykernel/kernelbase.py\", line 534, in process_one\n",
      "    await dispatch(*args)\n",
      "          │         └ ([<zmq.Frame(b'd904570c-aec'...36B)>, <zmq.Frame(b'<IDS|MSG>')>, <zmq.Frame(b'6046b43d4485'...64B)>, <zmq.Frame(b'{\"date\":\"20...\n",
      "          └ <bound method Kernel.dispatch_shell of <ipykernel.ipkernel.IPythonKernel object at 0x7f2847491630>>\n",
      "  File \"/home/ismayilz/.conda/envs/morphgen2/lib/python3.10/site-packages/ipykernel/kernelbase.py\", line 437, in dispatch_shell\n",
      "    await result\n",
      "          └ <coroutine object IPythonKernel.execute_request at 0x7f2835269cb0>\n",
      "  File \"/home/ismayilz/.conda/envs/morphgen2/lib/python3.10/site-packages/ipykernel/ipkernel.py\", line 362, in execute_request\n",
      "    await super().execute_request(stream, ident, parent)\n",
      "                                  │       │      └ {'header': {'date': datetime.datetime(2024, 5, 3, 13, 41, 29, 286000, tzinfo=tzlocal()), 'msg_id': '74b45973-1bd7-4a3e-9b69-b...\n",
      "                                  │       └ [b'd904570c-aec3-429e-9f66-25db34345763']\n",
      "                                  └ <zmq.eventloop.zmqstream.ZMQStream object at 0x7f2847490df0>\n",
      "  File \"/home/ismayilz/.conda/envs/morphgen2/lib/python3.10/site-packages/ipykernel/kernelbase.py\", line 778, in execute_request\n",
      "    reply_content = await reply_content\n",
      "                          └ <coroutine object IPythonKernel.do_execute at 0x7f28200c8ac0>\n",
      "  File \"/home/ismayilz/.conda/envs/morphgen2/lib/python3.10/site-packages/ipykernel/ipkernel.py\", line 449, in do_execute\n",
      "    res = shell.run_cell(\n",
      "          │     └ <function ZMQInteractiveShell.run_cell at 0x7f284741c8b0>\n",
      "          └ <ipykernel.zmqshell.ZMQInteractiveShell object at 0x7f2836380a30>\n",
      "  File \"/home/ismayilz/.conda/envs/morphgen2/lib/python3.10/site-packages/ipykernel/zmqshell.py\", line 549, in run_cell\n",
      "    return super().run_cell(*args, **kwargs)\n",
      "                             │       └ {'store_history': True, 'silent': False, 'cell_id': 'vscode-notebook-cell://ssh-remote%2Biccluster215.iccluster.epfl.ch/mnt/n...\n",
      "                             └ ('from datatrove.pipeline.readers import JsonlReader, IpcReader, CSVReader\\n# from datatrove.pipeline.filters.c4_filters impo...\n",
      "  File \"/home/ismayilz/.conda/envs/morphgen2/lib/python3.10/site-packages/IPython/core/interactiveshell.py\", line 3075, in run_cell\n",
      "    result = self._run_cell(\n",
      "             │    └ <function InteractiveShell._run_cell at 0x7f2847df37f0>\n",
      "             └ <ipykernel.zmqshell.ZMQInteractiveShell object at 0x7f2836380a30>\n",
      "  File \"/home/ismayilz/.conda/envs/morphgen2/lib/python3.10/site-packages/IPython/core/interactiveshell.py\", line 3130, in _run_cell\n",
      "    result = runner(coro)\n",
      "             │      └ <coroutine object InteractiveShell.run_cell_async at 0x7f282036be60>\n",
      "             └ <function _pseudo_sync_runner at 0x7f2847dd3130>\n",
      "  File \"/home/ismayilz/.conda/envs/morphgen2/lib/python3.10/site-packages/IPython/core/async_helpers.py\", line 129, in _pseudo_sync_runner\n",
      "    coro.send(None)\n",
      "    │    └ <method 'send' of 'coroutine' objects>\n",
      "    └ <coroutine object InteractiveShell.run_cell_async at 0x7f282036be60>\n",
      "  File \"/home/ismayilz/.conda/envs/morphgen2/lib/python3.10/site-packages/IPython/core/interactiveshell.py\", line 3334, in run_cell_async\n",
      "    has_raised = await self.run_ast_nodes(code_ast.body, cell_name,\n",
      "                       │    │             │        │     └ '/tmp/ipykernel_8887/3551109586.py'\n",
      "                       │    │             │        └ [<ast.ImportFrom object at 0x7f28203a1270>, <ast.ImportFrom object at 0x7f28203a1450>, <ast.ImportFrom object at 0x7f28203a14...\n",
      "                       │    │             └ <ast.Module object at 0x7f28203a11b0>\n",
      "                       │    └ <function InteractiveShell.run_ast_nodes at 0x7f2847df3ac0>\n",
      "                       └ <ipykernel.zmqshell.ZMQInteractiveShell object at 0x7f2836380a30>\n",
      "  File \"/home/ismayilz/.conda/envs/morphgen2/lib/python3.10/site-packages/IPython/core/interactiveshell.py\", line 3517, in run_ast_nodes\n",
      "    if await self.run_code(code, result, async_=asy):\n",
      "             │    │        │     │              └ False\n",
      "             │    │        │     └ <ExecutionResult object at 7f2820380520, execution_count=3 error_before_exec=None error_in_exec=None info=<ExecutionInfo obje...\n",
      "             │    │        └ <code object <module> at 0x7f277ff6d580, file \"/tmp/ipykernel_8887/3551109586.py\", line 1>\n",
      "             │    └ <function InteractiveShell.run_code at 0x7f2847df3b50>\n",
      "             └ <ipykernel.zmqshell.ZMQInteractiveShell object at 0x7f2836380a30>\n",
      "  File \"/home/ismayilz/.conda/envs/morphgen2/lib/python3.10/site-packages/IPython/core/interactiveshell.py\", line 3577, in run_code\n",
      "    exec(code_obj, self.user_global_ns, self.user_ns)\n",
      "         │         │    │               │    └ {'__name__': '__main__', '__doc__': 'Automatically created module for IPython interactive environment', '__package__': None, ...\n",
      "         │         │    │               └ <ipykernel.zmqshell.ZMQInteractiveShell object at 0x7f2836380a30>\n",
      "         │         │    └ <property object at 0x7f2847de04a0>\n",
      "         │         └ <ipykernel.zmqshell.ZMQInteractiveShell object at 0x7f2836380a30>\n",
      "         └ <code object <module> at 0x7f277ff6d580, file \"/tmp/ipykernel_8887/3551109586.py\", line 1>\n",
      "\n",
      "  File \"\u001b[32m/tmp/ipykernel_8887/\u001b[0m\u001b[32m\u001b[1m3551109586.py\u001b[0m\", line \u001b[33m70\u001b[0m, in \u001b[35m<module>\u001b[0m\n",
      "    \u001b[1mpreprocessing\u001b[0m\u001b[35m\u001b[1m.\u001b[0m\u001b[1mrun\u001b[0m\u001b[1m(\u001b[0m\u001b[1m)\u001b[0m\n",
      "    \u001b[36m│             └ \u001b[0m\u001b[36m\u001b[1m<function LocalPipelineExecutor.run at 0x7f277ff140d0>\u001b[0m\n",
      "    \u001b[36m└ \u001b[0m\u001b[36m\u001b[1m<datatrove.executor.local.LocalPipelineExecutor object at 0x7f28203c0550>\u001b[0m\n",
      "\n",
      "  File \"/home/ismayilz/.conda/envs/morphgen2/lib/python3.10/site-packages/datatrove/executor/local.py\", line 125, in run\n",
      "    stats.append(self._launch_run_for_rank(rank, ranks_q))\n",
      "    │     │      │    │                    │     └ <AutoProxy[Queue] object, typeid 'Queue' at 0x7f28203783d0>\n",
      "    │     │      │    │                    └ 0\n",
      "    │     │      │    └ <function LocalPipelineExecutor._launch_run_for_rank at 0x7f277ff14040>\n",
      "    │     │      └ <datatrove.executor.local.LocalPipelineExecutor object at 0x7f28203c0550>\n",
      "    │     └ <method 'append' of 'list' objects>\n",
      "    └ []\n",
      "  File \"/home/ismayilz/.conda/envs/morphgen2/lib/python3.10/site-packages/datatrove/executor/local.py\", line 74, in _launch_run_for_rank\n",
      "    return self._run_for_rank(rank, local_rank)\n",
      "           │    │             │     └ 0\n",
      "           │    │             └ 0\n",
      "           │    └ <function PipelineExecutor._run_for_rank at 0x7f277ff03be0>\n",
      "           └ <datatrove.executor.local.LocalPipelineExecutor object at 0x7f28203c0550>\n",
      "> File \"/home/ismayilz/.conda/envs/morphgen2/lib/python3.10/site-packages/datatrove/executor/base.py\", line 83, in _run_for_rank\n",
      "    deque(pipelined_data, maxlen=0)\n",
      "    │     └ <generator object DiskWriter.run at 0x7f277fe2c820>\n",
      "    └ <class 'collections.deque'>\n",
      "  File \"/home/ismayilz/.conda/envs/morphgen2/lib/python3.10/site-packages/datatrove/pipeline/writers/disk_base.py\", line 173, in run\n",
      "    for document in data:\n",
      "                    └ <generator object BaseFilter.run at 0x7f277fefa9d0>\n",
      "  File \"/home/ismayilz/.conda/envs/morphgen2/lib/python3.10/site-packages/datatrove/pipeline/filters/base_filter.py\", line 46, in run\n",
      "    with self.exclusion_writer if self.exclusion_writer else contextlib.nullcontext() as writer:\n",
      "         │    │                   │    │                     │          └ <class 'contextlib.nullcontext'>\n",
      "         │    │                   │    │                     └ <module 'contextlib' from '/home/ismayilz/.conda/envs/morphgen2/lib/python3.10/contextlib.py'>\n",
      "         │    │                   │    └ '/mnt/nlpdata1/home/ismayilz/morph-gen-c4/lang_filter_removed'\n",
      "         │    │                   └ 🔻 - FILTER: 🌍 Language ID\n",
      "         │    └ '/mnt/nlpdata1/home/ismayilz/morph-gen-c4/lang_filter_removed'\n",
      "         └ 🔻 - FILTER: 🌍 Language ID\n",
      "\n",
      "\u001b[31m\u001b[1mAttributeError\u001b[0m:\u001b[1m __enter__\u001b[0m\n"
     ]
    },
    {
     "ename": "AttributeError",
     "evalue": "__enter__",
     "output_type": "error",
     "traceback": [
      "\u001b[0;31m---------------------------------------------------------------------------\u001b[0m",
      "\u001b[0;31mAttributeError\u001b[0m                            Traceback (most recent call last)",
      "Cell \u001b[0;32mIn[3], line 70\u001b[0m\n\u001b[1;32m     57\u001b[0m         \u001b[38;5;28;01mreturn\u001b[39;00m tr_score \u001b[38;5;241m>\u001b[39m \u001b[38;5;28mself\u001b[39m\u001b[38;5;241m.\u001b[39mlanguage_threshold\n\u001b[1;32m     59\u001b[0m preprocessing \u001b[38;5;241m=\u001b[39m LocalPipelineExecutor(\n\u001b[1;32m     60\u001b[0m     pipeline\u001b[38;5;241m=\u001b[39m[\n\u001b[1;32m     61\u001b[0m         IpcReader(data_dir, stream\u001b[38;5;241m=\u001b[39m\u001b[38;5;28;01mTrue\u001b[39;00m, progress\u001b[38;5;241m=\u001b[39m\u001b[38;5;28;01mTrue\u001b[39;00m, glob_pattern\u001b[38;5;241m=\u001b[39m\u001b[38;5;124m\"\u001b[39m\u001b[38;5;124mc4-validation.arrow\u001b[39m\u001b[38;5;124m\"\u001b[39m),\n\u001b[0;32m   (...)\u001b[0m\n\u001b[1;32m     67\u001b[0m     workers\u001b[38;5;241m=\u001b[39m\u001b[38;5;241m1\u001b[39m\n\u001b[1;32m     68\u001b[0m )\n\u001b[0;32m---> 70\u001b[0m \u001b[43mpreprocessing\u001b[49m\u001b[38;5;241;43m.\u001b[39;49m\u001b[43mrun\u001b[49m\u001b[43m(\u001b[49m\u001b[43m)\u001b[49m\n",
      "File \u001b[0;32m~/.conda/envs/morphgen2/lib/python3.10/site-packages/datatrove/executor/local.py:125\u001b[0m, in \u001b[0;36mLocalPipelineExecutor.run\u001b[0;34m(self)\u001b[0m\n\u001b[1;32m    123\u001b[0m     \u001b[38;5;28;01mfor\u001b[39;00m rank \u001b[38;5;129;01min\u001b[39;00m ranks_to_run:\n\u001b[1;32m    124\u001b[0m         \u001b[38;5;28mself\u001b[39m\u001b[38;5;241m.\u001b[39mpipeline \u001b[38;5;241m=\u001b[39m deepcopy(pipeline)\n\u001b[0;32m--> 125\u001b[0m         stats\u001b[38;5;241m.\u001b[39mappend(\u001b[38;5;28;43mself\u001b[39;49m\u001b[38;5;241;43m.\u001b[39;49m\u001b[43m_launch_run_for_rank\u001b[49m\u001b[43m(\u001b[49m\u001b[43mrank\u001b[49m\u001b[43m,\u001b[49m\u001b[43m \u001b[49m\u001b[43mranks_q\u001b[49m\u001b[43m)\u001b[49m)\n\u001b[1;32m    126\u001b[0m \u001b[38;5;28;01melse\u001b[39;00m:\n\u001b[1;32m    127\u001b[0m     completed_counter \u001b[38;5;241m=\u001b[39m mg\u001b[38;5;241m.\u001b[39mValue(\u001b[38;5;124m\"\u001b[39m\u001b[38;5;124mi\u001b[39m\u001b[38;5;124m\"\u001b[39m, skipped)\n",
      "File \u001b[0;32m~/.conda/envs/morphgen2/lib/python3.10/site-packages/datatrove/executor/local.py:74\u001b[0m, in \u001b[0;36mLocalPipelineExecutor._launch_run_for_rank\u001b[0;34m(self, rank, ranks_q, completed, completed_lock)\u001b[0m\n\u001b[1;32m     72\u001b[0m local_rank \u001b[38;5;241m=\u001b[39m ranks_q\u001b[38;5;241m.\u001b[39mget()\n\u001b[1;32m     73\u001b[0m \u001b[38;5;28;01mtry\u001b[39;00m:\n\u001b[0;32m---> 74\u001b[0m     \u001b[38;5;28;01mreturn\u001b[39;00m \u001b[38;5;28;43mself\u001b[39;49m\u001b[38;5;241;43m.\u001b[39;49m\u001b[43m_run_for_rank\u001b[49m\u001b[43m(\u001b[49m\u001b[43mrank\u001b[49m\u001b[43m,\u001b[49m\u001b[43m \u001b[49m\u001b[43mlocal_rank\u001b[49m\u001b[43m)\u001b[49m\n\u001b[1;32m     75\u001b[0m \u001b[38;5;28;01mfinally\u001b[39;00m:\n\u001b[1;32m     76\u001b[0m     \u001b[38;5;28;01mif\u001b[39;00m completed \u001b[38;5;129;01mand\u001b[39;00m completed_lock:\n",
      "File \u001b[0;32m~/.conda/envs/morphgen2/lib/python3.10/site-packages/datatrove/executor/base.py:96\u001b[0m, in \u001b[0;36mPipelineExecutor._run_for_rank\u001b[0;34m(self, rank, local_rank)\u001b[0m\n\u001b[1;32m     94\u001b[0m \u001b[38;5;28;01mexcept\u001b[39;00m \u001b[38;5;167;01mException\u001b[39;00m \u001b[38;5;28;01mas\u001b[39;00m e:\n\u001b[1;32m     95\u001b[0m     logger\u001b[38;5;241m.\u001b[39mexception(e)\n\u001b[0;32m---> 96\u001b[0m     \u001b[38;5;28;01mraise\u001b[39;00m e\n\u001b[1;32m     97\u001b[0m \u001b[38;5;28;01mfinally\u001b[39;00m:\n\u001b[1;32m     98\u001b[0m     close_task_logger(logfile)\n",
      "File \u001b[0;32m~/.conda/envs/morphgen2/lib/python3.10/site-packages/datatrove/executor/base.py:83\u001b[0m, in \u001b[0;36mPipelineExecutor._run_for_rank\u001b[0;34m(self, rank, local_rank)\u001b[0m\n\u001b[1;32m     81\u001b[0m         \u001b[38;5;28;01mraise\u001b[39;00m \u001b[38;5;167;01mValueError\u001b[39;00m\n\u001b[1;32m     82\u001b[0m \u001b[38;5;28;01mif\u001b[39;00m pipelined_data:\n\u001b[0;32m---> 83\u001b[0m     \u001b[43mdeque\u001b[49m\u001b[43m(\u001b[49m\u001b[43mpipelined_data\u001b[49m\u001b[43m,\u001b[49m\u001b[43m \u001b[49m\u001b[43mmaxlen\u001b[49m\u001b[38;5;241;43m=\u001b[39;49m\u001b[38;5;241;43m0\u001b[39;49m\u001b[43m)\u001b[49m\n\u001b[1;32m     85\u001b[0m logger\u001b[38;5;241m.\u001b[39msuccess(\u001b[38;5;124mf\u001b[39m\u001b[38;5;124m\"\u001b[39m\u001b[38;5;124mProcessing done for \u001b[39m\u001b[38;5;132;01m{\u001b[39;00mrank\u001b[38;5;132;01m=}\u001b[39;00m\u001b[38;5;124m\"\u001b[39m)\n\u001b[1;32m     87\u001b[0m \u001b[38;5;66;03m# stats\u001b[39;00m\n",
      "File \u001b[0;32m~/.conda/envs/morphgen2/lib/python3.10/site-packages/datatrove/pipeline/writers/disk_base.py:173\u001b[0m, in \u001b[0;36mDiskWriter.run\u001b[0;34m(self, data, rank, world_size)\u001b[0m\n\u001b[1;32m    162\u001b[0m \u001b[38;5;250m\u001b[39m\u001b[38;5;124;03m\"\"\"\u001b[39;00m\n\u001b[1;32m    163\u001b[0m \u001b[38;5;124;03mSimply call `write` for each document\u001b[39;00m\n\u001b[1;32m    164\u001b[0m \u001b[38;5;124;03mArgs:\u001b[39;00m\n\u001b[0;32m   (...)\u001b[0m\n\u001b[1;32m    170\u001b[0m \n\u001b[1;32m    171\u001b[0m \u001b[38;5;124;03m\"\"\"\u001b[39;00m\n\u001b[1;32m    172\u001b[0m \u001b[38;5;28;01mwith\u001b[39;00m \u001b[38;5;28mself\u001b[39m:\n\u001b[0;32m--> 173\u001b[0m     \u001b[38;5;28;01mfor\u001b[39;00m document \u001b[38;5;129;01min\u001b[39;00m data:\n\u001b[1;32m    174\u001b[0m         \u001b[38;5;28;01mwith\u001b[39;00m \u001b[38;5;28mself\u001b[39m\u001b[38;5;241m.\u001b[39mtrack_time():\n\u001b[1;32m    175\u001b[0m             \u001b[38;5;28mself\u001b[39m\u001b[38;5;241m.\u001b[39mwrite(document, rank)\n",
      "File \u001b[0;32m~/.conda/envs/morphgen2/lib/python3.10/site-packages/datatrove/pipeline/filters/base_filter.py:46\u001b[0m, in \u001b[0;36mBaseFilter.run\u001b[0;34m(self, data, rank, world_size)\u001b[0m\n\u001b[1;32m     45\u001b[0m \u001b[38;5;28;01mdef\u001b[39;00m \u001b[38;5;21mrun\u001b[39m(\u001b[38;5;28mself\u001b[39m, data: DocumentsPipeline, rank: \u001b[38;5;28mint\u001b[39m \u001b[38;5;241m=\u001b[39m \u001b[38;5;241m0\u001b[39m, world_size: \u001b[38;5;28mint\u001b[39m \u001b[38;5;241m=\u001b[39m \u001b[38;5;241m1\u001b[39m) \u001b[38;5;241m-\u001b[39m\u001b[38;5;241m>\u001b[39m DocumentsPipeline:\n\u001b[0;32m---> 46\u001b[0m     \u001b[38;5;28;01mwith\u001b[39;00m \u001b[38;5;28mself\u001b[39m\u001b[38;5;241m.\u001b[39mexclusion_writer \u001b[38;5;28;01mif\u001b[39;00m \u001b[38;5;28mself\u001b[39m\u001b[38;5;241m.\u001b[39mexclusion_writer \u001b[38;5;28;01melse\u001b[39;00m contextlib\u001b[38;5;241m.\u001b[39mnullcontext() \u001b[38;5;28;01mas\u001b[39;00m writer:\n\u001b[1;32m     47\u001b[0m         \u001b[38;5;28;01mfor\u001b[39;00m doc \u001b[38;5;129;01min\u001b[39;00m data:\n\u001b[1;32m     48\u001b[0m             \u001b[38;5;28mself\u001b[39m\u001b[38;5;241m.\u001b[39mstat_update(StatHints\u001b[38;5;241m.\u001b[39mtotal)\n",
      "\u001b[0;31mAttributeError\u001b[0m: __enter__"
     ]
    }
   ],
   "source": [
    "from datatrove.pipeline.readers import JsonlReader, IpcReader, CSVReader\n",
    "# from datatrove.pipeline.filters.c4_filters import C4QualityFilter\n",
    "from datatrove.executor import LocalPipelineExecutor\n",
    "from datatrove.data import DocumentsPipeline\n",
    "from langdetect import detect, detect_langs\n",
    "from datatrove.data import Document\n",
    "from datatrove.pipeline.filters.base_filter import BaseFilter\n",
    "from datatrove.pipeline.writers.disk_base import DiskWriter\n",
    "from datatrove.pipeline.writers.jsonl import JsonlWriter\n",
    "\n",
    "def normalize(data: DocumentsPipeline, rank: int = 0, world_size: int = 1) -> DocumentsPipeline:\n",
    "    for document in data:\n",
    "        document.timestamp = str(document.timestamp)\n",
    "        yield document\n",
    "\n",
    "data_dir = \"/mnt/nlpdata1/share/datasets/allenai___c4/tr/0.0.0/1588ec454efa1a09f29cd18ddd04fe05fc8653a2\"\n",
    "dump_data_dir = \"/mnt/nlpdata1/home/ismayilz/morph-gen-c4\"\n",
    "\n",
    "class TRLanguageFilter(BaseFilter):\n",
    "    name = \"🌍 Language ID\"\n",
    "    _requires_dependencies = [\"langdetect\"]\n",
    "\n",
    "    def __init__(\n",
    "        self,\n",
    "        language_threshold: float = 0.9,\n",
    "        exclusion_writer: DiskWriter = None,\n",
    "    ):\n",
    "        \"\"\"\n",
    "        filters if the predicted language is not Turkish or if the language score is below language\n",
    "        language_threshold\n",
    "\n",
    "        Args:\n",
    "            language_threshold: language_threshold minimum score to accept a document\n",
    "            exclusion_writer:\n",
    "        \"\"\"\n",
    "        super().__init__(exclusion_writer)\n",
    "        self.language_threshold = language_threshold\n",
    "        self._model = None\n",
    "\n",
    "    def filter(self, doc: Document) -> bool:\n",
    "        \"\"\"Args:\n",
    "            doc: document\n",
    "\n",
    "        Returns:\n",
    "            is_filter\n",
    "        \"\"\"\n",
    "\n",
    "        lang_scores = detect_langs(doc.text)\n",
    "        tr_score = 0\n",
    "\n",
    "        for lang_score in lang_scores:\n",
    "            lang, score = lang_score.split(\":\")\n",
    "            if lang == \"tr\":\n",
    "                tr_score = float(score)\n",
    "\n",
    "        doc.metadata[\"tr_score\"] = tr_score\n",
    "        return tr_score > self.language_threshold\n",
    "    \n",
    "preprocessing = LocalPipelineExecutor(\n",
    "    pipeline=[\n",
    "        IpcReader(data_dir, stream=True, progress=True, glob_pattern=\"c4-validation.arrow\"),\n",
    "        normalize,\n",
    "        TRLanguageFilter(exclusion_writer=f\"{dump_data_dir}/lang_filter_removed\"),\n",
    "        JsonlWriter(f\"{dump_data_dir}/lang_filtered\", \"validation_${rank}.jsonl\")\n",
    "    ],\n",
    "    logging_dir=\"logs/\",\n",
    "    tasks=1,\n",
    "    workers=1\n",
    ")\n",
    "\n",
    "preprocessing.run()"
   ]
  },
  {
   "cell_type": "code",
   "execution_count": 4,
   "metadata": {},
   "outputs": [
    {
     "data": {
      "text/plain": [
       "'iso8859-1'"
      ]
     },
     "execution_count": 4,
     "metadata": {},
     "output_type": "execute_result"
    }
   ],
   "source": [
    "import sys\n",
    "\n",
    "sys.set"
   ]
  }
 ],
 "metadata": {
  "kernelspec": {
   "display_name": "til",
   "language": "python",
   "name": "python3"
  },
  "language_info": {
   "codemirror_mode": {
    "name": "ipython",
    "version": 3
   },
   "file_extension": ".py",
   "mimetype": "text/x-python",
   "name": "python",
   "nbconvert_exporter": "python",
   "pygments_lexer": "ipython3",
   "version": "3.9.7"
  }
 },
 "nbformat": 4,
 "nbformat_minor": 2
}
