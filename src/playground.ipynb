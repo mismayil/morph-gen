{
 "cells": [
  {
   "cell_type": "code",
   "execution_count": 2,
   "metadata": {},
   "outputs": [
    {
     "data": {
      "text/plain": [
       "['(de[VB]+[Polarity=Pos])([VN]-r[Derivation=AorNom]+[PersonNumber=A3sg]+[Possessive=Pnon]+[Case=Bare])([NOMP]-sH[Derivation=Sim]+[PersonNumber=A3sg]+Hn[Possessive=P2sg]+NDA[Case=Loc]+[Copula=PresCop]+YHm[PersonNumber=V1sg])',\n",
       " '(ders[NOMP]+[PersonNumber=A3sg]+Hn[Possessive=P2sg]+NDA[Case=Loc]+[Copula=PresCop]+YHm[PersonNumber=V1sg])',\n",
       " '(ders[NOMP]+[PersonNumber=A3sg]+SH[Possessive=P3sg]+NDA[Case=Loc]+[Copula=PresCop]+YHm[PersonNumber=V1sg])']"
      ]
     },
     "execution_count": 2,
     "metadata": {},
     "output_type": "execute_result"
    }
   ],
   "source": [
    "from turkish_morphology import decompose, analyze\n",
    "\n",
    "word = \"kitaplarımızdaki\"\n",
    "word = \"yapamadıklarımızdan\"\n",
    "sentence = \"Yazarın kitaplarını yayın hakkını elinde bulunduran Aziz Nesin Vakfı'ndan yapılan açıklamaya göre,ilki 1946 yılında basılan Aziz Nesin'in kitapları, o dönemden bu yana 10 milyon 780 bin adet basıldı ve dağıtıldı\"\n",
    "word = \"dersindeyim\"\n",
    "\n",
    "analyses = analyze.surface_form(word, use_proper_feature=False)\n",
    "decomposition = decompose.human_readable_analysis(analyses[0])\n",
    "\n",
    "analyses\n",
    "# decomposition"
   ]
  },
  {
   "cell_type": "code",
   "execution_count": 3,
   "metadata": {},
   "outputs": [
    {
     "data": {
      "text/plain": [
       "[Decomposition(root=ders, pos=NOMP, meta_morphemes=['SH', 'NDA', 'YHm'], morphemes=['i', 'nde', 'yim']),\n",
       " Decomposition(root=ders, pos=NOMP, meta_morphemes=['Hn', 'NDA', 'YHm'], morphemes=['in', 'de', 'yim']),\n",
       " Decomposition(root=de, pos=NOMP, meta_morphemes=['r', 'sH', 'Hn', 'NDA', 'YHm'], morphemes=['r', 'si', 'n', 'de', 'yim']),\n",
       " Decomposition(root=de, pos=NOMP, meta_morphemes=['r', 'sH', 'Hn', 'NDA', 'YHm'], morphemes=['r', 'si', 'n', 'de', 'yim'])]"
      ]
     },
     "execution_count": 3,
     "metadata": {},
     "output_type": "execute_result"
    }
   ],
   "source": [
    "from morphology import decompose_tr\n",
    "\n",
    "decomposition = decompose_tr(word)\n",
    "decomposition"
   ]
  },
  {
   "cell_type": "code",
   "execution_count": null,
   "metadata": {},
   "outputs": [],
   "source": [
    "import pandas as pd\n",
    "\n",
    "data = pd.read_csv(\"data/bilkent-turkish-writings/bilkent-turkish-writings-dataset.csv\")\n",
    "data.head()"
   ]
  },
  {
   "cell_type": "code",
   "execution_count": null,
   "metadata": {},
   "outputs": [],
   "source": [
    "import re\n",
    "from utils import write_json\n",
    "\n",
    "essays = []\n",
    "\n",
    "for i, row in data.iterrows():\n",
    "    if isinstance(row[\"text\"], str):\n",
    "        raw_texts = re.split(\"[.?!]\\s\",row[\"text\"].replace(\"\\r\\n\", \"\"))\n",
    "        texts = []\n",
    "\n",
    "        for text in raw_texts:\n",
    "            texts.extend(re.split(\"\\s\\s\\s\\s\", text))\n",
    "\n",
    "        texts = [re.sub(\"^[A-ZÜÖĞIŞÇİ0-9\\-\\s.]+$\", \"\", text) for text in texts]\n",
    "        texts = [re.sub(\"\\s+\", \" \", text).strip() for text in texts if all([\"http\" not in text.lower(), \"kaynakça\" not in text.lower()]) and len(text.strip().split()) > 5]\n",
    "        \n",
    "        if len(texts) > 1:\n",
    "            essays.append({\n",
    "                \"id\": f\"bilkent-turkish-writings-{i}\",\n",
    "                \"sentences\": texts\n",
    "            })\n",
    "\n",
    "write_json(essays, \"data/bilkent-turkish-writings/bilkent-turkish-writings-dataset.json\", ensure_ascii=False)\n"
   ]
  },
  {
   "cell_type": "code",
   "execution_count": null,
   "metadata": {},
   "outputs": [],
   "source": [
    "from morphology import decompose_tr\n",
    "\n",
    "# decompose_tr(\"heykelciklerinin\")\n",
    "[decomposition.to_json() for decomposition in decompose_tr(\"yansıttığımızın\")]"
   ]
  },
  {
   "cell_type": "code",
   "execution_count": null,
   "metadata": {},
   "outputs": [],
   "source": [
    "from utils import read_json\n",
    "\n",
    "data = read_json(\"../data/bilkent-turkish-writings/bilkent-turkish-writings-dataset_prep.json\")"
   ]
  },
  {
   "cell_type": "code",
   "execution_count": null,
   "metadata": {},
   "outputs": [],
   "source": [
    "len(data), sum([len(val) for val in data.values()])"
   ]
  },
  {
   "cell_type": "code",
   "execution_count": null,
   "metadata": {},
   "outputs": [],
   "source": [
    "sum([1 for root, word_map in data.items() for word, decompositions in word_map.items() if len(decompositions) == 1 and decompositions[0][\"morphemes\"]])"
   ]
  },
  {
   "cell_type": "code",
   "execution_count": null,
   "metadata": {},
   "outputs": [],
   "source": [
    "from utils import write_json\n",
    "import pathlib\n",
    "\n",
    "pathlib.Path(\"../data/bilkent-turkish-writings/batches\").mkdir(parents=True, exist_ok=True)\n",
    "i = 0\n",
    "while True:\n",
    "    data_chunk = list(data.items())[i*500:(i+1)*500]\n",
    "    if data_chunk:\n",
    "        write_json(dict(data_chunk), f\"../data/bilkent-turkish-writings/batches/bilkent-turkish-writings-dataset_prep_{i}.json\", ensure_ascii=False)\n",
    "        i += 1\n",
    "    else:\n",
    "        break"
   ]
  },
  {
   "cell_type": "code",
   "execution_count": 1,
   "metadata": {},
   "outputs": [],
   "source": [
    "from utils import write_json\n",
    "from prepare_data_for_morph import post_morph_process\n",
    "\n",
    "new_data = post_morph_process(\"../data/bilkent-turkish-writings/batches/bilkent-turkish-writings-dataset_prep_0.json\")\n",
    "\n",
    "write_json(new_data, \"../data/bilkent-turkish-writings/batches/bilkent-turkish-writings-dataset_prep_0_new.json\", ensure_ascii=False)"
   ]
  },
  {
   "cell_type": "code",
   "execution_count": 2,
   "metadata": {},
   "outputs": [],
   "source": [
    "from src.utils import read_json, write_json\n",
    "\n",
    "data = read_json(\"../data/bilkent-turkish-writings/btwd_prep.json\")\n",
    "\n",
    "output_data = {\n",
    "    \"metadata\": {\n",
    "        \"source\": \"../data/bilkent-turkish-writings/btwd.json\",\n",
    "        \"processor\": \"tr_btwd_prep\",\n",
    "        \"language\": \"tr\"\n",
    "    },\n",
    "    \"data\": data\n",
    "}\n",
    "write_json(output_data, \"../data/bilkent-turkish-writings/btwd_prep.json\", ensure_ascii=False)"
   ]
  },
  {
   "cell_type": "code",
   "execution_count": null,
   "metadata": {},
   "outputs": [],
   "source": [
    "from src.utils import read_json, write_json\n",
    "\n",
    "data = read_json(\"outputs/gpt-3.5/tr/btwd/btwd_prep_post_morph_sample_llm_morph_gen_en_one_shot_gpt-3.5-turbo_2094783b7ba0.json\")\n",
    "write_json(data, \"outputs/gpt-3.5/tr/btwd/btwd_prep_post_morph_sample_llm_morph_gen_en_one_shot_gpt-3.5-turbo_2094783b7ba0.json\", ensure_ascii=False)"
   ]
  },
  {
   "cell_type": "code",
   "execution_count": 3,
   "metadata": {},
   "outputs": [
    {
     "name": "stderr",
     "output_type": "stream",
     "text": [
      "/Users/mismayil/.pyenv/versions/3.9.7/envs/til/lib/python3.9/site-packages/openpyxl/worksheet/_reader.py:329: UserWarning: Unknown extension is not supported and will be removed\n",
      "  warn(msg)\n"
     ]
    }
   ],
   "source": [
    "import pandas as pd\n",
    "\n",
    "data = pd.read_excel(\"../data/MorphoLEX_en.xlsx\", sheet_name=\"0-1-2\")"
   ]
  },
  {
   "cell_type": "code",
   "execution_count": 4,
   "metadata": {},
   "outputs": [
    {
     "data": {
      "text/html": [
       "<div>\n",
       "<style scoped>\n",
       "    .dataframe tbody tr th:only-of-type {\n",
       "        vertical-align: middle;\n",
       "    }\n",
       "\n",
       "    .dataframe tbody tr th {\n",
       "        vertical-align: top;\n",
       "    }\n",
       "\n",
       "    .dataframe thead th {\n",
       "        text-align: right;\n",
       "    }\n",
       "</style>\n",
       "<table border=\"1\" class=\"dataframe\">\n",
       "  <thead>\n",
       "    <tr style=\"text-align: right;\">\n",
       "      <th></th>\n",
       "      <th>ELP_ItemID</th>\n",
       "      <th>Word</th>\n",
       "      <th>POS</th>\n",
       "      <th>Nmorph</th>\n",
       "      <th>PRS_signature</th>\n",
       "      <th>MorphoLexSegm</th>\n",
       "      <th>ROOT1_PFMF</th>\n",
       "      <th>ROOT1_FamSize</th>\n",
       "      <th>ROOT1_Freq_HAL</th>\n",
       "      <th>SUFF1_PFMF</th>\n",
       "      <th>...</th>\n",
       "      <th>SUFF1_Freq_HAL</th>\n",
       "      <th>SUFF1_length</th>\n",
       "      <th>SUFF1_P</th>\n",
       "      <th>SUFF1_P*</th>\n",
       "      <th>SUFF2_PFMF</th>\n",
       "      <th>SUFF2_FamSize</th>\n",
       "      <th>SUFF2_Freq_HAL</th>\n",
       "      <th>SUFF2_length</th>\n",
       "      <th>SUFF2_P</th>\n",
       "      <th>SUFF2_P*</th>\n",
       "    </tr>\n",
       "  </thead>\n",
       "  <tbody>\n",
       "    <tr>\n",
       "      <th>0</th>\n",
       "      <td>4</td>\n",
       "      <td>algebraical</td>\n",
       "      <td>JJ</td>\n",
       "      <td>3</td>\n",
       "      <td>0,1,2</td>\n",
       "      <td>{(algebra)}&gt;ic&gt;&gt;al&gt;</td>\n",
       "      <td>100.0</td>\n",
       "      <td>4</td>\n",
       "      <td>3692</td>\n",
       "      <td>88.450148</td>\n",
       "      <td>...</td>\n",
       "      <td>1472797</td>\n",
       "      <td>2</td>\n",
       "      <td>0.000028</td>\n",
       "      <td>0.006334</td>\n",
       "      <td>91.538462</td>\n",
       "      <td>1431</td>\n",
       "      <td>4704731</td>\n",
       "      <td>2</td>\n",
       "      <td>0.000009</td>\n",
       "      <td>0.006643</td>\n",
       "    </tr>\n",
       "    <tr>\n",
       "      <th>1</th>\n",
       "      <td>61</td>\n",
       "      <td>allowably</td>\n",
       "      <td>RB</td>\n",
       "      <td>3</td>\n",
       "      <td>0,1,2</td>\n",
       "      <td>{(allow)}&gt;able&gt;&gt;y&gt;</td>\n",
       "      <td>100.0</td>\n",
       "      <td>5</td>\n",
       "      <td>185956</td>\n",
       "      <td>88.978186</td>\n",
       "      <td>...</td>\n",
       "      <td>1227992</td>\n",
       "      <td>4</td>\n",
       "      <td>0.000032</td>\n",
       "      <td>0.006025</td>\n",
       "      <td>73.641851</td>\n",
       "      <td>2486</td>\n",
       "      <td>3870233</td>\n",
       "      <td>1</td>\n",
       "      <td>0.000050</td>\n",
       "      <td>0.029816</td>\n",
       "    </tr>\n",
       "    <tr>\n",
       "      <th>2</th>\n",
       "      <td>69</td>\n",
       "      <td>allusively</td>\n",
       "      <td>RB</td>\n",
       "      <td>3</td>\n",
       "      <td>0,1,2</td>\n",
       "      <td>{(allude)}&gt;ive&gt;&gt;ly&gt;</td>\n",
       "      <td>100.0</td>\n",
       "      <td>4</td>\n",
       "      <td>2066</td>\n",
       "      <td>92.746114</td>\n",
       "      <td>...</td>\n",
       "      <td>1037354</td>\n",
       "      <td>3</td>\n",
       "      <td>0.000017</td>\n",
       "      <td>0.002781</td>\n",
       "      <td>80.980324</td>\n",
       "      <td>2898</td>\n",
       "      <td>3857999</td>\n",
       "      <td>2</td>\n",
       "      <td>0.000045</td>\n",
       "      <td>0.026726</td>\n",
       "    </tr>\n",
       "    <tr>\n",
       "      <th>3</th>\n",
       "      <td>94</td>\n",
       "      <td>alphabetically</td>\n",
       "      <td>RB</td>\n",
       "      <td>3</td>\n",
       "      <td>0,1,2</td>\n",
       "      <td>{(alphabet)}&gt;al&gt;&gt;ly&gt;</td>\n",
       "      <td>50.0</td>\n",
       "      <td>5</td>\n",
       "      <td>6877</td>\n",
       "      <td>30.279720</td>\n",
       "      <td>...</td>\n",
       "      <td>4704731</td>\n",
       "      <td>2</td>\n",
       "      <td>0.000009</td>\n",
       "      <td>0.006643</td>\n",
       "      <td>13.496721</td>\n",
       "      <td>2898</td>\n",
       "      <td>3857999</td>\n",
       "      <td>2</td>\n",
       "      <td>0.000045</td>\n",
       "      <td>0.026726</td>\n",
       "    </tr>\n",
       "    <tr>\n",
       "      <th>4</th>\n",
       "      <td>116</td>\n",
       "      <td>altercations</td>\n",
       "      <td>NN</td>\n",
       "      <td>3</td>\n",
       "      <td>0,1,2</td>\n",
       "      <td>{(alterc)&gt;ate&gt;}&gt;ion&gt;</td>\n",
       "      <td>0.0</td>\n",
       "      <td>2</td>\n",
       "      <td>187</td>\n",
       "      <td>56.623932</td>\n",
       "      <td>...</td>\n",
       "      <td>2569118</td>\n",
       "      <td>3</td>\n",
       "      <td>0.000026</td>\n",
       "      <td>0.010505</td>\n",
       "      <td>58.322904</td>\n",
       "      <td>1599</td>\n",
       "      <td>6530204</td>\n",
       "      <td>3</td>\n",
       "      <td>0.000009</td>\n",
       "      <td>0.009115</td>\n",
       "    </tr>\n",
       "  </tbody>\n",
       "</table>\n",
       "<p>5 rows × 21 columns</p>\n",
       "</div>"
      ],
      "text/plain": [
       "   ELP_ItemID            Word POS  Nmorph PRS_signature         MorphoLexSegm  \\\n",
       "0           4     algebraical  JJ       3         0,1,2   {(algebra)}>ic>>al>   \n",
       "1          61       allowably  RB       3         0,1,2    {(allow)}>able>>y>   \n",
       "2          69      allusively  RB       3         0,1,2   {(allude)}>ive>>ly>   \n",
       "3          94  alphabetically  RB       3         0,1,2  {(alphabet)}>al>>ly>   \n",
       "4         116    altercations  NN       3         0,1,2  {(alterc)>ate>}>ion>   \n",
       "\n",
       "   ROOT1_PFMF  ROOT1_FamSize  ROOT1_Freq_HAL  SUFF1_PFMF  ...  SUFF1_Freq_HAL  \\\n",
       "0       100.0              4            3692   88.450148  ...         1472797   \n",
       "1       100.0              5          185956   88.978186  ...         1227992   \n",
       "2       100.0              4            2066   92.746114  ...         1037354   \n",
       "3        50.0              5            6877   30.279720  ...         4704731   \n",
       "4         0.0              2             187   56.623932  ...         2569118   \n",
       "\n",
       "   SUFF1_length   SUFF1_P  SUFF1_P*  SUFF2_PFMF  SUFF2_FamSize  \\\n",
       "0             2  0.000028  0.006334   91.538462           1431   \n",
       "1             4  0.000032  0.006025   73.641851           2486   \n",
       "2             3  0.000017  0.002781   80.980324           2898   \n",
       "3             2  0.000009  0.006643   13.496721           2898   \n",
       "4             3  0.000026  0.010505   58.322904           1599   \n",
       "\n",
       "   SUFF2_Freq_HAL  SUFF2_length   SUFF2_P  SUFF2_P*  \n",
       "0         4704731             2  0.000009  0.006643  \n",
       "1         3870233             1  0.000050  0.029816  \n",
       "2         3857999             2  0.000045  0.026726  \n",
       "3         3857999             2  0.000045  0.026726  \n",
       "4         6530204             3  0.000009  0.009115  \n",
       "\n",
       "[5 rows x 21 columns]"
      ]
     },
     "execution_count": 4,
     "metadata": {},
     "output_type": "execute_result"
    }
   ],
   "source": [
    "data.head()"
   ]
  },
  {
   "cell_type": "code",
   "execution_count": 6,
   "metadata": {},
   "outputs": [],
   "source": [
    "words = []\n",
    "\n",
    "for i, row in data.iterrows():\n",
    "    word = row[\"Word\"]\n",
    "    segmentation = row[\"MorphoLexSegm\"]\n",
    "    morphemes = re.findall(r\"[A-Za-z]+\", segmentation)\n",
    "    if word == \"\".join(morphemes):\n",
    "        words.append({\n",
    "            \"word\": word,\n",
    "            \"morphemes\": morphemes\n",
    "        })"
   ]
  },
  {
   "cell_type": "code",
   "execution_count": 8,
   "metadata": {},
   "outputs": [
    {
     "data": {
      "text/plain": [
       "[{'word': 'algebraical', 'morphemes': ['algebra', 'ic', 'al']},\n",
       " {'word': 'altruistic', 'morphemes': ['altru', 'ist', 'ic']},\n",
       " {'word': 'amateurishly', 'morphemes': ['amateur', 'ish', 'ly']},\n",
       " {'word': 'ambassadorship', 'morphemes': ['ambassad', 'or', 'ship']},\n",
       " {'word': 'ambitiousness', 'morphemes': ['ambit', 'ious', 'ness']},\n",
       " {'word': 'woodenly', 'morphemes': ['wood', 'en', 'ly']},\n",
       " {'word': 'woodenness', 'morphemes': ['wood', 'en', 'ness']},\n",
       " {'word': 'wordlessly', 'morphemes': ['word', 'less', 'ly']},\n",
       " {'word': 'workableness', 'morphemes': ['work', 'able', 'ness']},\n",
       " {'word': 'worthlessly', 'morphemes': ['worth', 'less', 'ly']}]"
      ]
     },
     "execution_count": 8,
     "metadata": {},
     "output_type": "execute_result"
    }
   ],
   "source": [
    "words[:10]"
   ]
  },
  {
   "cell_type": "code",
   "execution_count": 5,
   "metadata": {},
   "outputs": [
    {
     "name": "stdout",
     "output_type": "stream",
     "text": [
      "['algebra', 'ic', 'al']\n"
     ]
    }
   ],
   "source": [
    "import re\n",
    "\n",
    "s = \"{(algebra)}>ic>>al>\"\n",
    "matches = re.findall(r\"[A-Za-z]+\", s)\n",
    "print(matches)"
   ]
  },
  {
   "cell_type": "code",
   "execution_count": 3,
   "metadata": {},
   "outputs": [],
   "source": [
    "from src.utils import read_json, write_json\n",
    "\n",
    "data = read_json(\"experiments/data/en/morpholex/MorphoLEX_en_prep_morph_sample_nonce.json\")\n",
    "\n",
    "for i, sample in enumerate(data[\"data\"]):\n",
    "    sample[\"id\"] = f\"morpholex-ood-{i}\"\n",
    "\n",
    "write_json(data, \"experiments/data/en/morpholex/MorphoLEX_en_prep_morph_sample_nonce.json\", ensure_ascii=False)"
   ]
  },
  {
   "cell_type": "code",
   "execution_count": 1,
   "metadata": {},
   "outputs": [],
   "source": [
    "from src.utils import read_json, write_json\n",
    "\n",
    "data = read_json(\"experiments/data/tr/btwd/btwd_prep_post_comp_morph_sample_nonce.json\")\n",
    "\n",
    "for i, sample in enumerate(data[\"data\"]):\n",
    "    sample[\"id\"] = f\"tr-ood-{i}\"\n",
    "\n",
    "write_json(data, \"experiments/data/tr/btwd/btwd_prep_post_comp_morph_sample_nonce.json\", ensure_ascii=False)"
   ]
  },
  {
   "cell_type": "code",
   "execution_count": 4,
   "metadata": {},
   "outputs": [],
   "source": [
    "import networkx as nx\n",
    "\n",
    "G = nx.MultiDiGraph(root=False)\n",
    "G.add_node(\"gel\", id=1, root=True)\n",
    "G.add_node(\"yap\", id=2, root=True)\n",
    "G.add_node(\"DH\", id=3)\n",
    "G.add_node(\"lAr\", id=4)\n",
    "G.add_node(\"mHs\", id=5)"
   ]
  },
  {
   "cell_type": "code",
   "execution_count": 5,
   "metadata": {},
   "outputs": [
    {
     "data": {
      "text/plain": [
       "[0, 0, 0, 1, 0, 0]"
      ]
     },
     "execution_count": 5,
     "metadata": {},
     "output_type": "execute_result"
    }
   ],
   "source": [
    "G.add_edges_from([(\"gel\", \"DH\", {\"route\": \"1-3\", \"key\": \"di\"}), (\"DH\", \"lAr\", {\"route\": \"1-3-4\", \"key\": \"ler\"}), (\"yap\", \"DH\", {\"route\": \"2-3\", \"surface\": \"ti\"}), (\"DH\", \"lAr\", {\"route\": \"2-3-4\", \"surface\": \"lar\"}), (\"yap\", \"mHs\", {\"route\": \"2-5\", \"surface\": \"mis\"}), (\"mHs\", \"lAr\", {\"route\": \"2-5-4\", \"surface\": \"lar\"})])"
   ]
  },
  {
   "cell_type": "code",
   "execution_count": 6,
   "metadata": {},
   "outputs": [
    {
     "data": {
      "image/png": "[encoded data removed]",
      "text/plain": [
       "<Figure size 640x480 with 1 Axes>"
      ]
     },
     "metadata": {},
     "output_type": "display_data"
    }
   ],
   "source": [
    "import matplotlib.pyplot as plt\n",
    "\n",
    "subax1 = plt.subplot(121)\n",
    "nx.draw(G, with_labels=True, font_weight='bold')\n",
    "# subax2 = plt.subplot(122)\n",
    "# nx.draw_shell(G, nlist=[range(5, 10), range(5)], with_labels=True, font_weight='bold')"
   ]
  },
  {
   "cell_type": "code",
   "execution_count": 12,
   "metadata": {},
   "outputs": [
    {
     "data": {
      "text/plain": [
       "{0: {'route': '1-3', 'surface': 'di'}}"
      ]
     },
     "execution_count": 12,
     "metadata": {},
     "output_type": "execute_result"
    }
   ],
   "source": [
    "G.get_edge_data(\"gel\", \"DH\")"
   ]
  },
  {
   "cell_type": "code",
   "execution_count": 84,
   "metadata": {},
   "outputs": [],
   "source": [
    "def has_edge(G, source, target, edge_key):\n",
    "    edge_data = G.get_edge_data(source, target)\n",
    "    if edge_data:\n",
    "        for key, edge in edge_data.items():\n",
    "            if key == edge_key:\n",
    "                return edge\n",
    "\n",
    "def update_graph(G, root, meta_morphemes, morphemes):\n",
    "    G.add_node(root, root=True)\n",
    "    last_edge_key = root\n",
    "    last_node = root\n",
    "\n",
    "    for i, (meta_morph, morph) in enumerate(zip(meta_morphemes, morphemes)):\n",
    "        morph_node = f\"+{meta_morph}\"\n",
    "        G.add_node(morph_node)\n",
    "        edge_key = f\"{last_edge_key}+{morph}\"\n",
    "        existing_edge = has_edge(G, last_node, morph_node, edge_key)\n",
    "        is_leaf = i == len(meta_morphemes) - 1\n",
    "        if existing_edge:\n",
    "            existing_edge[\"count\"] += 1\n",
    "            existing_edge[\"leaf\"] += int(is_leaf)\n",
    "        else:\n",
    "            G.add_edge(last_node, morph_node, key=edge_key, count=1, leaf=int(is_leaf))\n",
    "        last_edge_key = edge_key\n",
    "        last_node = morph_node"
   ]
  },
  {
   "cell_type": "code",
   "execution_count": 96,
   "metadata": {},
   "outputs": [
    {
     "name": "stderr",
     "output_type": "stream",
     "text": [
      "Processing samples: 100%|██████████| 392/392 [00:00<00:00, 29123.50it/s]\n"
     ]
    }
   ],
   "source": [
    "from tqdm import tqdm\n",
    "from utils import read_json\n",
    "btwd_data = read_json(\"../experiments/data/tr/btwd/balanced/btwd_prep_post_balanced_sample_morph.json\")\n",
    "\n",
    "G = nx.MultiDiGraph(root=False)\n",
    "\n",
    "for sample in tqdm(btwd_data[\"data\"], total=len(btwd_data[\"data\"]), desc=\"Processing samples\"):\n",
    "    update_graph(G, sample[\"root\"], sample[\"meta_suffixes\"], sample[\"suffixes\"])"
   ]
  },
  {
   "cell_type": "code",
   "execution_count": null,
   "metadata": {},
   "outputs": [],
   "source": [
    "GH = nx.compose(G, G)"
   ]
  },
  {
   "cell_type": "code",
   "execution_count": 85,
   "metadata": {},
   "outputs": [
    {
     "name": "stderr",
     "output_type": "stream",
     "text": [
      "Processing samples: 100%|██████████| 9/9 [00:00<00:00, 15709.00it/s]\n"
     ]
    }
   ],
   "source": [
    "data = [\n",
    "    {\n",
    "        \"root\": \"gel\",\n",
    "        \"pos\": \"V\",\n",
    "        \"meta_suffixes\": [\"DH\", \"lAr\"],\n",
    "        \"suffixes\": [\"di\", \"ler\"]\n",
    "    },\n",
    "    {\n",
    "        \"root\": \"yap\",\n",
    "        \"pos\": \"V\",\n",
    "        \"meta_suffixes\": [\"DH\", \"lAr\"],\n",
    "        \"suffixes\": [\"tı\", \"lar\"]\n",
    "    },\n",
    "    {\n",
    "        \"root\": \"gel\",\n",
    "        \"pos\": \"V\",\n",
    "        \"meta_suffixes\": [\"DH\"],\n",
    "        \"suffixes\": [\"di\"]\n",
    "    },\n",
    "    {\n",
    "        \"root\": \"gel\",\n",
    "        \"pos\": \"V\",\n",
    "        \"meta_suffixes\": [\"DH\", \"m\"],\n",
    "        \"suffixes\": [\"di\", \"m\"]\n",
    "    },\n",
    "        {\n",
    "        \"root\": \"yap\",\n",
    "        \"pos\": \"V\",\n",
    "        \"meta_suffixes\": [\"mHş\", \"lAr\"],\n",
    "        \"suffixes\": [\"mış\", \"lar\"]\n",
    "    },\n",
    "    {\n",
    "        \"root\": \"gel\",\n",
    "        \"pos\": \"V\",\n",
    "        \"meta_suffixes\": [\"mHş\", \"lAr\"],\n",
    "        \"suffixes\": [\"miş\", \"ler\"]\n",
    "    },\n",
    "    {\n",
    "        \"root\": \"yap\",\n",
    "        \"pos\": \"V\",\n",
    "        \"meta_suffixes\": [\"DH\", \"m\"],\n",
    "        \"suffixes\": [\"tı\", \"m\"]\n",
    "    },\n",
    "    {\n",
    "        \"root\": \"ne\",\n",
    "        \"pos\": \"V\",\n",
    "        \"meta_suffixes\": [\"rA\", \"DAn\"],\n",
    "        \"suffixes\": [\"re\", \"den\"]\n",
    "    },\n",
    "    {\n",
    "        \"root\": \"ev\",\n",
    "        \"pos\": \"V\",\n",
    "        \"meta_suffixes\": [\"YH\", \"ne\"],\n",
    "        \"suffixes\": [\"i\", \"ne\"]\n",
    "    }\n",
    "]\n",
    "\n",
    "G = nx.MultiDiGraph(root=False)\n",
    "\n",
    "for sample in tqdm(data, total=len(data), desc=\"Processing samples\"):\n",
    "    update_graph(G, sample[\"root\"], sample[\"meta_suffixes\"], sample[\"suffixes\"])"
   ]
  },
  {
   "cell_type": "code",
   "execution_count": 39,
   "metadata": {},
   "outputs": [
    {
     "data": {
      "text/plain": [
       "True"
      ]
     },
     "execution_count": 39,
     "metadata": {},
     "output_type": "execute_result"
    }
   ],
   "source": [
    "G.has_edge(\"gel\", \"mHş\")"
   ]
  },
  {
   "cell_type": "code",
   "execution_count": 86,
   "metadata": {},
   "outputs": [
    {
     "data": {
      "text/plain": [
       "NodeDataView({'gel': {'root': True}, '+DH': {}, '+lAr': {}, 'yap': {'root': True}, '+m': {}, '+mHş': {}, 'ne': {'root': True}, '+rA': {}, '+DAn': {}, 'ev': {'root': True}, '+YH': {}, '+ne': {}})"
      ]
     },
     "execution_count": 86,
     "metadata": {},
     "output_type": "execute_result"
    }
   ],
   "source": [
    "G.nodes(data=True)"
   ]
  },
  {
   "cell_type": "code",
   "execution_count": 89,
   "metadata": {},
   "outputs": [
    {
     "data": {
      "text/plain": [
       "{'gel+di': {'count': 3, 'leaf': 1}}"
      ]
     },
     "execution_count": 89,
     "metadata": {},
     "output_type": "execute_result"
    }
   ],
   "source": [
    "G.get_edge_data(\"gel\", \"+DH\")"
   ]
  },
  {
   "cell_type": "code",
   "execution_count": 88,
   "metadata": {},
   "outputs": [
    {
     "data": {
      "text/plain": [
       "OutMultiEdgeDataView([('gel', '+DH', {'count': 3, 'leaf': 1}), ('gel', '+mHş', {'count': 1, 'leaf': 0}), ('+DH', '+lAr', {'count': 1, 'leaf': 1}), ('+DH', '+lAr', {'count': 1, 'leaf': 1}), ('+DH', '+m', {'count': 1, 'leaf': 1}), ('+DH', '+m', {'count': 1, 'leaf': 1}), ('yap', '+DH', {'count': 2, 'leaf': 0}), ('yap', '+mHş', {'count': 1, 'leaf': 0}), ('+mHş', '+lAr', {'count': 1, 'leaf': 1}), ('+mHş', '+lAr', {'count': 1, 'leaf': 1}), ('ne', '+rA', {'count': 1, 'leaf': 0}), ('+rA', '+DAn', {'count': 1, 'leaf': 1}), ('ev', '+YH', {'count': 1, 'leaf': 0}), ('+YH', '+ne', {'count': 1, 'leaf': 1})])"
      ]
     },
     "execution_count": 88,
     "metadata": {},
     "output_type": "execute_result"
    }
   ],
   "source": [
    "G.edges(data=True)"
   ]
  },
  {
   "cell_type": "code",
   "execution_count": 90,
   "metadata": {},
   "outputs": [],
   "source": [
    "nx.write_gml(G, \"graph.gml\")"
   ]
  },
  {
   "cell_type": "code",
   "execution_count": 91,
   "metadata": {},
   "outputs": [
    {
     "name": "stderr",
     "output_type": "stream",
     "text": [
      "Processing samples: 100%|██████████| 9/9 [00:00<00:00, 19152.07it/s]\n"
     ]
    }
   ],
   "source": [
    "H = nx.MultiDiGraph(root=False)\n",
    "\n",
    "for sample in tqdm(data, total=len(data), desc=\"Processing samples\"):\n",
    "    update_graph(H, sample[\"root\"], sample[\"meta_suffixes\"], sample[\"suffixes\"])"
   ]
  },
  {
   "cell_type": "code",
   "execution_count": 97,
   "metadata": {},
   "outputs": [],
   "source": [
    "def merge_graphs(G, H):\n",
    "    GH = nx.compose(G, H)\n",
    "    count_edge_data = {\n",
    "        e: G.edges[e][\"count\"] + H.edges[e][\"count\"] for e in G.edges & H.edges\n",
    "    }\n",
    "    leaf_edge_data = {\n",
    "        e: G.edges[e][\"leaf\"] + H.edges[e][\"leaf\"] for e in G.edges & H.edges\n",
    "    }\n",
    "    nx.set_edge_attributes(GH, count_edge_data, \"count\")\n",
    "    nx.set_edge_attributes(GH, leaf_edge_data, \"leaf\")\n",
    "    return GH"
   ]
  },
  {
   "cell_type": "code",
   "execution_count": 98,
   "metadata": {},
   "outputs": [],
   "source": [
    "GH = merge_graphs(G, G)"
   ]
  },
  {
   "cell_type": "code",
   "execution_count": null,
   "metadata": {},
   "outputs": [],
   "source": [
    "nx.write_gml(GH, \"graph2.gml\")"
   ]
  },
  {
   "cell_type": "code",
   "execution_count": 93,
   "metadata": {},
   "outputs": [
    {
     "data": {
      "text/plain": [
       "OutMultiEdgeDataView([('gel', '+DH', {'count': 3, 'leaf': 1}), ('gel', '+mHş', {'count': 1, 'leaf': 0}), ('+DH', '+lAr', {'count': 1, 'leaf': 1}), ('+DH', '+lAr', {'count': 1, 'leaf': 1}), ('+DH', '+m', {'count': 1, 'leaf': 1}), ('+DH', '+m', {'count': 1, 'leaf': 1}), ('yap', '+DH', {'count': 2, 'leaf': 0}), ('yap', '+mHş', {'count': 1, 'leaf': 0}), ('+mHş', '+lAr', {'count': 1, 'leaf': 1}), ('+mHş', '+lAr', {'count': 1, 'leaf': 1}), ('ne', '+rA', {'count': 1, 'leaf': 0}), ('+rA', '+DAn', {'count': 1, 'leaf': 1}), ('ev', '+YH', {'count': 1, 'leaf': 0}), ('+YH', '+ne', {'count': 1, 'leaf': 1})])"
      ]
     },
     "execution_count": 93,
     "metadata": {},
     "output_type": "execute_result"
    }
   ],
   "source": [
    "GH.edges(data=True)"
   ]
  },
  {
   "cell_type": "code",
   "execution_count": 94,
   "metadata": {},
   "outputs": [],
   "source": [
    "count_edge_data = {\n",
    "    e: G.edges[e][\"count\"] + H.edges[e][\"count\"] for e in G.edges & H.edges\n",
    "}\n",
    "leaf_edge_data = {\n",
    "    e: G.edges[e][\"leaf\"] + H.edges[e][\"leaf\"] for e in G.edges & H.edges\n",
    "}\n",
    "nx.set_edge_attributes(GH, count_edge_data, \"count\")\n",
    "nx.set_edge_attributes(GH, leaf_edge_data, \"leaf\")"
   ]
  },
  {
   "cell_type": "code",
   "execution_count": 95,
   "metadata": {},
   "outputs": [
    {
     "data": {
      "text/plain": [
       "OutMultiEdgeDataView([('gel', '+DH', {'count': 6, 'leaf': 2}), ('gel', '+mHş', {'count': 2, 'leaf': 0}), ('+DH', '+lAr', {'count': 2, 'leaf': 2}), ('+DH', '+lAr', {'count': 2, 'leaf': 2}), ('+DH', '+m', {'count': 2, 'leaf': 2}), ('+DH', '+m', {'count': 2, 'leaf': 2}), ('yap', '+DH', {'count': 4, 'leaf': 0}), ('yap', '+mHş', {'count': 2, 'leaf': 0}), ('+mHş', '+lAr', {'count': 2, 'leaf': 2}), ('+mHş', '+lAr', {'count': 2, 'leaf': 2}), ('ne', '+rA', {'count': 2, 'leaf': 0}), ('+rA', '+DAn', {'count': 2, 'leaf': 2}), ('ev', '+YH', {'count': 2, 'leaf': 0}), ('+YH', '+ne', {'count': 2, 'leaf': 2})])"
      ]
     },
     "execution_count": 95,
     "metadata": {},
     "output_type": "execute_result"
    }
   ],
   "source": [
    "GH.edges(data=True)"
   ]
  },
  {
   "cell_type": "code",
   "execution_count": 55,
   "metadata": {},
   "outputs": [],
   "source": [
    "nx.write_gml(G, \"graph.gml\")"
   ]
  },
  {
   "cell_type": "code",
   "execution_count": 32,
   "metadata": {},
   "outputs": [
    {
     "data": {
      "image/png": "[encoded data removed]",
      "text/plain": [
       "<Figure size 640x480 with 1 Axes>"
      ]
     },
     "metadata": {},
     "output_type": "display_data"
    }
   ],
   "source": [
    "import matplotlib.pyplot as plt\n",
    "\n",
    "subax1 = plt.subplot(121)\n",
    "nx.draw(G, with_labels=True, font_weight='bold')"
   ]
  },
  {
   "cell_type": "code",
   "execution_count": 8,
   "metadata": {},
   "outputs": [],
   "source": [
    "nx.write_gml(G, \"graph.gml\")"
   ]
  },
  {
   "cell_type": "code",
   "execution_count": 51,
   "metadata": {},
   "outputs": [],
   "source": [
    "import networkx as nx\n",
    "G2 = nx.read_gml(\"/mnt/nlpdata1/home/ismayilz/morph-gen-c4/morph_graphs/318b96dbba16.gml\")"
   ]
  },
  {
   "cell_type": "code",
   "execution_count": 53,
   "metadata": {},
   "outputs": [
    {
     "data": {
      "text/plain": [
       "OutMultiEdgeDataView([('gel', 'DH', {'surface': 'gel+di', 'count': 3, 'leaf': 1}), ('gel', 'mHş', {'surface': 'gel+miş', 'count': 1, 'leaf': 0}), ('DH', 'lAr', {'surface': 'gel+di+ler', 'count': 1, 'leaf': 1}), ('DH', 'lAr', {'surface': 'yap+tı+lar', 'count': 1, 'leaf': 1}), ('DH', 'm', {'surface': 'gel+di+m', 'count': 1, 'leaf': 1}), ('DH', 'm', {'surface': 'yap+tı+m', 'count': 1, 'leaf': 1}), ('yap', 'DH', {'surface': 'yap+tı', 'count': 2, 'leaf': 0}), ('yap', 'mHş', {'surface': 'yap+mış', 'count': 1, 'leaf': 0}), ('mHş', 'lAr', {'surface': 'yap+mış+lar', 'count': 1, 'leaf': 1}), ('mHş', 'lAr', {'surface': 'gel+miş+ler', 'count': 1, 'leaf': 1})])"
      ]
     },
     "execution_count": 53,
     "metadata": {},
     "output_type": "execute_result"
    }
   ],
   "source": [
    "G2.edges(data=True)"
   ]
  },
  {
   "cell_type": "code",
   "execution_count": 13,
   "metadata": {},
   "outputs": [],
   "source": [
    "roots = [node for node, data in G.nodes(data=True) if data.get(\"root\")]"
   ]
  },
  {
   "cell_type": "code",
   "execution_count": 15,
   "metadata": {},
   "outputs": [
    {
     "ename": "AttributeError",
     "evalue": "'str' object has no attribute 'neighbors'",
     "output_type": "error",
     "traceback": [
      "\u001b[0;31m---------------------------------------------------------------------------\u001b[0m",
      "\u001b[0;31mAttributeError\u001b[0m                            Traceback (most recent call last)",
      "Cell \u001b[0;32mIn[15], line 1\u001b[0m\n\u001b[0;32m----> 1\u001b[0m \u001b[43mroots\u001b[49m\u001b[43m[\u001b[49m\u001b[38;5;241;43m0\u001b[39;49m\u001b[43m]\u001b[49m\u001b[38;5;241;43m.\u001b[39;49m\u001b[43mneighbors\u001b[49m()\n",
      "\u001b[0;31mAttributeError\u001b[0m: 'str' object has no attribute 'neighbors'"
     ]
    }
   ],
   "source": [
    "roots[0].neighbors()"
   ]
  },
  {
   "cell_type": "code",
   "execution_count": 1,
   "metadata": {},
   "outputs": [],
   "source": [
    "%load_ext autoreload\n",
    "%autoreload 2"
   ]
  },
  {
   "cell_type": "code",
   "execution_count": 2,
   "metadata": {},
   "outputs": [],
   "source": [
    "from datasets import load_dataset\n",
    "\n",
    "# data_dir = \"/mnt/nlpdata1/share/datasets/allenai___c4/tr/0.0.0/1588ec454efa1a09f29cd18ddd04fe05fc8653a2\"\n",
    "data_dir = \"/mnt/u14157_ic_nlp_001_files_nfs/nlpdata1/share/datasets/allenai___c4/tr/0.0.0/1588ec454efa1a09f29cd18ddd04fe05fc8653a2\"\n",
    "data_file = \"c4-train-00000-of-00545.arrow\"\n",
    "data = load_dataset(data_dir, data_files=data_file, streaming=True)"
   ]
  },
  {
   "cell_type": "code",
   "execution_count": 3,
   "metadata": {},
   "outputs": [
    {
     "data": {
      "text/plain": [
       "IterableDatasetDict({\n",
       "    train: IterableDataset({\n",
       "        features: ['text', 'timestamp', 'url'],\n",
       "        n_shards: 1\n",
       "    })\n",
       "})"
      ]
     },
     "execution_count": 3,
     "metadata": {},
     "output_type": "execute_result"
    }
   ],
   "source": [
    "data"
   ]
  },
  {
   "cell_type": "code",
   "execution_count": 5,
   "metadata": {},
   "outputs": [
    {
     "name": "stdout",
     "output_type": "stream",
     "text": [
      "159214\n"
     ]
    }
   ],
   "source": [
    "cnt = 0\n",
    "\n",
    "for sample in data[\"train\"]:\n",
    "    cnt += 1\n",
    "\n",
    "print(cnt)"
   ]
  },
  {
   "cell_type": "code",
   "execution_count": 7,
   "metadata": {},
   "outputs": [],
   "source": [
    "data_iter = iter(data[\"train\"])\n",
    "sample = next(data_iter)"
   ]
  },
  {
   "cell_type": "code",
   "execution_count": 6,
   "metadata": {},
   "outputs": [
    {
     "data": {
      "text/plain": [
       "{'text': 'Yeni Kasa Civic Kasko ve Sigorta Ücretlerini Paylaşın Lütfen | Sayfa 24 | CivicTR Forum\\nYeni Kasa Civic Kasko ve Sigorta Ücretlerini Paylaşın Lütfen\\nKonbuyu başlatan mask946\\nBaşlangıç tarihi 16 Eki 2016\\nFirst Önceki 24 of 25\\nkayafarukk\\nŞINGIL\\' Alıntı:\\n2018 FC5 Eco elegance eşim ilk kez araç aldığı için halk sigorta 936 kasko da aynı firmadan 900 tl fiyat aldım honda mutluhan kendi fiyat teklifinde ise 2300 groupama kasko, sigorta ise 1122 tabi sakın hataya düşüp araç aldığınız yere yaptırmayın\\nKasko için aldıgınız fiyat çok iyi bence de , teklifi bir kontrol edin derim teminatları vs\\nFc5 dizel 0 premiuma bayiden sigorta yaptırdım.Ak sigorta 1100 kasko Groupama 2100(hasarsızlık indirimi yok).Bu arada sigortam.net e de sordum yeni araç klozu 3 yıl olan tek şirket Groupama imiş.Diğerleri 1 yıl.\\nBeğeniler: NoFeaR\\nsigorta 720 ak sigorta\\nkasko 1330 unico (cam dahil) full kasko. hasarsızlık indirimi var honda servis anlaşmalı\\n2018 model Ankara plakalı 1.6 executive eco sedan aracıma\\n15/11/2018 tarihinde\\nTrafik sigortası - Ray Sigorta - 593,75 / 3 taksit\\nKasko - Unico Sigorta - 2.257,16TL / 9 taksit (biraz pahalı oldu ama 2.000TL altında teklif yoktu )\\nimm : 250.000TL\\ndoğal afet, terör, anahtarla çalınma dahil\\nikame araç : 2x15gün\\nmini onarım : Autoking\\nyetkili servis ve orjinal yedek parça (cam dahil)\\numarım yardımcı olur\\nBeğeniler: zozolu ve NoFeaR\\nFc5 elegance eco otomatik. Ruhsat cikacagi icin uzerimdeki araci devretmeden trafik yaptirmak zorunda kaldim . 896tl\\nTURKCELL T50 cihazından CivicTR mobile app kullanılarak gönderildi.\\nOzertr\\nCivic aracım yok\\nÖyle bişey yok yani zorunluluk yok sakın yaptırma yetkili servisi\\nHocam banada zorunlu olarak yaptırmanız gerekiyor dediler. (0 faiz kampanyasından yararlanabilmek için) Nasıl bir yol izleyelim? Bununla ilgili başvurabileceğimiz bir yer var mı? Henüz aracı almadım ama kasko işi korkutuyor beni fazladan 2 bin lira ona vereceğime arabama koruma yaptırırım daha iyi.\\nBu arada bir ek soru daha sorayım son zamanlarda araç alanlar hediye olarak neler alabildi? Seramik kaplamayı sordum dışardan firmaya yaptırıyoruz normalde 3 TL civarında ama size 2500 yaparız dediler çokta inandırıcı gelmedi. ) Önerisi olan var mı?\\nOzertr\\' Alıntı:\\nsakin yaptırmayın tanıdğınız sigortacı varsa \"poliçeleri hazırladım size(bayiye) mail atıyorum \"desin . hiç birşey diyemezler.. tanıdğınız sigortacıyla konuşun o halletsin.. ben trafik sigortasını yaptırdım bayiden 200 tl fazla fiyat çıkarmışlar yaptırmış bulundum.. kaskoyu dışarda yaptırdım..\\nzozolu\\' Alıntı:\\nÇok sağolun hocam.\\nBeğeniler: zozolu\\nBen de aracı alırken tutturdular illaki aldığım bayinin kendisine ait kaskosundan yaptıracaksın diye.\\nNeden dedim, efendim mecburlarmış da kredi kampanyasıymış vs...\\nFiyatı pahalı( eureko o zaman hem daha ucuzdu hemde %15 bonus veriyordu), mini onarım hizmeti sadece yılda bir kere 150 tl ye kadar, (ben her sene otoking e giderim, burada öyle bir seçenek yok. 150 lira mini hasarın işçiliğini bile karşılamaya yetmez) anahtar üzerindeyken çalınma koruması yok.\\nBaşka servise hasar için gittiğinde de yanlış hatırlamıyorsam farklı bir durum da vardı\\nAlmıyorum o zaman aracı dedim ondan sonra sustular. Yani kısaca hangi kasko ve zorunlu trafik sizin uygunsa onu seçin. Eğer gerçekten sıfır faiz kampanyası için kaskoyu belirli bir yerden yaptırma şartı varsa kampanya koşullarını yazılı olarak göstersinler size.\\nsanalcelik\\n2018 eco exe aracım için;\\n1050 TL trafik ve 2200 TL kasko fiyatı verildi. Herhangi bir hasarsızlık indirimim yok.',\n",
       " 'timestamp': datetime.datetime(2018, 12, 17, 13, 3, 42),\n",
       " 'url': 'https://civictr.com/threads/yeni-kasa-civic-kasko-ve-sigorta-uecretlerini-paylasin-luetfen.4347/page-24'}"
      ]
     },
     "execution_count": 6,
     "metadata": {},
     "output_type": "execute_result"
    }
   ],
   "source": [
    "sample"
   ]
  },
  {
   "cell_type": "code",
   "execution_count": 9,
   "metadata": {},
   "outputs": [
    {
     "data": {
      "text/plain": [
       "'2018-12-17 13:03:42'"
      ]
     },
     "execution_count": 9,
     "metadata": {},
     "output_type": "execute_result"
    }
   ],
   "source": [
    "str(sample[\"timestamp\"])"
   ]
  },
  {
   "cell_type": "code",
   "execution_count": 6,
   "metadata": {},
   "outputs": [
    {
     "data": {
      "text/plain": [
       "['yeni',\n",
       " 'kasa',\n",
       " 'civic',\n",
       " 'kasko',\n",
       " 've',\n",
       " 'sigorta',\n",
       " 'ücretlerini',\n",
       " 'paylaşın',\n",
       " 'lütfen',\n",
       " 'sayfa',\n",
       " 'civictr',\n",
       " 'forum',\n",
       " 'yeni',\n",
       " 'kasa',\n",
       " 'civic',\n",
       " 'kasko',\n",
       " 've',\n",
       " 'sigorta',\n",
       " 'ücretlerini',\n",
       " 'paylaşın',\n",
       " 'lütfen',\n",
       " 'konbuyu',\n",
       " 'başlatan',\n",
       " 'başlangıç',\n",
       " 'tarihi',\n",
       " 'eki',\n",
       " 'first',\n",
       " 'önceki',\n",
       " 'of',\n",
       " 'kayafarukk',\n",
       " 'şingil',\n",
       " 'alıntı',\n",
       " 'eco',\n",
       " 'elegance',\n",
       " 'eşim',\n",
       " 'ilk',\n",
       " 'kez',\n",
       " 'araç',\n",
       " 'aldığı',\n",
       " 'için',\n",
       " 'halk',\n",
       " 'sigorta',\n",
       " 'kasko',\n",
       " 'da',\n",
       " 'aynı',\n",
       " 'firmadan',\n",
       " 'tl',\n",
       " 'fiyat',\n",
       " 'aldım',\n",
       " 'honda',\n",
       " 'mutluhan',\n",
       " 'kendi',\n",
       " 'fiyat',\n",
       " 'teklifinde',\n",
       " 'ise',\n",
       " 'groupama',\n",
       " 'kasko',\n",
       " 'sigorta',\n",
       " 'ise',\n",
       " 'tabi',\n",
       " 'sakın',\n",
       " 'hataya',\n",
       " 'düşüp',\n",
       " 'araç',\n",
       " 'aldığınız',\n",
       " 'yere',\n",
       " 'yaptırmayın',\n",
       " 'kasko',\n",
       " 'için',\n",
       " 'aldıgınız',\n",
       " 'fiyat',\n",
       " 'çok',\n",
       " 'iyi',\n",
       " 'bence',\n",
       " 'de',\n",
       " 'teklifi',\n",
       " 'bir',\n",
       " 'kontrol',\n",
       " 'edin',\n",
       " 'derim',\n",
       " 'teminatları',\n",
       " 'vs',\n",
       " 'dizel',\n",
       " 'premiuma',\n",
       " 'bayiden',\n",
       " 'sigorta',\n",
       " 'yaptırdım',\n",
       " 'ak',\n",
       " 'sigorta',\n",
       " 'kasko',\n",
       " 'groupama',\n",
       " 'hasarsızlık',\n",
       " 'indirimi',\n",
       " 'yok',\n",
       " 'bu',\n",
       " 'arada',\n",
       " 'sigortam',\n",
       " 'net',\n",
       " 'e',\n",
       " 'de',\n",
       " 'sordum',\n",
       " 'yeni',\n",
       " 'araç',\n",
       " 'klozu',\n",
       " 'yıl',\n",
       " 'olan',\n",
       " 'tek',\n",
       " 'şirket',\n",
       " 'groupama',\n",
       " 'imiş',\n",
       " 'diğerleri',\n",
       " 'yıl',\n",
       " 'beğeniler',\n",
       " 'nofear',\n",
       " 'sigorta',\n",
       " 'ak',\n",
       " 'sigorta',\n",
       " 'kasko',\n",
       " 'unico',\n",
       " 'cam',\n",
       " 'dahil',\n",
       " 'full',\n",
       " 'kasko',\n",
       " 'hasarsızlık',\n",
       " 'indirimi',\n",
       " 'var',\n",
       " 'honda',\n",
       " 'servis',\n",
       " 'anlaşmalı',\n",
       " 'model',\n",
       " 'ankara',\n",
       " 'plakalı',\n",
       " 'executive',\n",
       " 'eco',\n",
       " 'sedan',\n",
       " 'aracıma',\n",
       " 'tarihinde',\n",
       " 'trafik',\n",
       " 'sigortası',\n",
       " 'ray',\n",
       " 'sigorta',\n",
       " 'taksit',\n",
       " 'kasko',\n",
       " 'unico',\n",
       " 'sigorta',\n",
       " 'taksit',\n",
       " 'biraz',\n",
       " 'pahalı',\n",
       " 'oldu',\n",
       " 'ama',\n",
       " 'altında',\n",
       " 'teklif',\n",
       " 'yoktu',\n",
       " 'imm',\n",
       " 'doğal',\n",
       " 'afet',\n",
       " 'terör',\n",
       " 'anahtarla',\n",
       " 'çalınma',\n",
       " 'dahil',\n",
       " 'ikame',\n",
       " 'araç',\n",
       " 'mini',\n",
       " 'onarım',\n",
       " 'autoking',\n",
       " 'yetkili',\n",
       " 'servis',\n",
       " 've',\n",
       " 'orjinal',\n",
       " 'yedek',\n",
       " 'parça',\n",
       " 'cam',\n",
       " 'dahil',\n",
       " 'umarım',\n",
       " 'yardımcı',\n",
       " 'olur',\n",
       " 'beğeniler',\n",
       " 'zozolu',\n",
       " 've',\n",
       " 'nofear',\n",
       " 'elegance',\n",
       " 'eco',\n",
       " 'otomatik',\n",
       " 'ruhsat',\n",
       " 'cikacagi',\n",
       " 'icin',\n",
       " 'uzerimdeki',\n",
       " 'araci',\n",
       " 'devretmeden',\n",
       " 'trafik',\n",
       " 'yaptirmak',\n",
       " 'zorunda',\n",
       " 'kaldim',\n",
       " 'turkcell',\n",
       " 'cihazından',\n",
       " 'civictr',\n",
       " 'mobile',\n",
       " 'app',\n",
       " 'kullanılarak',\n",
       " 'gönderildi',\n",
       " 'ozertr',\n",
       " 'civic',\n",
       " 'aracım',\n",
       " 'yok',\n",
       " 'öyle',\n",
       " 'bişey',\n",
       " 'yok',\n",
       " 'yani',\n",
       " 'zorunluluk',\n",
       " 'yok',\n",
       " 'sakın',\n",
       " 'yaptırma',\n",
       " 'yetkili',\n",
       " 'servisi',\n",
       " 'hocam',\n",
       " 'banada',\n",
       " 'zorunlu',\n",
       " 'olarak',\n",
       " 'yaptırmanız',\n",
       " 'gerekiyor',\n",
       " 'dediler',\n",
       " 'faiz',\n",
       " 'kampanyasından',\n",
       " 'yararlanabilmek',\n",
       " 'için',\n",
       " 'nasıl',\n",
       " 'bir',\n",
       " 'yol',\n",
       " 'izleyelim',\n",
       " 'bununla',\n",
       " 'ilgili',\n",
       " 'başvurabileceğimiz',\n",
       " 'bir',\n",
       " 'yer',\n",
       " 'var',\n",
       " 'mı',\n",
       " 'henüz',\n",
       " 'aracı',\n",
       " 'almadım',\n",
       " 'ama',\n",
       " 'kasko',\n",
       " 'işi',\n",
       " 'korkutuyor',\n",
       " 'beni',\n",
       " 'fazladan',\n",
       " 'bin',\n",
       " 'lira',\n",
       " 'ona',\n",
       " 'vereceğime',\n",
       " 'arabama',\n",
       " 'koruma',\n",
       " 'yaptırırım',\n",
       " 'daha',\n",
       " 'iyi',\n",
       " 'bu',\n",
       " 'arada',\n",
       " 'bir',\n",
       " 'ek',\n",
       " 'soru',\n",
       " 'daha',\n",
       " 'sorayım',\n",
       " 'son',\n",
       " 'zamanlarda',\n",
       " 'araç',\n",
       " 'alanlar',\n",
       " 'hediye',\n",
       " 'olarak',\n",
       " 'neler',\n",
       " 'alabildi',\n",
       " 'seramik',\n",
       " 'kaplamayı',\n",
       " 'sordum',\n",
       " 'dışardan',\n",
       " 'firmaya',\n",
       " 'yaptırıyoruz',\n",
       " 'normalde',\n",
       " 'tl',\n",
       " 'civarında',\n",
       " 'ama',\n",
       " 'size',\n",
       " 'yaparız',\n",
       " 'dediler',\n",
       " 'çokta',\n",
       " 'inandırıcı',\n",
       " 'gelmedi',\n",
       " 'önerisi',\n",
       " 'olan',\n",
       " 'var',\n",
       " 'mı',\n",
       " 'ozertr',\n",
       " 'alıntı',\n",
       " 'sakin',\n",
       " 'yaptırmayın',\n",
       " 'tanıdğınız',\n",
       " 'sigortacı',\n",
       " 'varsa',\n",
       " 'poliçeleri',\n",
       " 'hazırladım',\n",
       " 'size',\n",
       " 'bayiye',\n",
       " 'mail',\n",
       " 'atıyorum',\n",
       " 'desin',\n",
       " 'hiç',\n",
       " 'birşey',\n",
       " 'diyemezler',\n",
       " 'tanıdğınız',\n",
       " 'sigortacıyla',\n",
       " 'konuşun',\n",
       " 'o',\n",
       " 'halletsin',\n",
       " 'ben',\n",
       " 'trafik',\n",
       " 'sigortasını',\n",
       " 'yaptırdım',\n",
       " 'bayiden',\n",
       " 'tl',\n",
       " 'fazla',\n",
       " 'fiyat',\n",
       " 'çıkarmışlar',\n",
       " 'yaptırmış',\n",
       " 'bulundum',\n",
       " 'kaskoyu',\n",
       " 'dışarda',\n",
       " 'yaptırdım',\n",
       " 'zozolu',\n",
       " 'alıntı',\n",
       " 'çok',\n",
       " 'sağolun',\n",
       " 'hocam',\n",
       " 'beğeniler',\n",
       " 'zozolu',\n",
       " 'ben',\n",
       " 'de',\n",
       " 'aracı',\n",
       " 'alırken',\n",
       " 'tutturdular',\n",
       " 'illaki',\n",
       " 'aldığım',\n",
       " 'bayinin',\n",
       " 'kendisine',\n",
       " 'ait',\n",
       " 'kaskosundan',\n",
       " 'yaptıracaksın',\n",
       " 'diye',\n",
       " 'neden',\n",
       " 'dedim',\n",
       " 'efendim',\n",
       " 'mecburlarmış',\n",
       " 'da',\n",
       " 'kredi',\n",
       " 'kampanyasıymış',\n",
       " 'vs',\n",
       " 'fiyatı',\n",
       " 'pahalı',\n",
       " 'eureko',\n",
       " 'o',\n",
       " 'zaman',\n",
       " 'hem',\n",
       " 'daha',\n",
       " 'ucuzdu',\n",
       " 'hemde',\n",
       " 'bonus',\n",
       " 'veriyordu',\n",
       " 'mini',\n",
       " 'onarım',\n",
       " 'hizmeti',\n",
       " 'sadece',\n",
       " 'yılda',\n",
       " 'bir',\n",
       " 'kere',\n",
       " 'tl',\n",
       " 'ye',\n",
       " 'kadar',\n",
       " 'ben',\n",
       " 'her',\n",
       " 'sene',\n",
       " 'otoking',\n",
       " 'e',\n",
       " 'giderim',\n",
       " 'burada',\n",
       " 'öyle',\n",
       " 'bir',\n",
       " 'seçenek',\n",
       " 'yok',\n",
       " 'lira',\n",
       " 'mini',\n",
       " 'hasarın',\n",
       " 'işçiliğini',\n",
       " 'bile',\n",
       " 'karşılamaya',\n",
       " 'yetmez',\n",
       " 'anahtar',\n",
       " 'üzerindeyken',\n",
       " 'çalınma',\n",
       " 'koruması',\n",
       " 'yok',\n",
       " 'başka',\n",
       " 'servise',\n",
       " 'hasar',\n",
       " 'için',\n",
       " 'gittiğinde',\n",
       " 'de',\n",
       " 'yanlış',\n",
       " 'hatırlamıyorsam',\n",
       " 'farklı',\n",
       " 'bir',\n",
       " 'durum',\n",
       " 'da',\n",
       " 'vardı',\n",
       " 'almıyorum',\n",
       " 'o',\n",
       " 'zaman',\n",
       " 'aracı',\n",
       " 'dedim',\n",
       " 'ondan',\n",
       " 'sonra',\n",
       " 'sustular',\n",
       " 'yani',\n",
       " 'kısaca',\n",
       " 'hangi',\n",
       " 'kasko',\n",
       " 've',\n",
       " 'zorunlu',\n",
       " 'trafik',\n",
       " 'sizin',\n",
       " 'uygunsa',\n",
       " 'onu',\n",
       " 'seçin',\n",
       " 'eğer',\n",
       " 'gerçekten',\n",
       " 'sıfır',\n",
       " 'faiz',\n",
       " 'kampanyası',\n",
       " 'için',\n",
       " 'kaskoyu',\n",
       " 'belirli',\n",
       " 'bir',\n",
       " 'yerden',\n",
       " 'yaptırma',\n",
       " 'şartı',\n",
       " 'varsa',\n",
       " 'kampanya',\n",
       " 'koşullarını',\n",
       " 'yazılı',\n",
       " 'olarak',\n",
       " 'göstersinler',\n",
       " 'size',\n",
       " 'sanalcelik',\n",
       " 'eco',\n",
       " 'exe',\n",
       " 'aracım',\n",
       " 'için',\n",
       " 'tl',\n",
       " 'trafik',\n",
       " 've',\n",
       " 'tl',\n",
       " 'kasko',\n",
       " 'fiyatı',\n",
       " 'verildi',\n",
       " 'herhangi',\n",
       " 'bir',\n",
       " 'hasarsızlık',\n",
       " 'indirimim',\n",
       " 'yok']"
      ]
     },
     "execution_count": 6,
     "metadata": {},
     "output_type": "execute_result"
    }
   ],
   "source": [
    "import re\n",
    "\n",
    "text = sample[\"text\"]\n",
    "words = re.findall(r\"\\b[^\\d\\W]+\\b\", text)\n",
    "words = [word.lower() for word in words]\n",
    "words"
   ]
  },
  {
   "cell_type": "code",
   "execution_count": 27,
   "metadata": {},
   "outputs": [
    {
     "name": "stderr",
     "output_type": "stream",
     "text": [
      "Decomposing words: 100%|██████████| 313/313 [00:14<00:00, 21.44it/s]\n"
     ]
    }
   ],
   "source": [
    "from collections import Counter\n",
    "from morphology import decompose_tr, infer_best_decomposition, read_tr_dictionary\n",
    "from tqdm import tqdm \n",
    "\n",
    "counter = Counter(words)\n",
    "dictionary = read_tr_dictionary()\n",
    "decompositions = []\n",
    "\n",
    "for word in tqdm(counter, total=len(counter), desc=\"Decomposing words\"):\n",
    "    try:\n",
    "        decomps = [d.to_json() for d in decompose_tr(word)]\n",
    "        decomp = infer_best_decomposition(word, decomps, dictionary=dictionary)\n",
    "        if decomp:\n",
    "            decompositions.append({word: decomp})\n",
    "    except Exception as e:\n",
    "        print(e)\n",
    "        print(word)"
   ]
  },
  {
   "cell_type": "code",
   "execution_count": 28,
   "metadata": {},
   "outputs": [],
   "source": [
    "from utils import write_json\n",
    "\n",
    "write_json(decompositions, \"decomps.json\")"
   ]
  },
  {
   "cell_type": "code",
   "execution_count": 31,
   "metadata": {},
   "outputs": [
    {
     "data": {
      "text/plain": [
       "[{'root': 'göster',\n",
       "  'pos': 'VB',\n",
       "  'meta_morphemes': ['sHnlAr'],\n",
       "  'morphemes': ['sinler']}]"
      ]
     },
     "execution_count": 31,
     "metadata": {},
     "output_type": "execute_result"
    }
   ],
   "source": [
    "decomps = decompose_tr(\"göstersinler\")\n",
    "[d.to_json() for d in decomps]"
   ]
  },
  {
   "cell_type": "code",
   "execution_count": 30,
   "metadata": {},
   "outputs": [
    {
     "data": {
      "text/plain": [
       "True"
      ]
     },
     "execution_count": 30,
     "metadata": {},
     "output_type": "execute_result"
    }
   ],
   "source": [
    "\"onmak\" in dictionary"
   ]
  },
  {
   "cell_type": "code",
   "execution_count": 4,
   "metadata": {},
   "outputs": [
    {
     "name": "stdout",
     "output_type": "stream",
     "text": [
      "<class 'langdetect.language.Language'>\n"
     ]
    }
   ],
   "source": [
    "from langdetect import detect, detect_langs\n",
    "s = detect_langs(\"hello ne yapiyorsun?\")\n",
    "print(type(s[0]))"
   ]
  },
  {
   "cell_type": "code",
   "execution_count": 3,
   "metadata": {},
   "outputs": [
    {
     "name": "stderr",
     "output_type": "stream",
     "text": [
      "\u001b[32m2024-05-03 13:41:29.360\u001b[0m | \u001b[1mINFO    \u001b[0m | \u001b[36mdatatrove.utils.logging\u001b[0m:\u001b[36madd_task_logger\u001b[0m:\u001b[36m47\u001b[0m - \u001b[1mLaunching pipeline for rank=0\u001b[0m\n",
      "\u001b[32m2024-05-03 13:41:29.363\u001b[0m | \u001b[1mINFO    \u001b[0m | \u001b[36mdatatrove.utils.logging\u001b[0m:\u001b[36mlog_pipeline\u001b[0m:\u001b[36m76\u001b[0m - \u001b[1m\n",
      "--- 🛠️ PIPELINE 🛠\n",
      "📖 - READER: 🪶 Ipc\n",
      "🔻 - FILTER: 🌍 Language ID\n",
      "💽 - WRITER: 🐿 Jsonl\u001b[0m\n",
      "\u001b[32m2024-05-03 13:41:29.365\u001b[0m | \u001b[31m\u001b[1mERROR   \u001b[0m | \u001b[36mdatatrove.executor.base\u001b[0m:\u001b[36m_run_for_rank\u001b[0m:\u001b[36m95\u001b[0m - \u001b[31m\u001b[1m__enter__\u001b[0m\n",
      "\u001b[33m\u001b[1mTraceback (most recent call last):\u001b[0m\n",
      "\n",
      "  File \"/home/ismayilz/.conda/envs/morphgen2/lib/python3.10/runpy.py\", line 196, in _run_module_as_main\n",
      "    return _run_code(code, main_globals, None,\n",
      "           │         │     └ {'__name__': '__main__', '__doc__': 'Entry point for launching an IPython kernel.\\n\\nThis is separate from the ipykernel pack...\n",
      "           │         └ <code object <module> at 0x7f2849cb2c30, file \"/home/ismayilz/.conda/envs/morphgen2/lib/python3.10/site-packages/ipykernel_la...\n",
      "           └ <function _run_code at 0x7f2849caf5b0>\n",
      "  File \"/home/ismayilz/.conda/envs/morphgen2/lib/python3.10/runpy.py\", line 86, in _run_code\n",
      "    exec(code, run_globals)\n",
      "         │     └ {'__name__': '__main__', '__doc__': 'Entry point for launching an IPython kernel.\\n\\nThis is separate from the ipykernel pack...\n",
      "         └ <code object <module> at 0x7f2849cb2c30, file \"/home/ismayilz/.conda/envs/morphgen2/lib/python3.10/site-packages/ipykernel_la...\n",
      "  File \"/home/ismayilz/.conda/envs/morphgen2/lib/python3.10/site-packages/ipykernel_launcher.py\", line 18, in <module>\n",
      "    app.launch_new_instance()\n",
      "    │   └ <bound method Application.launch_instance of <class 'ipykernel.kernelapp.IPKernelApp'>>\n",
      "    └ <module 'ipykernel.kernelapp' from '/home/ismayilz/.conda/envs/morphgen2/lib/python3.10/site-packages/ipykernel/kernelapp.py'>\n",
      "  File \"/home/ismayilz/.conda/envs/morphgen2/lib/python3.10/site-packages/traitlets/config/application.py\", line 1075, in launch_instance\n",
      "    app.start()\n",
      "    │   └ <function IPKernelApp.start at 0x7f284743c3a0>\n",
      "    └ <ipykernel.kernelapp.IPKernelApp object at 0x7f2849c4cd00>\n",
      "  File \"/home/ismayilz/.conda/envs/morphgen2/lib/python3.10/site-packages/ipykernel/kernelapp.py\", line 739, in start\n",
      "    self.io_loop.start()\n",
      "    │    │       └ <function BaseAsyncIOLoop.start at 0x7f284743e170>\n",
      "    │    └ <tornado.platform.asyncio.AsyncIOMainLoop object at 0x7f2847491060>\n",
      "    └ <ipykernel.kernelapp.IPKernelApp object at 0x7f2849c4cd00>\n",
      "  File \"/home/ismayilz/.conda/envs/morphgen2/lib/python3.10/site-packages/tornado/platform/asyncio.py\", line 205, in start\n",
      "    self.asyncio_loop.run_forever()\n",
      "    │    │            └ <function BaseEventLoop.run_forever at 0x7f2848b4f520>\n",
      "    │    └ <_UnixSelectorEventLoop running=True closed=False debug=False>\n",
      "    └ <tornado.platform.asyncio.AsyncIOMainLoop object at 0x7f2847491060>\n",
      "  File \"/home/ismayilz/.conda/envs/morphgen2/lib/python3.10/asyncio/base_events.py\", line 603, in run_forever\n",
      "    self._run_once()\n",
      "    │    └ <function BaseEventLoop._run_once at 0x7f2848b51090>\n",
      "    └ <_UnixSelectorEventLoop running=True closed=False debug=False>\n",
      "  File \"/home/ismayilz/.conda/envs/morphgen2/lib/python3.10/asyncio/base_events.py\", line 1909, in _run_once\n",
      "    handle._run()\n",
      "    │      └ <function Handle._run at 0x7f2848d30790>\n",
      "    └ <Handle Task.task_wakeup(<Future finis...6B)>, ...],))>)>\n",
      "  File \"/home/ismayilz/.conda/envs/morphgen2/lib/python3.10/asyncio/events.py\", line 80, in _run\n",
      "    self._context.run(self._callback, *self._args)\n",
      "    │    │            │    │           │    └ <member '_args' of 'Handle' objects>\n",
      "    │    │            │    │           └ <Handle Task.task_wakeup(<Future finis...6B)>, ...],))>)>\n",
      "    │    │            │    └ <member '_callback' of 'Handle' objects>\n",
      "    │    │            └ <Handle Task.task_wakeup(<Future finis...6B)>, ...],))>)>\n",
      "    │    └ <member '_context' of 'Handle' objects>\n",
      "    └ <Handle Task.task_wakeup(<Future finis...6B)>, ...],))>)>\n",
      "  File \"/home/ismayilz/.conda/envs/morphgen2/lib/python3.10/site-packages/ipykernel/kernelbase.py\", line 545, in dispatch_queue\n",
      "    await self.process_one()\n",
      "          │    └ <function Kernel.process_one at 0x7f28473d9630>\n",
      "          └ <ipykernel.ipkernel.IPythonKernel object at 0x7f2847491630>\n",
      "  File \"/home/ismayilz/.conda/envs/morphgen2/lib/python3.10/site-packages/ipykernel/kernelbase.py\", line 534, in process_one\n",
      "    await dispatch(*args)\n",
      "          │         └ ([<zmq.Frame(b'd904570c-aec'...36B)>, <zmq.Frame(b'<IDS|MSG>')>, <zmq.Frame(b'6046b43d4485'...64B)>, <zmq.Frame(b'{\"date\":\"20...\n",
      "          └ <bound method Kernel.dispatch_shell of <ipykernel.ipkernel.IPythonKernel object at 0x7f2847491630>>\n",
      "  File \"/home/ismayilz/.conda/envs/morphgen2/lib/python3.10/site-packages/ipykernel/kernelbase.py\", line 437, in dispatch_shell\n",
      "    await result\n",
      "          └ <coroutine object IPythonKernel.execute_request at 0x7f2835269cb0>\n",
      "  File \"/home/ismayilz/.conda/envs/morphgen2/lib/python3.10/site-packages/ipykernel/ipkernel.py\", line 362, in execute_request\n",
      "    await super().execute_request(stream, ident, parent)\n",
      "                                  │       │      └ {'header': {'date': datetime.datetime(2024, 5, 3, 13, 41, 29, 286000, tzinfo=tzlocal()), 'msg_id': '74b45973-1bd7-4a3e-9b69-b...\n",
      "                                  │       └ [b'd904570c-aec3-429e-9f66-25db34345763']\n",
      "                                  └ <zmq.eventloop.zmqstream.ZMQStream object at 0x7f2847490df0>\n",
      "  File \"/home/ismayilz/.conda/envs/morphgen2/lib/python3.10/site-packages/ipykernel/kernelbase.py\", line 778, in execute_request\n",
      "    reply_content = await reply_content\n",
      "                          └ <coroutine object IPythonKernel.do_execute at 0x7f28200c8ac0>\n",
      "  File \"/home/ismayilz/.conda/envs/morphgen2/lib/python3.10/site-packages/ipykernel/ipkernel.py\", line 449, in do_execute\n",
      "    res = shell.run_cell(\n",
      "          │     └ <function ZMQInteractiveShell.run_cell at 0x7f284741c8b0>\n",
      "          └ <ipykernel.zmqshell.ZMQInteractiveShell object at 0x7f2836380a30>\n",
      "  File \"/home/ismayilz/.conda/envs/morphgen2/lib/python3.10/site-packages/ipykernel/zmqshell.py\", line 549, in run_cell\n",
      "    return super().run_cell(*args, **kwargs)\n",
      "                             │       └ {'store_history': True, 'silent': False, 'cell_id': 'vscode-notebook-cell://ssh-remote%2Biccluster215.iccluster.epfl.ch/mnt/n...\n",
      "                             └ ('from datatrove.pipeline.readers import JsonlReader, IpcReader, CSVReader\\n# from datatrove.pipeline.filters.c4_filters impo...\n",
      "  File \"/home/ismayilz/.conda/envs/morphgen2/lib/python3.10/site-packages/IPython/core/interactiveshell.py\", line 3075, in run_cell\n",
      "    result = self._run_cell(\n",
      "             │    └ <function InteractiveShell._run_cell at 0x7f2847df37f0>\n",
      "             └ <ipykernel.zmqshell.ZMQInteractiveShell object at 0x7f2836380a30>\n",
      "  File \"/home/ismayilz/.conda/envs/morphgen2/lib/python3.10/site-packages/IPython/core/interactiveshell.py\", line 3130, in _run_cell\n",
      "    result = runner(coro)\n",
      "             │      └ <coroutine object InteractiveShell.run_cell_async at 0x7f282036be60>\n",
      "             └ <function _pseudo_sync_runner at 0x7f2847dd3130>\n",
      "  File \"/home/ismayilz/.conda/envs/morphgen2/lib/python3.10/site-packages/IPython/core/async_helpers.py\", line 129, in _pseudo_sync_runner\n",
      "    coro.send(None)\n",
      "    │    └ <method 'send' of 'coroutine' objects>\n",
      "    └ <coroutine object InteractiveShell.run_cell_async at 0x7f282036be60>\n",
      "  File \"/home/ismayilz/.conda/envs/morphgen2/lib/python3.10/site-packages/IPython/core/interactiveshell.py\", line 3334, in run_cell_async\n",
      "    has_raised = await self.run_ast_nodes(code_ast.body, cell_name,\n",
      "                       │    │             │        │     └ '/tmp/ipykernel_8887/3551109586.py'\n",
      "                       │    │             │        └ [<ast.ImportFrom object at 0x7f28203a1270>, <ast.ImportFrom object at 0x7f28203a1450>, <ast.ImportFrom object at 0x7f28203a14...\n",
      "                       │    │             └ <ast.Module object at 0x7f28203a11b0>\n",
      "                       │    └ <function InteractiveShell.run_ast_nodes at 0x7f2847df3ac0>\n",
      "                       └ <ipykernel.zmqshell.ZMQInteractiveShell object at 0x7f2836380a30>\n",
      "  File \"/home/ismayilz/.conda/envs/morphgen2/lib/python3.10/site-packages/IPython/core/interactiveshell.py\", line 3517, in run_ast_nodes\n",
      "    if await self.run_code(code, result, async_=asy):\n",
      "             │    │        │     │              └ False\n",
      "             │    │        │     └ <ExecutionResult object at 7f2820380520, execution_count=3 error_before_exec=None error_in_exec=None info=<ExecutionInfo obje...\n",
      "             │    │        └ <code object <module> at 0x7f277ff6d580, file \"/tmp/ipykernel_8887/3551109586.py\", line 1>\n",
      "             │    └ <function InteractiveShell.run_code at 0x7f2847df3b50>\n",
      "             └ <ipykernel.zmqshell.ZMQInteractiveShell object at 0x7f2836380a30>\n",
      "  File \"/home/ismayilz/.conda/envs/morphgen2/lib/python3.10/site-packages/IPython/core/interactiveshell.py\", line 3577, in run_code\n",
      "    exec(code_obj, self.user_global_ns, self.user_ns)\n",
      "         │         │    │               │    └ {'__name__': '__main__', '__doc__': 'Automatically created module for IPython interactive environment', '__package__': None, ...\n",
      "         │         │    │               └ <ipykernel.zmqshell.ZMQInteractiveShell object at 0x7f2836380a30>\n",
      "         │         │    └ <property object at 0x7f2847de04a0>\n",
      "         │         └ <ipykernel.zmqshell.ZMQInteractiveShell object at 0x7f2836380a30>\n",
      "         └ <code object <module> at 0x7f277ff6d580, file \"/tmp/ipykernel_8887/3551109586.py\", line 1>\n",
      "\n",
      "  File \"\u001b[32m/tmp/ipykernel_8887/\u001b[0m\u001b[32m\u001b[1m3551109586.py\u001b[0m\", line \u001b[33m70\u001b[0m, in \u001b[35m<module>\u001b[0m\n",
      "    \u001b[1mpreprocessing\u001b[0m\u001b[35m\u001b[1m.\u001b[0m\u001b[1mrun\u001b[0m\u001b[1m(\u001b[0m\u001b[1m)\u001b[0m\n",
      "    \u001b[36m│             └ \u001b[0m\u001b[36m\u001b[1m<function LocalPipelineExecutor.run at 0x7f277ff140d0>\u001b[0m\n",
      "    \u001b[36m└ \u001b[0m\u001b[36m\u001b[1m<datatrove.executor.local.LocalPipelineExecutor object at 0x7f28203c0550>\u001b[0m\n",
      "\n",
      "  File \"/home/ismayilz/.conda/envs/morphgen2/lib/python3.10/site-packages/datatrove/executor/local.py\", line 125, in run\n",
      "    stats.append(self._launch_run_for_rank(rank, ranks_q))\n",
      "    │     │      │    │                    │     └ <AutoProxy[Queue] object, typeid 'Queue' at 0x7f28203783d0>\n",
      "    │     │      │    │                    └ 0\n",
      "    │     │      │    └ <function LocalPipelineExecutor._launch_run_for_rank at 0x7f277ff14040>\n",
      "    │     │      └ <datatrove.executor.local.LocalPipelineExecutor object at 0x7f28203c0550>\n",
      "    │     └ <method 'append' of 'list' objects>\n",
      "    └ []\n",
      "  File \"/home/ismayilz/.conda/envs/morphgen2/lib/python3.10/site-packages/datatrove/executor/local.py\", line 74, in _launch_run_for_rank\n",
      "    return self._run_for_rank(rank, local_rank)\n",
      "           │    │             │     └ 0\n",
      "           │    │             └ 0\n",
      "           │    └ <function PipelineExecutor._run_for_rank at 0x7f277ff03be0>\n",
      "           └ <datatrove.executor.local.LocalPipelineExecutor object at 0x7f28203c0550>\n",
      "> File \"/home/ismayilz/.conda/envs/morphgen2/lib/python3.10/site-packages/datatrove/executor/base.py\", line 83, in _run_for_rank\n",
      "    deque(pipelined_data, maxlen=0)\n",
      "    │     └ <generator object DiskWriter.run at 0x7f277fe2c820>\n",
      "    └ <class 'collections.deque'>\n",
      "  File \"/home/ismayilz/.conda/envs/morphgen2/lib/python3.10/site-packages/datatrove/pipeline/writers/disk_base.py\", line 173, in run\n",
      "    for document in data:\n",
      "                    └ <generator object BaseFilter.run at 0x7f277fefa9d0>\n",
      "  File \"/home/ismayilz/.conda/envs/morphgen2/lib/python3.10/site-packages/datatrove/pipeline/filters/base_filter.py\", line 46, in run\n",
      "    with self.exclusion_writer if self.exclusion_writer else contextlib.nullcontext() as writer:\n",
      "         │    │                   │    │                     │          └ <class 'contextlib.nullcontext'>\n",
      "         │    │                   │    │                     └ <module 'contextlib' from '/home/ismayilz/.conda/envs/morphgen2/lib/python3.10/contextlib.py'>\n",
      "         │    │                   │    └ '/mnt/nlpdata1/home/ismayilz/morph-gen-c4/lang_filter_removed'\n",
      "         │    │                   └ 🔻 - FILTER: 🌍 Language ID\n",
      "         │    └ '/mnt/nlpdata1/home/ismayilz/morph-gen-c4/lang_filter_removed'\n",
      "         └ 🔻 - FILTER: 🌍 Language ID\n",
      "\n",
      "\u001b[31m\u001b[1mAttributeError\u001b[0m:\u001b[1m __enter__\u001b[0m\n"
     ]
    },
    {
     "ename": "AttributeError",
     "evalue": "__enter__",
     "output_type": "error",
     "traceback": [
      "\u001b[0;31m---------------------------------------------------------------------------\u001b[0m",
      "\u001b[0;31mAttributeError\u001b[0m                            Traceback (most recent call last)",
      "Cell \u001b[0;32mIn[3], line 70\u001b[0m\n\u001b[1;32m     57\u001b[0m         \u001b[38;5;28;01mreturn\u001b[39;00m tr_score \u001b[38;5;241m>\u001b[39m \u001b[38;5;28mself\u001b[39m\u001b[38;5;241m.\u001b[39mlanguage_threshold\n\u001b[1;32m     59\u001b[0m preprocessing \u001b[38;5;241m=\u001b[39m LocalPipelineExecutor(\n\u001b[1;32m     60\u001b[0m     pipeline\u001b[38;5;241m=\u001b[39m[\n\u001b[1;32m     61\u001b[0m         IpcReader(data_dir, stream\u001b[38;5;241m=\u001b[39m\u001b[38;5;28;01mTrue\u001b[39;00m, progress\u001b[38;5;241m=\u001b[39m\u001b[38;5;28;01mTrue\u001b[39;00m, glob_pattern\u001b[38;5;241m=\u001b[39m\u001b[38;5;124m\"\u001b[39m\u001b[38;5;124mc4-validation.arrow\u001b[39m\u001b[38;5;124m\"\u001b[39m),\n\u001b[0;32m   (...)\u001b[0m\n\u001b[1;32m     67\u001b[0m     workers\u001b[38;5;241m=\u001b[39m\u001b[38;5;241m1\u001b[39m\n\u001b[1;32m     68\u001b[0m )\n\u001b[0;32m---> 70\u001b[0m \u001b[43mpreprocessing\u001b[49m\u001b[38;5;241;43m.\u001b[39;49m\u001b[43mrun\u001b[49m\u001b[43m(\u001b[49m\u001b[43m)\u001b[49m\n",
      "File \u001b[0;32m~/.conda/envs/morphgen2/lib/python3.10/site-packages/datatrove/executor/local.py:125\u001b[0m, in \u001b[0;36mLocalPipelineExecutor.run\u001b[0;34m(self)\u001b[0m\n\u001b[1;32m    123\u001b[0m     \u001b[38;5;28;01mfor\u001b[39;00m rank \u001b[38;5;129;01min\u001b[39;00m ranks_to_run:\n\u001b[1;32m    124\u001b[0m         \u001b[38;5;28mself\u001b[39m\u001b[38;5;241m.\u001b[39mpipeline \u001b[38;5;241m=\u001b[39m deepcopy(pipeline)\n\u001b[0;32m--> 125\u001b[0m         stats\u001b[38;5;241m.\u001b[39mappend(\u001b[38;5;28;43mself\u001b[39;49m\u001b[38;5;241;43m.\u001b[39;49m\u001b[43m_launch_run_for_rank\u001b[49m\u001b[43m(\u001b[49m\u001b[43mrank\u001b[49m\u001b[43m,\u001b[49m\u001b[43m \u001b[49m\u001b[43mranks_q\u001b[49m\u001b[43m)\u001b[49m)\n\u001b[1;32m    126\u001b[0m \u001b[38;5;28;01melse\u001b[39;00m:\n\u001b[1;32m    127\u001b[0m     completed_counter \u001b[38;5;241m=\u001b[39m mg\u001b[38;5;241m.\u001b[39mValue(\u001b[38;5;124m\"\u001b[39m\u001b[38;5;124mi\u001b[39m\u001b[38;5;124m\"\u001b[39m, skipped)\n",
      "File \u001b[0;32m~/.conda/envs/morphgen2/lib/python3.10/site-packages/datatrove/executor/local.py:74\u001b[0m, in \u001b[0;36mLocalPipelineExecutor._launch_run_for_rank\u001b[0;34m(self, rank, ranks_q, completed, completed_lock)\u001b[0m\n\u001b[1;32m     72\u001b[0m local_rank \u001b[38;5;241m=\u001b[39m ranks_q\u001b[38;5;241m.\u001b[39mget()\n\u001b[1;32m     73\u001b[0m \u001b[38;5;28;01mtry\u001b[39;00m:\n\u001b[0;32m---> 74\u001b[0m     \u001b[38;5;28;01mreturn\u001b[39;00m \u001b[38;5;28;43mself\u001b[39;49m\u001b[38;5;241;43m.\u001b[39;49m\u001b[43m_run_for_rank\u001b[49m\u001b[43m(\u001b[49m\u001b[43mrank\u001b[49m\u001b[43m,\u001b[49m\u001b[43m \u001b[49m\u001b[43mlocal_rank\u001b[49m\u001b[43m)\u001b[49m\n\u001b[1;32m     75\u001b[0m \u001b[38;5;28;01mfinally\u001b[39;00m:\n\u001b[1;32m     76\u001b[0m     \u001b[38;5;28;01mif\u001b[39;00m completed \u001b[38;5;129;01mand\u001b[39;00m completed_lock:\n",
      "File \u001b[0;32m~/.conda/envs/morphgen2/lib/python3.10/site-packages/datatrove/executor/base.py:96\u001b[0m, in \u001b[0;36mPipelineExecutor._run_for_rank\u001b[0;34m(self, rank, local_rank)\u001b[0m\n\u001b[1;32m     94\u001b[0m \u001b[38;5;28;01mexcept\u001b[39;00m \u001b[38;5;167;01mException\u001b[39;00m \u001b[38;5;28;01mas\u001b[39;00m e:\n\u001b[1;32m     95\u001b[0m     logger\u001b[38;5;241m.\u001b[39mexception(e)\n\u001b[0;32m---> 96\u001b[0m     \u001b[38;5;28;01mraise\u001b[39;00m e\n\u001b[1;32m     97\u001b[0m \u001b[38;5;28;01mfinally\u001b[39;00m:\n\u001b[1;32m     98\u001b[0m     close_task_logger(logfile)\n",
      "File \u001b[0;32m~/.conda/envs/morphgen2/lib/python3.10/site-packages/datatrove/executor/base.py:83\u001b[0m, in \u001b[0;36mPipelineExecutor._run_for_rank\u001b[0;34m(self, rank, local_rank)\u001b[0m\n\u001b[1;32m     81\u001b[0m         \u001b[38;5;28;01mraise\u001b[39;00m \u001b[38;5;167;01mValueError\u001b[39;00m\n\u001b[1;32m     82\u001b[0m \u001b[38;5;28;01mif\u001b[39;00m pipelined_data:\n\u001b[0;32m---> 83\u001b[0m     \u001b[43mdeque\u001b[49m\u001b[43m(\u001b[49m\u001b[43mpipelined_data\u001b[49m\u001b[43m,\u001b[49m\u001b[43m \u001b[49m\u001b[43mmaxlen\u001b[49m\u001b[38;5;241;43m=\u001b[39;49m\u001b[38;5;241;43m0\u001b[39;49m\u001b[43m)\u001b[49m\n\u001b[1;32m     85\u001b[0m logger\u001b[38;5;241m.\u001b[39msuccess(\u001b[38;5;124mf\u001b[39m\u001b[38;5;124m\"\u001b[39m\u001b[38;5;124mProcessing done for \u001b[39m\u001b[38;5;132;01m{\u001b[39;00mrank\u001b[38;5;132;01m=}\u001b[39;00m\u001b[38;5;124m\"\u001b[39m)\n\u001b[1;32m     87\u001b[0m \u001b[38;5;66;03m# stats\u001b[39;00m\n",
      "File \u001b[0;32m~/.conda/envs/morphgen2/lib/python3.10/site-packages/datatrove/pipeline/writers/disk_base.py:173\u001b[0m, in \u001b[0;36mDiskWriter.run\u001b[0;34m(self, data, rank, world_size)\u001b[0m\n\u001b[1;32m    162\u001b[0m \u001b[38;5;250m\u001b[39m\u001b[38;5;124;03m\"\"\"\u001b[39;00m\n\u001b[1;32m    163\u001b[0m \u001b[38;5;124;03mSimply call `write` for each document\u001b[39;00m\n\u001b[1;32m    164\u001b[0m \u001b[38;5;124;03mArgs:\u001b[39;00m\n\u001b[0;32m   (...)\u001b[0m\n\u001b[1;32m    170\u001b[0m \n\u001b[1;32m    171\u001b[0m \u001b[38;5;124;03m\"\"\"\u001b[39;00m\n\u001b[1;32m    172\u001b[0m \u001b[38;5;28;01mwith\u001b[39;00m \u001b[38;5;28mself\u001b[39m:\n\u001b[0;32m--> 173\u001b[0m     \u001b[38;5;28;01mfor\u001b[39;00m document \u001b[38;5;129;01min\u001b[39;00m data:\n\u001b[1;32m    174\u001b[0m         \u001b[38;5;28;01mwith\u001b[39;00m \u001b[38;5;28mself\u001b[39m\u001b[38;5;241m.\u001b[39mtrack_time():\n\u001b[1;32m    175\u001b[0m             \u001b[38;5;28mself\u001b[39m\u001b[38;5;241m.\u001b[39mwrite(document, rank)\n",
      "File \u001b[0;32m~/.conda/envs/morphgen2/lib/python3.10/site-packages/datatrove/pipeline/filters/base_filter.py:46\u001b[0m, in \u001b[0;36mBaseFilter.run\u001b[0;34m(self, data, rank, world_size)\u001b[0m\n\u001b[1;32m     45\u001b[0m \u001b[38;5;28;01mdef\u001b[39;00m \u001b[38;5;21mrun\u001b[39m(\u001b[38;5;28mself\u001b[39m, data: DocumentsPipeline, rank: \u001b[38;5;28mint\u001b[39m \u001b[38;5;241m=\u001b[39m \u001b[38;5;241m0\u001b[39m, world_size: \u001b[38;5;28mint\u001b[39m \u001b[38;5;241m=\u001b[39m \u001b[38;5;241m1\u001b[39m) \u001b[38;5;241m-\u001b[39m\u001b[38;5;241m>\u001b[39m DocumentsPipeline:\n\u001b[0;32m---> 46\u001b[0m     \u001b[38;5;28;01mwith\u001b[39;00m \u001b[38;5;28mself\u001b[39m\u001b[38;5;241m.\u001b[39mexclusion_writer \u001b[38;5;28;01mif\u001b[39;00m \u001b[38;5;28mself\u001b[39m\u001b[38;5;241m.\u001b[39mexclusion_writer \u001b[38;5;28;01melse\u001b[39;00m contextlib\u001b[38;5;241m.\u001b[39mnullcontext() \u001b[38;5;28;01mas\u001b[39;00m writer:\n\u001b[1;32m     47\u001b[0m         \u001b[38;5;28;01mfor\u001b[39;00m doc \u001b[38;5;129;01min\u001b[39;00m data:\n\u001b[1;32m     48\u001b[0m             \u001b[38;5;28mself\u001b[39m\u001b[38;5;241m.\u001b[39mstat_update(StatHints\u001b[38;5;241m.\u001b[39mtotal)\n",
      "\u001b[0;31mAttributeError\u001b[0m: __enter__"
     ]
    }
   ],
   "source": [
    "from datatrove.pipeline.readers import JsonlReader, IpcReader, CSVReader\n",
    "# from datatrove.pipeline.filters.c4_filters import C4QualityFilter\n",
    "from datatrove.executor import LocalPipelineExecutor\n",
    "from datatrove.data import DocumentsPipeline\n",
    "from langdetect import detect, detect_langs\n",
    "from datatrove.data import Document\n",
    "from datatrove.pipeline.filters.base_filter import BaseFilter\n",
    "from datatrove.pipeline.writers.disk_base import DiskWriter\n",
    "from datatrove.pipeline.writers.jsonl import JsonlWriter\n",
    "\n",
    "def normalize(data: DocumentsPipeline, rank: int = 0, world_size: int = 1) -> DocumentsPipeline:\n",
    "    for document in data:\n",
    "        document.timestamp = str(document.timestamp)\n",
    "        yield document\n",
    "\n",
    "data_dir = \"/mnt/nlpdata1/share/datasets/allenai___c4/tr/0.0.0/1588ec454efa1a09f29cd18ddd04fe05fc8653a2\"\n",
    "dump_data_dir = \"/mnt/nlpdata1/home/ismayilz/morph-gen-c4\"\n",
    "\n",
    "class TRLanguageFilter(BaseFilter):\n",
    "    name = \"🌍 Language ID\"\n",
    "    _requires_dependencies = [\"langdetect\"]\n",
    "\n",
    "    def __init__(\n",
    "        self,\n",
    "        language_threshold: float = 0.9,\n",
    "        exclusion_writer: DiskWriter = None,\n",
    "    ):\n",
    "        \"\"\"\n",
    "        filters if the predicted language is not Turkish or if the language score is below language\n",
    "        language_threshold\n",
    "\n",
    "        Args:\n",
    "            language_threshold: language_threshold minimum score to accept a document\n",
    "            exclusion_writer:\n",
    "        \"\"\"\n",
    "        super().__init__(exclusion_writer)\n",
    "        self.language_threshold = language_threshold\n",
    "        self._model = None\n",
    "\n",
    "    def filter(self, doc: Document) -> bool:\n",
    "        \"\"\"Args:\n",
    "            doc: document\n",
    "\n",
    "        Returns:\n",
    "            is_filter\n",
    "        \"\"\"\n",
    "\n",
    "        lang_scores = detect_langs(doc.text)\n",
    "        tr_score = 0\n",
    "\n",
    "        for lang_score in lang_scores:\n",
    "            lang, score = lang_score.split(\":\")\n",
    "            if lang == \"tr\":\n",
    "                tr_score = float(score)\n",
    "\n",
    "        doc.metadata[\"tr_score\"] = tr_score\n",
    "        return tr_score > self.language_threshold\n",
    "    \n",
    "preprocessing = LocalPipelineExecutor(\n",
    "    pipeline=[\n",
    "        IpcReader(data_dir, stream=True, progress=True, glob_pattern=\"c4-validation.arrow\"),\n",
    "        normalize,\n",
    "        TRLanguageFilter(exclusion_writer=f\"{dump_data_dir}/lang_filter_removed\"),\n",
    "        JsonlWriter(f\"{dump_data_dir}/lang_filtered\", \"validation_${rank}.jsonl\")\n",
    "    ],\n",
    "    logging_dir=\"logs/\",\n",
    "    tasks=1,\n",
    "    workers=1\n",
    ")\n",
    "\n",
    "preprocessing.run()"
   ]
  },
  {
   "cell_type": "code",
   "execution_count": 4,
   "metadata": {},
   "outputs": [
    {
     "data": {
      "text/plain": [
       "'iso8859-1'"
      ]
     },
     "execution_count": 4,
     "metadata": {},
     "output_type": "execute_result"
    }
   ],
   "source": [
    "import sys\n",
    "\n",
    "sys.set"
   ]
  },
  {
   "cell_type": "code",
   "execution_count": 1,
   "metadata": {},
   "outputs": [
    {
     "name": "stderr",
     "output_type": "stream",
     "text": [
      "/mnt/u14157_ic_nlp_001_files_nfs/nlpdata1/home/ismayilz/.miniconda3/envs/morph-gen/lib/python3.10/site-packages/tqdm/auto.py:21: TqdmWarning: IProgress not found. Please update jupyter and ipywidgets. See https://ipywidgets.readthedocs.io/en/stable/user_install.html\n",
      "  from .autonotebook import tqdm as notebook_tqdm\n"
     ]
    }
   ],
   "source": [
    "from datasets import load_dataset\n",
    "\n",
    "data_dir = \"/mnt/u14157_ic_nlp_001_files_nfs/nlpdata1/share/datasets/wikimedia___wikipedia/20231101.tr/0.0.0/b04c8d1ceb2f5cd4588862100d08de323dccfbaa\"\n",
    "data_file = \"wikipedia-train-00000-of-00002.arrow\"\n",
    "data = load_dataset(data_dir, streaming=True)"
   ]
  },
  {
   "cell_type": "code",
   "execution_count": 3,
   "metadata": {},
   "outputs": [
    {
     "data": {
      "text/plain": [
       "IterableDataset({\n",
       "    features: ['id', 'url', 'title', 'text'],\n",
       "    n_shards: 2\n",
       "})"
      ]
     },
     "execution_count": 3,
     "metadata": {},
     "output_type": "execute_result"
    }
   ],
   "source": [
    "data[\"train\"]"
   ]
  },
  {
   "cell_type": "code",
   "execution_count": 13,
   "metadata": {},
   "outputs": [
    {
     "name": "stderr",
     "output_type": "stream",
     "text": [
      "100%|█████████▉| 534988/535000 [01:37<00:00, 5488.85it/s]\n"
     ]
    }
   ],
   "source": [
    "import pathlib, json\n",
    "from tqdm import tqdm\n",
    "\n",
    "output_dir = \"/mnt/u14157_ic_nlp_001_files_nfs/nlpdata1/home/ismayilz/morph-gen-wiki/batch_jsonl\"\n",
    "batch = []\n",
    "batch_size = 1000\n",
    "batch_id = 0\n",
    "\n",
    "pathlib.Path(output_dir).mkdir(parents=True, exist_ok=True)\n",
    "\n",
    "def write_batch(batch, batch_id):\n",
    "    if batch:\n",
    "        with open(f\"{output_dir}/{str(batch_id).zfill(5)}.jsonl\", mode=\"wt\", encoding=\"utf-8\") as f:\n",
    "            for doc in batch:\n",
    "                try:\n",
    "                    f.write(json.dumps(doc, ensure_ascii=False) + \"\\n\")\n",
    "                except Exception as e:\n",
    "                    print(doc)\n",
    "                    raise e\n",
    "    \n",
    "for document in tqdm(iter(data[\"train\"]), total=535000):\n",
    "    if len(batch) < batch_size:\n",
    "        batch.append(document)\n",
    "    else:\n",
    "        write_batch(batch, batch_id)\n",
    "        batch = []\n",
    "        batch_id += 1\n",
    "\n",
    "write_batch(batch, batch_id)"
   ]
  },
  {
   "cell_type": "code",
   "execution_count": 12,
   "metadata": {},
   "outputs": [],
   "source": [
    "data_iter = iter(data[\"train\"])\n",
    "\n",
    "sample = next(data_iter)\n",
    "\n",
    "with open(\"test.jsonl\", mode=\"wt\", encoding=\"utf-8\") as f:\n",
    "    f.write(json.dumps(sample, ensure_ascii=False)+\"\\n\")"
   ]
  },
  {
   "cell_type": "code",
   "execution_count": 1,
   "metadata": {},
   "outputs": [],
   "source": [
    "%load_ext autoreload\n",
    "%autoreload"
   ]
  },
  {
   "cell_type": "code",
   "execution_count": 5,
   "metadata": {},
   "outputs": [
    {
     "name": "stdout",
     "output_type": "stream",
     "text": [
      "{'root': 'ol', 'pos': 'NN', 'meta_morphemes': ['mA', 'YAbil', 'Hr', 'sH', 'HnHz'], 'morphemes': ['ma', 'yabil', 'ir', 'si', 'niz']}\n",
      "{'root': 'ol', 'pos': 'NN', 'meta_morphemes': ['mA', 'YAbil', 'Hr', 'sH', 'HnHz'], 'morphemes': ['ma', 'yabil', 'ir', 'si', 'niz']}\n",
      "{'root': 'ol', 'pos': 'NOMP', 'meta_morphemes': ['mA', 'YAbil', 'Hr', 'sHnHz'], 'morphemes': ['ma', 'yabil', 'ir', 'siniz']}\n",
      "{'root': 'ol', 'pos': 'NOMP', 'meta_morphemes': ['mA', 'YAbil', 'Hr', 'sH', 'Hn', 'YHz'], 'morphemes': ['ma', 'yabil', 'ir', 'si', 'n', 'iz']}\n",
      "{'root': 'ol', 'pos': 'NOMP', 'meta_morphemes': ['mA', 'YAbil', 'Hr', 'sH', 'Hn', 'YHz'], 'morphemes': ['ma', 'yabil', 'ir', 'si', 'n', 'iz']}\n"
     ]
    },
    {
     "data": {
      "text/plain": [
       "[{'root': 'ol',\n",
       "  'pos': 'NOMP',\n",
       "  'meta_morphemes': ['mA', 'YAbil', 'Hr', 'sHnHz'],\n",
       "  'morphemes': ['ma', 'yabil', 'ir', 'siniz']}]"
      ]
     },
     "execution_count": 5,
     "metadata": {},
     "output_type": "execute_result"
    }
   ],
   "source": [
    "from morphology import decompose_tr, infer_best_decompositions_tr, read_tr_dictionary\n",
    "\n",
    "decomps = [decomp.to_json() for decomp in decompose_tr(\"olmayabilirsiniz\")]\n",
    "\n",
    "for decomp in decomps:\n",
    "    print(decomp)\n",
    "\n",
    "infer_best_decompositions_tr(None, decomps, read_tr_dictionary())"
   ]
  },
  {
   "cell_type": "code",
   "execution_count": 14,
   "metadata": {},
   "outputs": [],
   "source": [
    "from datasets import load_dataset\n",
    "\n",
    "data_dir = \"/mnt/u14157_ic_nlp_001_files_nfs/nlpdata1/home/ismayilz/project-morphgen/morph-gen-wiki/batch_jsonl\"\n",
    "\n",
    "train_files = [f\"{data_dir}/{str(i).zfill(5)}.jsonl\" for i in range(530)]\n",
    "validation_files = [f\"{data_dir}/{str(i).zfill(5)}.jsonl\" for i in range(530, 535)]\n",
    "\n",
    "# train_data = load_dataset(\"json\", data_dir=data_dir, data_files=train_files, streaming=True)\n",
    "# validation_data = load_dataset(\"json\", data_dir=data_dir, data_files=validation_files, streaming=True)"
   ]
  },
  {
   "cell_type": "code",
   "execution_count": 23,
   "metadata": {},
   "outputs": [
    {
     "name": "stderr",
     "output_type": "stream",
     "text": [
      "Downloading data: 100%|██████████| 530/530 [00:00<00:00, 146306.51files/s]\n",
      "Generating train split: 530000 examples [00:05, 91139.84 examples/s] \n",
      "Generating validation split: 4454 examples [00:00, 80942.77 examples/s]\n"
     ]
    }
   ],
   "source": [
    "from datasets import DatasetDict, Value, Features\n",
    "\n",
    "features = Features({\n",
    "    \"id\": Value(dtype=\"int64\"),\n",
    "    \"url\": Value(dtype=\"string\"),\n",
    "    \"title\": Value(dtype=\"string\"),\n",
    "    \"text\": Value(dtype=\"string\")\n",
    "})\n",
    "full_data = DatasetDict.from_json({\"train\": train_files, \"validation\": validation_files}, features=features)"
   ]
  },
  {
   "cell_type": "code",
   "execution_count": 24,
   "metadata": {},
   "outputs": [
    {
     "data": {
      "text/plain": [
       "DatasetDict({\n",
       "    train: Dataset({\n",
       "        features: ['id', 'url', 'title', 'text'],\n",
       "        num_rows: 530000\n",
       "    })\n",
       "    validation: Dataset({\n",
       "        features: ['id', 'url', 'title', 'text'],\n",
       "        num_rows: 4454\n",
       "    })\n",
       "})"
      ]
     },
     "execution_count": 24,
     "metadata": {},
     "output_type": "execute_result"
    }
   ],
   "source": [
    "full_data"
   ]
  },
  {
   "cell_type": "code",
   "execution_count": 25,
   "metadata": {},
   "outputs": [
    {
     "name": "stderr",
     "output_type": "stream",
     "text": [
      "Saving the dataset (0/2 shards):   0%|          | 0/530000 [00:00<?, ? examples/s]"
     ]
    },
    {
     "name": "stderr",
     "output_type": "stream",
     "text": [
      "Saving the dataset (2/2 shards): 100%|██████████| 530000/530000 [00:08<00:00, 60554.65 examples/s] \n",
      "Saving the dataset (1/1 shards): 100%|██████████| 4454/4454 [00:00<00:00, 42105.45 examples/s]\n"
     ]
    }
   ],
   "source": [
    "full_data.save_to_disk(f\"/mnt/u14157_ic_nlp_001_files_nfs/nlpdata1/home/ismayilz/project-morphgen/morph-gen-wiki/data\")"
   ]
  },
  {
   "cell_type": "code",
   "execution_count": 33,
   "metadata": {},
   "outputs": [
    {
     "name": "stderr",
     "output_type": "stream",
     "text": [
      "Creating parquet from Arrow format: 100%|██████████| 265/265 [00:02<00:00, 103.94ba/s]\n",
      "Creating parquet from Arrow format: 100%|██████████| 265/265 [00:01<00:00, 172.62ba/s]\n",
      "Uploading the dataset shards: 100%|██████████| 2/2 [00:25<00:00, 12.75s/it]\n",
      "Creating parquet from Arrow format: 100%|██████████| 5/5 [00:00<00:00, 81.54ba/s]\n",
      "Uploading the dataset shards: 100%|██████████| 1/1 [00:00<00:00,  1.14it/s]\n"
     ]
    },
    {
     "data": {
      "text/plain": [
       "CommitInfo(commit_url='https://huggingface.co/datasets/mismayil/tr_wikipedia/commit/ba079d3e635654ed9e8e3c48006de369b25ca1d5', commit_message='Upload dataset', commit_description='', oid='ba079d3e635654ed9e8e3c48006de369b25ca1d5', pr_url=None, pr_revision=None, pr_num=None)"
      ]
     },
     "execution_count": 33,
     "metadata": {},
     "output_type": "execute_result"
    }
   ],
   "source": [
    "full_data.push_to_hub(\"mismayil/tr_wikipedia\")"
   ]
  },
  {
   "cell_type": "code",
   "execution_count": 36,
   "metadata": {},
   "outputs": [
    {
     "name": "stderr",
     "output_type": "stream",
     "text": [
      "Map: 100%|██████████| 530000/530000 [00:50<00:00, 10517.29 examples/s]\n",
      "Map: 100%|██████████| 4454/4454 [00:00<00:00, 9396.19 examples/s]\n"
     ]
    }
   ],
   "source": [
    "def lowertext(ex):\n",
    "    ex[\"text\"] = ex[\"text\"].lower()\n",
    "    return ex\n",
    "\n",
    "full_data = full_data.map(lowertext)"
   ]
  },
  {
   "cell_type": "code",
   "execution_count": 37,
   "metadata": {},
   "outputs": [
    {
     "data": {
      "text/plain": [
       "{'id': 10,\n",
       " 'url': 'https://tr.wikipedia.org/wiki/Cengiz%20Han',\n",
       " 'title': 'Cengiz Han',\n",
       " 'text': 'cengiz han (doğum adıyla temuçin,  – 18 ağustos 1227), moğol i̇mparatorluğu\\'nun kurucusu ve ilk kağanı olan moğol komutan ve hükümdardır. hükümdarlığı döneminde gerçekleştirdiği hiçbir savaşı kaybetmeyen cengiz han, dünya tarihinin en büyük askeri liderlerinden birisi olarak kabul edilmektedir. 13. yüzyılın başında orta asya\\'daki tüm göçebe bozkır kavimlerini birleştirip bir ulus hâline getirerek moğol siyasi kimliği çatısı altında toplamıştır. cengiz han, hükümdarlığı döneminde, 1206-1227 arasında, kuzey çin\\'deki batı xia ve jin hanedanı; türkistan\\'daki kara hıtay, maveraünnehir; harezm, horasan ve i̇ran\\'daki harezmşahlar, kafkasya\\'daki gürcüler, deşt-i kıpçak\\'taki rus knezlikleri, kıpçaklar ile i̇dil bulgarları üzerine seferler yaptı ve imparatorluğu döneminde gerçekleştirdiği hiçbir savaşı kaybetmedi. bunların sonucunda pasifik okyanusu\\'ndan hazar denizi\\'ne ve karadeniz\\'in kuzeyine kadar uzanan bir imparatorluk kurdu.\\n\\n1162 civarında moğolistan\\'daki onon nehri yakınlarında doğduğu düşünülen cengiz han\\'ın gerçek adı \\'\\'temuçin\\'\\'dir. babası yesügey, düşman bir kabile olan tatarlar tarafından zehirlenerek öldürüldüğünde temuçin henüz 9 yaşındaydı. temuçin\\'in kabilesi, küçük yaştaki bir çocuğun liderliğini kabul etmedi ve kardeşleri ve annesiyle birlikte onları ölüme terk ederek kabileden sürdüler. moğolistan\\'ın acımasız bozkırlarında kaçarak ve saklanarak hayatta kalmaya çalıştılar. temuçin daha küçücük bir çocukken, avladıkları bir hayvanı paylaşmak istemeyen üvey kardeşini çıkan bir kavga sonucu öldürdü. 16 yaşına geldiğinde, daha önceden yaptıkları bir anlaşma sayesinde nüfuzlu bir kabileden olan börte isminde birisiyle evlendi. henüz 20 yaşına geldiğinde, tüm moğolistan\\'da tanınan ve saygı duyulan bir komutan haline gelmeyi başarmıştı. moğolistan\\'daki göçebe kavimleri birer birer kendi bayrağı altında birleştirdi. 1206 yılına gelindiğinde moğolistan\\'da birlik sağlanmıştı.\\n\\n1206 yılının ilkbaharında onon nehri\\'nin yakınlarında, kendisine bağlanmış olan bütün kabileleri bir araya getirerek büyük bir kurultay topladı. tüm göçebe kavimleri birleştiren temuçin tek bir ulus yaratmıştı ve bu ulusa “moğol ulusu” adını verdi. bu kurultayda temuçin, daha önceden aldığı “kağan” unvanına ilaveten \\'\\'cengiz\\'\\' unvanını aldı ve bu tarihten sonra kendisine “cengiz kağan” veya “cengiz han” diye hitap edilmesini istedi. moğol toplumu, cengiz han\\'dan önce teşkilatsız ve düzensizdi. 1206 kurultayında devletin ordu ve toplumsal teşkilatını düzenledi.\\n\\ncengiz han, hükümdarlığı döneminde, 1206-1227 arasında, kuzey çin\\'deki batı xia ve jin hanedanı; türkistan\\'daki kara hıtay, maveraünnehir; harezm, horasan ve i̇ran\\'daki harezmşahlar, kafkasya\\'daki gürcüler, deşt-i kıpçak\\'taki rus knezlikleri, kıpçaklar ile i̇dil bulgarları üzerine seferler yaptı ve imparatorluğu döneminde gerçekleştirdiği hiçbir savaşı kaybetmedi. bunların sonucunda pasifik okyanusu\\'ndan hazar denizi\\'ne ve karadeniz\\'in kuzeyine kadar uzanan bir imparatorluk kurdu.\\n\\nbozkır geleneğinden gelen onlu teşkilatı kullanarak, yetenek ve kişilerin bireysel üstünlüğüne dayanan meritokratik bir ordu meydana getiren cengiz han’ın büyük bir asker olarak ün kazanmasının temelinde, kurduğu posta teşkilatı ve casus ağı ile istihbarat sanatına verdiği büyük değer önemli bir yer tutmaktadır. yaptığı seferler sonucunda pek çok şehir tahrip olmuş ve milyonlarca insan da katledilmiştir, ancak cengiz yasası adı ile metinleştirilen kuralları ile işkenceyi, yalan söylemeyi, hırsızlık yapmayı ve zina etmeyi de yasaklamış; zanaatkârlar, doktorlar, belli bilgi becerisi olan eğitimli kişiler ve her dinden din adamlarına, hangi milletten olursa olsun aralarında bir ayrım yapılmaksızın saygı gösterilmesi ve vergiden muaf tutulmalarını da kanunlaştırmıştır.\\n\\ncengiz han aynı zamanda, halkının yazıya sahip olmasını sağlamak için uygurlardan önemli kişileri başkenti karakurum’a çağırmış ve moğolca için uygur alfabesini uyarlatarak bunu çocuklarına da öğretmesini istemiştir. bu sayede moğol dilinin de yazılı hale getirilmesini sağlamıştır.\\n \\ncengiz han, 1227 yılında kuzey çin\\'deki tangutlar\\'ı yendiği seferden dönerken bilinmeyen bir nedenle öldü. mezarının yeri ise günümüzde hâlâ bilinmemektedir. ünlü bir söylentiye göre, kendisi ölmeden önce mezarının gizli tutulmasını vasiyet etmiş, o ölünce de yakınları onu bilinmeyen bir yere gömmüş, daha sonra cenazeye katılan herkes mezarın yeri hiçbir şekilde bilinmesin diye kendilerini öldürmüştür. fakat bu iddia, birçok kişi tarafından uydurma olarak kabul edilir. günümüzde arkeologlar cengiz\\'in gömüldüğü yere yaklaştıklarını düşünüyorlar. i̇lerleyen yıllarda modern moğolistan\\'ın muhteşem bir keşfe ev sahipliği yapması mümkündür.\\n\\ncengiz han öldüğünde sahip olduğu topraklar, tahmini olarak büyük i̇skender\\'in dört, roma i̇mparatorluğu\\'nun ise iki katı büyüklüğündeydi. kurmuş olduğu imparatorluk, günümüzde rusya hariç tüm ülkelerden daha geniş topraklar üzerine yayılmış vaziyette olup, onun ölümünden sonra oğulları ve torunları döneminde daha da genişleyerek, insanlık tarihinin gördüğü bitişik sınırlara sahip en büyük imparatorluk hâline geldi.\\n\\n2003\\'te araştırmacılar american journal of human genetics\\'\\'\\'te, yaklaşık 900 yıl önce yaşamış bir erkeğin genetik materyalinin günümüzde her 200 erkekten birinde bulunduğunu, yani avrasya\\'da 16 milyon erkeğin bu genetik materyali paylaştığını iddia eden bir araştırma yayımladı. bunun avrupa\\'dan afrika\\'ya kadar örnekleri vardır. araştırmacılar, bu süper başarılı atanın kim olduğu sorusuna getirilebilecek en mantıklı açıklamanın cengiz han olduğuna karar verdiler. çünkü cengiz han\\'ın, vaktinde çin\\'den getirttiği taoist bir bilgeden ömrünü uzatmak için yardım istediği ve bunun sonucunda, yaptığı seferlerle büyük şehirleri ele geçirdiğinde oralarda yaşayan birçok kadını himayesine alıp onlarla cinsel ilişkiye girdiği bilinmektedir.\\n\\n cengiz han\\'ın ataları ve kökleri \\n\\ncengiz han’ın şeceresi yarı mitolojik bir şekilde sis perdesi arkasındadır. onun atalarının ve kendisinin doğuş efsanesi, moğol mitolojisinin önemli belgelerindendir. yazılış tarihi itibarı ile cengiz han’ın yaşadığı döneme en yakın olanı şamanizm etkilerinin görüldüğü, 1240 yılında moğolca olarak kaleme alınmış olan moğolların gizli tarihi adlı esere göre cengiz han’dan 10 nesil önce yaşayan alangoya, cengiz han soyunun efsanevi büyük annesi olarak kabul edilmiştir. moğolların gizli tarihinde yer alan efsaneye göre alangoya dul kaldıktan sonra evlenmediği hâlde üç oğlu daha olmuştur. cengiz han ve onun mensup olduğu börçiginler bu çocuklardan “bodoncar” adlı en küçük olanının soyundan gelmektedir. alangoya efsanesi yalnızca cengiz han’ı değil onunla birlikte “nirun” yani ışığın çocukları adı verilen bir yığın boyu ilgilendirse de cengiz han soyunun en büyük efsanesi olarak kabul edilmiştir. nirun boylarından öncelikle cengiz han’ın boyu borciginler ardından tayciutlar, barlaslar, derbenler, salciutlar ve başka birkaç boy daha sayılabilir. 1140 yılında moğol kabilelerinden börçiginlere mensup kabul, bütün moğolların ilk lideri olarak “han” unvanını almıştır. cengiz han’ın babası yesügey bahadır onun torunudur.\\n\\nkabul han ve onun halefi ambakay han zamanında moğollar, çin\\'deki jin i̇mparatorluğu ile mücadele edecek kadar kuvvetlenseler de tatarlar, çinlileri hoşnut etmek için ambakay’ı çin’e teslim ettiler. ambakay hiç alışılmadık bir şekilde, “tahta eşek şekli” denen bir duruma sokularak çarmıha gerilip infaz edildi. cengiz han’ın büyük amcası kutua, bu hakarete çin üzerine ve tatarlara bir dizi saldırı düzenleyerek cevap verdi ve bu akınlar sonunda “moğol herkülü” unvanını kazandı. fakat, 1160 yılında, detayları bilinmeyen bir dizi olay sonunda, kuzey çin’in hakimi jin hanedanı, moğolları hezimete uğrattı. moğollar bir süre karmaşa içinde dağıldılar. sefalet içinde yüzen bu karmaşık hâldeki moğollar’ın içerisindeki önemsiz liderlerden biri olan kabul han\\'ın torunu yesügey bahadır, ittifaklar kurarak moğolları güçlendirmeye çalıştı. moğolların batı komşularından biri olan türk boylarından keraitler idi. keraitler 200 yıldan beri nasturi hristiyan’dı. hristiyan keraitlerin o zamanki lideri tuğrul idi. tuğrul, 1160 yılında iç meseleler sonucu tahtını kaybetmişti. moğolların lideri yesügey, tuğrul\\'a kabilesinin önderliğini yeniden ele geçirmesi için yardım etti. tuğrul ve yesügey anda ile kardeşilik yemini ettikten sonra, daha sonraları moğolların yeniden ortaya çıkışında olağanüstü önem taşıdığını kanıtlayacak olan bir ittifak kurdular.\\n\\nrivayetlere ve efsaneye göre yesügey bahadır bir gün onon nehri kıyılarında şahini ile avlanırken gelinleri taşımak için özel olarak tahsis edilmiş, bir at arabasına rastladı. yesügey, arabada oturan kıza ilk görüşte âşık olmuştu. yesügey iki kardeşini yanına alarak ve birlikte ağır ağır giden düğün arabasına yetiştiler. üç kardeş onggirat boyunun olkunat kabilesinden olan höelin adındaki yeni evli gelini yakaladılar. höelin başka seçme şansı olmadığı için yesügey bahadır’ı yeni kocası olarak kabullendi. yesügey onunla, doğurduğu oğlan bir kahraman olacak diyerek evlenmişti.\\n\\n doğumu \\n\\nevlilikten bir süre sonra yesügey, tatarlar üzerine yaptığı bir akından geri döndüğünde, karısı höelin\\'in hamile olduğu haberiyle karşılandı. kaynaklarda bebeğin doğumu sırasında höelin’in kapısına bir yay ve ok asılarak şeytanın girmesinin engellendiği ancak yakın akrabalar ve bir kadın şamanın ebe olarak görev yaptığı ileri sürülmektedir. şaman, bebeği çok yakından inceleyerek, geleceği hakkında kehanette bulunabilecek bir işaret arayacaktı. efsaneye göre sağ avucunun içinde sonraları gayet doğal olarak, gücün ve çok kan dökeceğinin simgesi olarak nitelendirilecek aşık kemiği şeklinde bir kan pıhtısı ile doğdu. yesügey bahadır düşman olduğu tatar kabilelerinden birinin reisi olan temuçin adlı bir kişiyi esir almıştı. i̇şte bu esir ve hadise üzerine yesügey bahadır oğluna temuçin adını verdi. temuçin, katı, sağlam, sert, dayanıklı ve demir gibi anlamlarına gelmektedir.\\n\\narap ve i̇ranlı tarihçilere göre temuçin\\'in doğum tarihi 26 ocak 1155\\'tir. ancak çin kaynaklarınca temuçin, 12 hayvanlı türk takvimine göre domuz yılının başında dünyaya gelmiştir. bu hesapla 12 hayvanlı türk takviminde 1 yıl 12 yılı kapsadığı için 1155 ile 1167 arasında sonu 2 ile biten bütün senelerden yola çıkarak doğum tarihinin 1162 olabileceği kabul edilmektedir. uzmanlar temuçin’in doğum tarihini nasıl kanıtlamaya çalışıyorlarsa doğum yerinin de kesin olarak nerede olduğunu tartışmaktalar. cengiz han zamanından günümüze kalan tek kaynak olan “moğolların gizli tarihi” adlı eserde bu yerin onon yakınlarında dülün-boldak adıyla bilinen bölge olduğu yazmaktadır. bu adın anlamı “dalak tepeciği” idir.\\n\\n çocukluk ve gençlik yıllarında verdiği hayatta kalma mücadelesi \\n\\nyesügey bahadır ve höelin’in temuçin’den başka hasar, haçi ve temüge adlarını taşıyan üç oğlu ile temulun adında bir kızları olmuştur. bunun yanı sıra temuçin\\'in bekter ve belgütay isimli iki üvey kardeşi vardı. temuçin 9 yaşındayken, babası yesügey bahadır onu evlendirmek için kendisini de yanına alarak temuçin\\'in annesi höelin\\'in kabilesi olan onkıratların yanına gitti. yesügey, kayın biraderinin kızı börte\\'yi oğlu temuçin\\'e istedi. börte adındaki kız temuçin’den bir yaş büyüktü. anlaşma gereği temuçin orada kalacaktı. burada evlilik yaşı olan, 10 yaşına gelene kadar evin reisine hizmet edecekti. fakat yesügey bahadır evine dönerken yolda karşılaştığı ve konuk olduğu tatarlar tarafından, eski husumetlerinin sonucu olarak zehirlendi. yesugey bahadır ne olursa olsun ölmeden önce temuçin’in geri getirilmesi için emir verdi fakat temuçin gelmeden öldü. temuçin ve ailesi, ilk olarak akraba kabilelerden tayciutlara katılmaya karar vererek yanlarına gittiler ancak, tayciutlar temuçin ile ailesini yanlarına almak istemediler. yesügey’in erkek kardeşleri de höelin ve çocuklarına yardım etmediler. bir müddet sonra da yesügey\\'in kabilesi temuçin\\'in annesi höelin\\'in yani bir kadının emri altında kalmak istemeyerek göç etti. höelin, kabilesinin sürülerinden hiçbir hak iddia etmeyerek burhan haldun dağının eteklerindeki ormanlık yamaçlara ailesi ile birlikte yerleşti. sürü sahibi olamadıkları için et yiyemeden, süt içemeden sadece nehirde balıkçılık yaparak, ormanda yabani meyveler ve kökler toplayarak hayatlarını devam ettirebiliyorlardı. temuçin on-on bir yaşlarında iken çok iyi bir arkadaş edindi. bu çocuk cacırat boyundan camuka adlı kendi yaşıtında birisi idi. sonunda dostlukları o derece ilerlemişti ki anda yani kan kardeşi olmak için yemin ettiler. temuçin 13 yaşında iken üvey kardeşi bekter ile arasındaki rekabet ileri boyutlara vardı ve temuçin, yesügey’in diğer hanımından doğan üvey kardeşi bekter’i bir av meselesi sonucu çıkan kavgadan sonra öldürdü. bekter, höelin\\'in öz oğlu olmamasına rağmen tayciutlara karşı birlik olmak gerekirken böyle bir hareket yaptıkları için temuçin\\'e çok sinirlendi. nitekim tayciutlar kısa bir süre sonra saldırarak temuçin\\'i esir aldılar. tayciutların lideri tarafından tutsak edilen temuçin, bir köpek gibi boynuna bir tahtadan yapılmış tasma takarak kabilelere teşhir edildi. fakat bir gün bekçisinin elindeki halatı birdenbire şiddetle çekerek başına vurduğu bir darbe ile saf dışı bırakıp koruluğa doğru kaçarak onon nehri kıyısına doğru koştu. nehirde boylu boyunca uzandı. tahta boyunduruk başının soğuk sudan yeterince yüksekte durmasını sağlıyordu. peşindekilerin tümü koruluğu araştırırken nehrin aşağısındaki evine doğru giden bir adam temuçin’i yattığı yerde görür görmez tanımıştı. bu adam, temuçin esir edildikten sonra evinde tutulduğu sohan şira idi. uzaktan temuçin’i arayan takipçilerin bu tarafa geldiğini görünce sohan şira onlara mani olmak için herkese şimdiye kadar aradıkları yerleri bir kez daha kontrol etmelerini önerdi. temuçin, tehlike geçtikten sonra sohan şira’nın gittiği yoldan sendeleyerek ilerledi ve bir önceki geceyi geçirdiği çadıra ulaştı. üzerinden sular damlayan titreyen temuçin’i gören sohan şira oradan uzaklaşmasını istedi. buna rağmen ailesi, karısı, iki çocuğu ve kızı temuçin’e yakın davranarak boyunduruğu ve kelepçesini çıkararak temuçin’in karnını doyurdular ve ıslak elbiselerini kuruttular. daha sonra da temuçin’i koyun yünüyle dolu bir arabanın içinde sakladılar. ertesi gün tayciutlar, sohan şira’nın çadırına gelerek her tarafı karıştırıp yatakların altına baktılar. sıra yün dolu arabaya geldiğinde, tam temuçin’in ayaklarını görecekleri sırada sohan şira, böyle sıcak bir havada bu kadar yünün altında kim saklanır diyerek takipçilerin oradan uzaklaşmasını sağladı. sonunda, sohan şira temuçin’in kaçma şansını arttırmak için yiyecek, içecek ve iyi bir at verdi. temuçin, annesinin onon’un üst kesimlerindeki sığınağına giden yolu takip ederek sonunda ailesine geri döndü. temuçin, ileri de cengiz han olduğunda kendisine yardım edenleri hiç unutmamıştır ki bunlar arasında kendisini esaretten kurtaran sohan şira ve onun çocukları da vardır. bir tanesine general rütbesi vermiştir.\\n\\nbu hadisenin üzerinden bir yıl geçmişti. aile sadece bir sürüye ve dokuz tane ata sahipti. bir gün temuçin’in üvey kardeşi belgütay’ın marmot avlamak için kamp dışına çıktığı sırada hırsızlar kalan sekiz atı çaldılar. temuçin ellerinde kalan son ata atladı ve sonraki iki gün boyunca hırsızların izini sürdü. üçüncü gün sabahı bir çadıra ve çadırın yanındaki ağıldaki oldukça büyük bir at sürüsüyle ilgilenen bughurçi isimli bir gence rastladı. bughurçi, temuçin’in uzun süredir koşturduğu atının hâlini görünce temuçin’e yorgunluktan neredeyse ölmek üzere olan atını sürüsündeki zinde atlardan biriyle değiştirmesi için ısrar etti. temuçin atını değiştirip oradan ayrılırken bughurçi aniden bir karar verdi ve at hırsızlığı hepimizin ortak sorunu bende seninle birlikte geleceğim dedi. üç gün sonra temuçin ve bughurçi hırsızlara ve çalıntı atlardan oluşan sürülere yetişti. i̇ki arkadaş anında harekete geçerek sürünün arkasına daldı ve temuçin’e ait olan atların iplerini kesip yedeklerine alarak dörtnala uzaklaştılar. bughurçi’nin babasının kampına yaklaştıkları sırada temuçin, sen olmasaydın atlarımı nasıl bulurdum gel bunları bölüşelim sadece hangilerini almak istediğini söyle yeter dedi. babası varlıklı biri olan bughurçi hayır diye yanıtladı. temuçin gerçekten bughurçi’nin asil davranışını unutmayacak ve bughurçi ileride yanından ayırmadığı sağ kolu, atlarının baş seyisi, zırhlı tümen komutanı ve moğolların en büyük generallerinden biri olacaktı.\\n\\nbörte\\'nin kaçırılması tuğrul han ve camuka ile birlikte merkitler’e karşı sefer\\n\\ntemuçin, 9 yaşındayken nişanlandığı börte ile babasının ölmeden önce kararlaştırdığı gibi evlilik düğünü yapmak için kayınpederini ziyaret etmeye ve evlilik anlaşmasına hâlâ razı olup olmadığını sormak için üvey kardeşi belgütay ile birlikte kongirat ülkesine doğru yola çıktı. temuçin\\'i çok iyi karşıladılar ve evlilik gerçekleşti. evlilik tarihi olarak kesin olmamakla birlikte 1178, 1180 ve 1181 tarihleri ileri sürülmektedir. temuçin börte ile evlendiği zamanlarda merkit kabilesinin büyük bir saldırısına uğradı. bu saldırıda temuçin kendi canını ve karargahını kurtardığı hâlde henüz yeni evlendiği eşi börte merkitler tarafından kaçırıldı. bataklıkları yararak düşmanı ağır mağlubiyete uğratan temuçin, karısını onların elinden alamamış ancak bu zafer ona çok büyük bir ün ve itibar kazandırmıştı. temuçin’in doğumundan önce babası yesügey bahadır, keraitlerin lideri tuğrul ile kardeşlik yemini etmişti. temuçin, kardeşi kasar ve üvey kardeşi belgütay’ı yanına alarak yeni bir müttefik kazanmaya gitti. başlarına geleni tuğrul’a anlattı. vaktiyle temuçin\\'in babası tarafından yardım gördüğünü hatırlayan tuğrul han, temuçin\\'i himayesine aldı. tuğrul onu çok iyi karşıladı ve kendisine evladım diye hitap etti. tuğrul, temuçin’in cungar kabilesi şefi camuka’ya da uğramalarını ve onlarında desteğini almalarını söyledi. üç kardeş camuka’ya da giderek durumu anlattılar. temuçin’in kan kardeşi olan camuka, kendi namusu gibi hiddetlendi ve tuğrul’un taahhüdüne uyacağını teyit etti.\\n\\nmerkitlere karşı savaş hazırlıkları süratle tamamlandı. camuka toplanma bölgesine üç gün evvel gelerek temuçin’e hazır olduklarını bildirmiş tuğrul komutasındaki keraitlerin de gelmesinden sonra saldırıya başlandı. saldırı haberini alan merkit kabileleri selenge nehri akıntısı boyunca kaçmışlardı. ama çoğu büyük baskında avlanmıştı. temuçin ilk gece baskınında, börte’nin kurtarıldığını camuka’ya bildirdi ve saldırıyı yavaşlattı.\\n\\ncuci\\'nin doğumu\\n\\nbu zamanın sürpriz hadiselerinden biri de, merkitler elindeki esaretten kurtulan temuçin’in karısı börte’nin doğurması idi. bu beklenmeyen bir çocuktu. yeni doğan çocuğa, misafir anlamına gelen cuci adını koydular. cuci, börte\\'nin merkitlerden kurtarılmasından 9 ay sonra doğdu; böylece de babasının kim olduğu hakkında hep soruları da beraberinde getirdi cuci ileriki zamanlarda temuçin’in en büyük oğlu olarak anılacaktı. i̇leride temuçin’in başka kadınlardan da çocukları olacaktı ancak ilk karısı ve imparatoriçesi börte’nin doğurdukları cuci, çağatay, ögeday ve tuluy en sevdikleri oldu. temuçin\\'in diğer eşlerinden olan çocukları onun yerini almaktan muaf tutuldular.\\n\\ntemuçin\\'e kağan unvanının verilmesi ve camuka\\'nın başkaldırışı\\n\\n1189’da toplanan bir kurultay kararı ile temuçin’e kağan unvanı verildi. bu kurultayda temuçin, teşkilatı için en güvenilen yakınlarından bir danışma meclisi oluşturmuştur. ancak 1189 kurultayı kararlarını herkes tanımamıştı. tatarlar bu dönemde çin’in sınır bölgelerini yağma ediyor ve korku saçıyorlardı. moğollar, tatarların bölgelerinin ötesinde çinlilere en yakın olanlardı. 1198 yılında kuzey çin\\'deki kin hanedanı tatarlara karşı temuçin’den yardım istedi. çünkü tuğrul uluslararası alanda tanınan bir şahsiyetti ve onun temuçin’e ile ittifak halinde olmasıyla temuçin’in gücünü görmüşlerdi. temuçin de ataları ile olan husumeti ve babası yesügey bahadır’ı zehirleyerek öldürdükleri için tatarlardan nefret ediyordu. bunu fırsat bilerek tuğrul ile birlikte tatarlar üzerine bir sefer gerçekleştirdi. önderleri öldürüldü, ülkeleri ve kampları yağma edildi. fakat çinliler tatarlara karşı zaferin tümünü tuğrul’a atfettiler. çinli general ona moğolların ong olarak telaffuz ettikleri “wang” yani kral unvanını bahşetti. tuğrul artık wang-han olarak tanınacaktı.\\n\\ntemuçin’in gücünün artması karşısında temuçin’e ilk baş kaldıran kan kardeşi camuka oldu. tatarlar, merkitler, naymanlar, oyradlar ve taycutlar, camuka’ya yakınlaştı ve bir ittifak kurarak 1201 yılında camuka’yı gur han (evrensel lider) unvanıyla liderleri yaptılar. camuka’nın kardeşi taiçar\\'ın, temuçin’in oğlu cuci’nin sürüsünü çaldığı için cuci tarafından öldürülmesi, camuka’ya temuçin üzerine sefere çıkma fırsatını verdi. camuka’nın üç tümenlik gücüne karşı temuçin’in de üç tümen kadar gücü bulunuyordu. savaş esnasında camuka’nın izlediği strateji ile temuçin tuzağa düşmüş ve ok yağmuru altında atılan bir ok temuçin’i ıskalayarak atının boynuna saplanarak atının ölümüne neden olmuştu. temuçin atını değiştirdikten sonra bu sefer başka zehirli bir ok kendi boynuna isabet etti. kardeşi haçiun ile yetmiş kadar adamı da camuka’nın eline esir düştü. camuka bu yetmiş adamı kaynayan kazanların içine attırarak feci şekilde öldürttü. temuçin\\'in kardeşi haçiun’un ise başını kılıcı ile kesip, kellesini atının kuyruğuna bağladı. ele geçirdiği okçuların parmaklarını kestirip, izcilerin gözlerine mil çektirdi. böyle yaparak psikolojik olarak onları korkutmak istemişti. yardımcısı celme, temuçin\\'in boynuna saplanan zehirli oku çıkararak yarayı emerek ateşten yarı baygın bir şekilde yatan temuçin’in yarasını temizledi. celme gece karşıda duran düşman denklerinin arasına giderek gizlice kaymak çalarak temuçin\\'i doyurdu getirdi. temuçin, gerçekten de doğduğu günden beri yanında olan yardımcısı celme’nin iyiliğini hiç unutmamış ve onu ileride general rütbesi ile mükâfatlandırmıştır.\\n\\ntemuçin eski sağlığına tekrar kavuştuğunda kardeşinin ölüm haberini alınca herhangi bir tepki göstermemiştir. bu da onun kardeşinin ölümüne fazla üzülmediğine veya artık ölümlere alıştığına yorumlanmıştır. ama intikam almak için iyice hırslanmıştır. temuçin’in vurulduğu halde ölmemesi, onun askerleri arasında itibarını daha da arttırmış ve bundan manevi bir güç kazanarak camuka\\'ya yeniden saldırmışlardı. sonuçta camuka’nın ordusunu dağıldı. savaş kazanılıp camuka kaçtıktan sonra, zamanında tayciutlardan kaçmaya çalışırken temuçin’e yardım eden sorhan şira bir arkadaşı ile temuçin’in yanına geldi. şimdi ona katılmakta serbest idi. temuçin, sorhan şira’ya atını öldüren oku kimin attığını görüp görmediğini sordu. bu sorunun cevabı sorhan şira’nın arkadaşı jirko’dan geldi. oku atan kendisi idi. temuçin kendisine neredeyse öldürecek olan bu düşman savaşçıyı idam edebilirdi ama genç, hayatını kurtarmış olan adamın arkadaşı idi. jirko, her buyruğuna boyun eğeceğine dair söz verdi. eğer beni öldürürsen toprak parçasında çürüyüp giderim fakat merhamet gösterirsen senin için dağları okyanusları aşarım dedi. temuçin, onun dürüstlüğünden etkilendi ve bu adam benim dostumdur diyerek yaptığı hareketin anısına ona yeni bir isim verdi. bundan sonra ismi cebe(okçu) olacak ve ben onu okum olarak kullanacağım dedi. cebe’nin bir atı yoktu. bir at talep etti. temuçin onun arzusunu yerine getirerek genç cebe’ye burun delikleri beyaz bir at verdi. cebe ata binince bir yolunu bulup kaçtı ama daha sonra geri dönerek temuçin’e hizmet etmek arzusunda olduğunu söyledi. gelecekte, türkistan, i̇ran ve rusya’yı fethedecek olan cebe noyan işte budur. epeyce sonra cebe, karahitaylar ile savaş esnasında tiyan şan yaylasından geçerken beyaz burunlu bin at toplayarak cengiz han’a hediye ederek hayatını borçlu olduğu bu hadiseyi unutmamış olduğunu gösterecekti. temuçin, tatarlar’ın camuka ile olan savaşta onun tarafında olması temuçin’e onlara güvenmemesi gerektiğini göstermişti. tatarlara karşı nihai darbeyi indirmek için 1202 yılında tekrar harekete geçti. sefer sonucunda tatarlar, temuçin tarafından yenilerek parçalanmışlar ve bütün mensupları da diğer boylar arasında paylaştırılmıştı. tatar hanı yekeçeren’in güzel kızı esir düşmüştü. temuçin, yesujen adlı bu güzel tatar kızının nişanlısını kendi gözleri önünde öldürerek, ondan da güzel olan yesui adlı ablası ile evlendi. temuçin’in bu hanımına şiddetle âşık olduğu belirtilmektedir.\\n\\ntemuçin ile tuğrul\\'un arasının açılması\\n\\n1203 yılı başlarında temuçin ve tuğrul han güçlerini birleştirerek naymanlara karşı sefere çıktılar. naymanların hükümdarı buyruk han bu güç karşısında dayanamayarak altay dağlarına çekildi. bir süre takipten sonra temuçin’in güçleri ona yetişerek ve buyruk han’ı öldürdüler. ancak tuğrul’un oğlu sangum tam düşmana esir düşmek üzere iken temuçin’in güçleri tarafından kurtarılınca tuğrul, temuçin’e oğlunun onun himayesine girmesini teklif etti. temuçin bununla da kalmayıp, en büyük oğlu cuci’ye tuğrul’un kızını isterken tuğrul’un oğlu sangum’a kendi ailesinden bir kız vereceğini söyleyerek aralarındaki bağı daha da kuvvetlendirmek istiyordu. ancak tuğrul’un oğlu sangum kendisini daha üstün gördüğünden bu teklifi reddetti. temuçin bu durumu hiç hoş karşılamadı. 1203 yılının baharında tuğrul’un oğlu sangum babasını bir hile ile temuçin’i ortadan kaldırmaya ikna etti. bu sırada yanlarında bulunan birisi temuçin’den büyük mükâfat alacağını düşünerek bunu gelen adamlarına söylemişti. bunu duyan temuçin ve adamları hemen bulundukları yerden uzaklaştılar. her iki tarafın orduları savaşa hazırlanmış ve temuçin’e halalhalcit çölünde kerayitlerin geldiği haberi ulaşmıştı. tuğrul ve camuka birlikte idiler ve tuğrul yaşlı olduğu için ordunun komutasını camuka’ya vermişti. savaş sonunda kerayitler teslim olmak zorunda kaldı. ancak ne tuğrul ne de oğlu sangum savaş meydanında bulunamamışlardı. savaş kazanıldıktan sonra kerayit halkı itaat altına alınmış ve gruplar hâlinde değişik boyların arasına dağıtılmışlardır. tuğrul ile oğlu müttefikleri olan camuka’nın ülkesine kaçmışlardı. ancak tuğrul bir karakol postasını kerayit hanı olduğuna ikna edemeyince onun tarafından öldürüldü. oğlu sangum ise seyisinin ihanetine uğradı. karısı seyise; altın elbiselerini giyerken, tatlı yemeklerini yerken iyiydi şimdi onu nasıl terk edersin demesine rağmen, seyis temuçin’in yanına giderek ona sangum’un bulunduğu yeri söyledi. ancak seyis umduğunu bulamamıştı, temuçin; karısını ödüllendiriniz, öz hanına ihanet edenin ise kafasını kesiniz diyerek ihanet edenin cezasız kalmayacağını gösterdi.\\n\\ncamuka’nın yakalanışı ve infazı\\n\\ncamuka’nın yanındakiler ile beraber pek çok boy da temuçin’e tabi olmuşlardı. camuka, temuçin’in eline düşmekten kurtulan nayman ve merkit güçleri ile birleşerek temuçin’e karşı harekete geçti ancak başarılı olamadı. nayman ve merkitler bu şekilde dağıtılıp tamamen güçsüz hâle getirildikten sonra, onlarla birlikte temuçin’e karşı savaşan camuka desteğini kaybedip sadece beş yakın arkadaşı ile birlikte kaldı. ancak bu yakın arkadaşları onu satmaktan geri durmadılar ve yemek yerken onu yakalayıp temuçin’e teslim ettiler. böyle yapmakla da tıpkı seyis gibi temuçin’den büyük mükâfat alacaklarını düşünmüşlerdi. ancak temuçin bütün ihanet edenlere acımadığı gibi onlara da acımamış ve öz hanlarına ihanet edenleri bütün nesilleri ile yok edin emrini vererek onları infaz ettirdi. gizli tarih\\'e göre, temuçin camuka\\'ya tekrar arkadaş olmalarını ve yanında olmasını teklif etti. camuka bunu reddetti ve kendisinin bir asile yakışır şekilde kanının dökülmeden öldürülmesini, cesedinin yüksek bir yere gömülerek saygıdan mahrum edilmemesini rica etti. temuçin’de senin hayatını bağışlamak istediğim hâlde bunu kabul etmiyorsun öyleyse seni kendi arzuna göre kanını akıtmadan öldürteceğim dedi ve onun (boyun) kemikleri kırılarak öldürülmesini emretti.\\n\\n 1206 kurultayı ve temuçin\\'in cengiz han oluşu \\n\\ntuğrul ile camuka\\'nın ortadan kaldırılması ve temuçin\\'in merkitler\\'i, naymanlar\\'ı, keraitler\\'i, tatarlar\\'ı ve diğer küçük kabileleri liderliği altında birleştirmesi onu orta asya bozkırlarındaki tek güç hâline getirdi. 1206 yılının ilkbaharında onon nehrinin kaynaklarında, kendisine bağlanmış olan bütün kabileleri bir araya getirerek büyük bir kurultay topladı. tüm göçebe konfederasyonları birleştiren temuçin tek bir ulus yarattı ve bu ulusa “moğol ulusu” adını verdi. artık o moğolların mutlak efendisi idi. 1206 kurultayının en önemli kararı temuçin’in daha evvel aldığı “kağan” unvanına ilaveten “cengiz” unvanını almasıdır. bu tarihten sonra kendisine “cengiz kağan” veya “cengiz han” diye hitap edilmesini istemiştir. aslında bu o dönemin telaffuzu ile “çinngiz kan” şeklinde idi. temuçin bu sırada 44 yaşında bulunuyordu. moğol toplumu, cengiz han’dan önce teşkilatsızdı. 1206 kurultayında devletin ordu ve içtimai teşkilatı düzenlendi. cengiz han kurultayda mukhulai’ı baş yardımcısı, süvari birliklerinin başındaki bugurçi’yi de danışmanı olarak atadı. celme ve subutay kardeşleri ise binbaşı olarak atadı. tayciutlardan kaçtığı sırada kendisini kurtaran sorhan şira, her iki oğlu gibi cengiz han’ın yaveri ve ok taşıyıcısı oldu. bu atamalar göçebe imparatorluğun yönetiminde büyük değişiklilere damgasını vurdu. moğol birliği geçmişte kabile rekabetlerinden büyük zarar görmüştü. cengiz han şimdi atayacağı kişileri kabile hiyerarşisine göre değil liyakate göre belirleyecekti. anahtar kelime ise sadakatti. sorhan şira ve oğulları hiçlikten yöneticiliğe gelmiş tek örnek değillerdi. çobanlar, marangozlar vb. aynı haklara sahipti. celme ve subutay birer demircinin oğulları idi. subutay, stratejik zekasından dolayı cengiz han\\'ın ailesinden olmadan cengiz han\\'a en yakın isim hâline gelmiştir. cengiz han kendisi ile aynı yolda yürüyen herkese karşılığını fazlası ile vermiş ve bundan sonra yeni muhafız birliğinin teşkil edilmesi için çalışmalara başlamıştır. cengiz han, ordusunu göçebelerin yüzyıllardan beri kullandığı onluk sisteme göre düzenlemeye başladı. on askerlik birim arban, yüz askerlik birim jagun, bin askerlik birim minghan, on bin askerlik birim ise tümen olarak adlandırılmıştı. askerî faydalarının yanı sıra, onluk sistemin kullanılmasının asıl nedeni, cengiz han\\'ın, güçlü askerî birimler kurarak askerlerin kendi kabilelerine değil de, bu birimlere özellikle minghan seviyesinde bağlılık duymasını istemesiydi. cengiz han, aynı düşünceyle 1206 yılında mevcudu 10.000’e ulaşan keshig adındaki muhafız birliğini kurdu. genişleyen imparatorluğa komutan ve idareci yetiştiren ve cengiz han\\'a sadakati ön planda tutan keshig’e katılabilmek büyük bir onurdu. kabilelere duyulan sadakati kendisine yönlendirmeyi başarabilmesi, cengiz han\\'ın yeteneğinin diğer bir göstergesiydi.\\n\\ncengiz, han seçilirken şaman kökçü onun lehine bir hayli kehanette bulunarak birçok boy yöneticisinin oyunu da etkilemişti. kökçü, cengiz han\\'ın babası yesügey ve annesi höelin\\'in güvenilir adamı olan şaman münglik\\'in oğlu idi. kerayitler ile olan mücadelesinde tuğrul\\'un oğlu sengün tarafından hazırlanmış olan bir tuzak ile ilgili cengiz han\\'ı zamanında uyaran yine münglik olmuştur. kökçü\\'nün babası yaşlı ve bilge münglik cengiz han\\'ın hayatında çok önemli bir rol oynamış ve sonunda cengiz han\\'ın dul annesi höelin ile evlenmişti. 1206 kurultayında kökçü, ulu gök tengri\\'nin cengiz han\\'a kainatın kağanlığını verdiğini ilan etmişti. bu ilahi tasdik cengiz han\\'a otoritesinin temelini sağlamıştı. bu nedenle kökçü\\'nün cengiz han\\'ın nazarında ayrı bir yeri vardı. moğolların gizli tarihi\\'ne göre kökçü ve kardeşlerinin değişik boylardan oluşan ve henüz cengiz han\\'a biat etmeyen toplulukları kendi etraflarına toplamaya başladıklarından bahsedilmektedir. şaman kökçü, cengiz han\\'a iktidarının temellerini atmasına yardımcı olmuştu. ancak hem sihirli gücü ve hem de imparatorluk ailesi içinde babası münglik\\'in durumundan dolayı kendisinin dokunulmaz olduğunu sanarak çok geçmeden küstahça davranmaya, tabiatüstü nüfuzundan yararlanarak cengiz han\\'ı ve imparatorluğu yönetmeye kalkışmıştı. cengiz han\\'ın kardeşi kasar ile kavga etmişti bu nedenle kasar\\'ı yok etmek maksadıyla han\\'a ruh bana gök tengri\\'nin bir buyruğunu vahyetti, önce temüçin hüküm sürecek ve ondan sonra kasar gelecek, kasar\\'ı yok etmezsen tehlikedesin diyerek cengiz han\\'ın ruhunda kardeşi kasar için kuşku uyandırmıştı. kasar, cengiz han\\'ın gazabından annesi höelin sayesinde kurtulmuştu. kökçü cengiz han\\'ın en küçük kardeşi temüge oçigin ile de bozuşmuş ve ona herkesin içinde hakaret etmişti. cengiz han\\'ın karısı börte kocasını ikaz etmişti. bu defa cengiz han durumu anlamış ve temüge\\'ye şamandan kurtulması için müsaade etmişti. temüge tarafından vazifelendirilmiş üç muhafız kökçü\\'yü kanını dökmeden bel kemiğini kırarak infaz ettiler. kökçü\\'nün bertaraf edilmesi cengiz han imparatorluğunun dini temel üzerine kurulmayacağının habercisiydi.\\n\\nmoğol i̇mparatorluğu bir devlet olarak gerçek oluşumunu ancak uygurların tam iştiraki ile sağlamıştır. moğol i̇mparatorluğunun ilk hocaları ve ilk memurları uygurlar olmuştur. uygular, yerleşik hayata geçmişler, edebiyat, sanat açısından olduğu kadar ticaret açsından da parlak bir uygarlığa sahiplerdi. bu sebeple bir devlet idaresi için ne gerekiyorsa onu biliyor ve uyguluyorlardı. cengiz han, naymanlara karşı savaşı esnasında esir aldığı bir uygur mühürdarı sayesinde uygurların mühür ve yazı kullandığını görünce, uygur mühürdarını emirlerini yazması için görevlendirdi ve mührü bastıktan sonra koruması için emanet etti. bunun ötesinde cengiz han, yazabilmenin ne kadar önemli olduğunu görmüştü. uygurların kendilerine ait bir alfabeleri vardı. yüzyıllardan beri gelişen bu yazı hemen cengiz han tarafından benimsendi ve cengiz han, uygur mühürdardan bu yazıyı moğolca için uyarlamasını ve dört oğluna da bu yazıyı öğretmesini istedi. bu hususta aile içinde başlatılan eğitim ile uygur yazısı akabinde tüm moğol i̇mparatorluğu\\'nda kullanılmaya başlandı. moğollar\\'ın uygurların kültürüne olan alakaları uygurlar ve moğollar arasındaki karşılıklı bir çekime yol açtı ve uygur hükümdarı barçuk, cengiz han’ı kutlamak için elçilerini yolladı. cengiz han da bunun karşılığında onu karakurum\\'a davet etti. uygur hükümdarı barçuk değerli mücevher ve kumaşlarla cengiz han\\'ın huzuruna geldiğinde görkemli bir biçimde karşılandı. cengiz han kızı altun beki\\'yi onunla evlendirildi. böylece uygurlar ile cengiz han arasında bir akrabalık kurulmuş oldu.\\n\\nuygur yazı sisteminin kullanılmaya başlamasından sonra uygur mektebinin ilk mezunu, aslı bir tatar olan cengiz han’ın evlatlığı şiki noyan idi. cengiz han, onu kanunlarını ve değerlerini yazıya geçirmesi için görevlendirdi ve onları mavi bir defterin beyaz sayfalarına kaydettirdi. i̇şte şiki noyan\\'ın bu defteri cengiz han öldükten sonra dahi çin’den doğu avrupa\\'ya kadar birçok milletin yönetilmesine rehberlik eden ünlü yasa idi. 33 defterden oluştuğu, çok hacimli olduğu için bir deve üzerinde taşındığı ve devlet hazinesinde muhafaza edildiği kabul edilen cengiz han yasası, ilerleyen dönemlerde de geliştirilmiştir. cengiz han, yasanın emirlerini tatbike oğlu çağatay’ı vekil bıraktı. çağatay sert idi ve yasayı harfi harfine tatbik ederdi. bu yasalar öylesine sert uygulanıyordu ki, “cengiz ülkesinde bakire bir kız başında altından bir taç ile ülkenin bir ucundan diğer ucuna en ufak bir tacize uğramadan giderdi.” denilirdi. yasa kapsamında zinanın, eşcinselliğin, kasten yalan söyleyenin, sihirbazlıkla uğraşanın, ormanları yakanın ve suyu kirletenlerin cezasının idam olduğu, alkol kullanan kişi eğer bırakamıyorsa bir ay içinde sadece üç kez sarhoş olabilmesi, bütün dinlere eşit olarak saygı gösterilmesi ve herhangi bir mezhebin üstün tutulmaması, bütün fakirlerin, din alimlerinin, hekimlerin, bilginlerin ve tanrıya adanmış tapınakların vergiden muaf tutulması gibi kurallar yer almaktaydı. daha çok askerî ve hukukî içerikli olan bu yasa’nın orijinal metni günümüze gelmemiştir. yasa\\'nın içeriği 14. yüzyıl arap seyyahları, 13. yüzyıl ermeni tarihçileri ve 15. yüzyıl i̇ranlı tarihçilerin eserleri sayesinde bilinmektedir.\\n\\nkurultay\\'dan bir süre sonra cengiz han 1207\\'de kuzeydeki ormancı boyları egemenliği altına alması için en büyük oğlu cuci\\'yi, ordusunun sağ kanadını vererek görevlendirdi. cuci burada diplomatik kabiliyet ile iyi bir taktik sergileyerek orman halklarını, sibirya\\'nın güneyini ve kırgızları kendine bağlayarak geri döndü.\\n\\nkuzey çin\\'deki batı xia ve jin üzerine sefer\\n\\nxi xialara karşı savaşın başlangıcı\\n\\ncengiz han zamanında bugünkü çin sahasında üç devlet vardı. kansu civarında tangut krallığı olarak bilinen batı xia veya xi xia hanedanı, kuzeyde jin hanedanı ve güneyde sung hanedanı bulunuyordu. cengiz han, moğolların ezeli düşmanı jin hanedanı üzerine bir sefer yapmadan önce büyük bir sefer için kaynak elde etmek hem de jin ile muhtemel bir ittifakın önüne geçmek için ilk olarak tangut krallığı olarak bilinen batı xia hanedanı üzerine bir sefer gerçekleştirdi. kansu bölgesinde yaşayan tibet ırkından ve budist dininden olan tangutlarla olan mücadele, cengiz han\\'ın yerleşik ve medeni bir millete karşı yaptığı ilk sefer oldu. 1205\\'te gerçekleştirilen ilk baskın küçük düzeyde olmuş ve birkaç esir almakla yetinilmişti. 1207\\'de gerçekleştirilen seferde cengiz han, tangutların önemli şehirlerinden vulahay\\'ı kuşattı. aşamadıkları surların önüne yerleşmiş olan moğollar, tangutlara şehrin tüm kedileri ve kuşları karşılığında kuşatmayı kaldırmayı teklif etti. bu denli önemsiz bir şart karşısında şaşıran tangutlar, bunu yerine getirdi. fakat moğollar kedilerin kuyruklarına ve kuşların bacaklarına kıtık parçaları bağlamıştı. ateşe verip hayvanları saldılar. korkmuş ve alevler içerisindeki hayvanlar hemen yuvaları ve sepetlerine dönüp ambar ve mahzenleri ateşe verdiler. savaş tam anlamıyla 1209 yılında başladı. tangut kralı, moğol ordusu karşısına veliaht prensi çıkardı ancak prens mağlup oldu. böylece vulahay oldukça tuhaf bir kurnazlık sayesinde ele geçirilmiş oldu. 1209 yılında tangutların başkenti günümüz ningsia\\'sı kuşatıldı. cengiz han, sarı irmak\\'ın akıntısını taşırmak için yönünü değiştirmeye kalktı, ancak ele geçirdiği esir yığınlarına nehre dayanacak bir bent yaptırmayı başaramadı. sonbahar yağmurları, taşkınları büyüttü ve bendi sürükledi. moğol kampını su bastı. kuşatmayı kaldırmak gerekiyordu. fakat bir diğer yandan moğol ordusu kırsal bölgeleri talan ediyordu. tangut kralı barış istemeyi yeğledi. kızı çaka\\'yı cengiz han\\'a vererek onun sağ kolu olmak istediğini bildirdi. tangut kralı li an-şu an ihtiyaçları olursa moğollara yardım etmek için süvari birlikleri yollayacağına söz verdi. bunun yanı sıra develer, av şahinleri, yün ve ipekli kumaşlardan oluşan basit bir haraç vermekle yetindi. cengiz han şimdilik büyük jin seferinden önce tangutları kendine tabi kılmış oldu.\\n\\nkuzey çin\\'deki jin hanedanına karşı savaş ilanı\\n\\nmoğol yurtlarında hiç kimse pekin sarayında cengiz han’ın büyük dedesi ambakay han\\'ın uğradığı işkence ve aşağılamayı unutmamıştı. moğollar yüzyıllardır kuzey çin’de hüküm süren jin hanedanı hükümdarlarına, hanedanın adı olan jin kelimesi çince altın demek olduğundan altın han demekteydiler. cengiz han gençliğinde tuğrul ile birlikte tatarlar ile savaşırken jinler ile birleştiğinden beri onlar tarafından kendilerine tabii bir hükümdar olarak görülüyor ve onlara haraç ödüyordu. şimdi hem tuğrul hem de bu bağlılık anlaşmasının yapıldığı jin i̇mparatoru hayatta olmadığı için cengiz han kendini bağımlılıktan azat edilmiş kabul etti. çin memuruna haraç vermeyi reddeden cengiz han, protokol gereği elçiyi diz çökerek karşılaması gerekirken diz çökmeyi reddedip eskiden vermekte olduğu haracı vermedi. i̇mparator wanyan yongji bunu haber aldığında, öylesine sinirlendi ki moğol elçisini infaz etti. moğollar ile jin hanedanı arasındaki gerginlikler tırmanmaya başladı. cengiz han çin’e karşı sefer kararı vermeden önce kurultayı toplayarak komutanlara ve ileri gelenlere danışarak savaş kararı alındı. mart 1211\\'de, moğollar, jin hanedanına karşı bir sefer için 90.000 asker toplamıştı. bu durum moğolistan\\'daki üslerini korumak için yalnızca yaklaşık 2.000 kişinin geride kalmasına neden olmuştur. bu, moğol güçlerinin %90\\'ından fazlasının sefer için harekete geçirildiği anlamına geliyordu. sefere başlamadan önce, cengiz han, moğolları zaferle kutsamak için gök tengri\\'ye dua etti ve 1146 yılında jin i̇mparatoru xizong emriyle çarmıha gerilen atalarından ambagay\\'ın intikamını almak için sembolik bir yemin etti.\\n\\nyehuling savaşı\\n\\n1211 yılının ilkbaharında mukhulai, cebe ve subutay komutasındaki muazzam ordunun arkasında olduğu 30 bin kişilik öncü birlik kısa sürede çin hududuna dayanmıştı. çin seddi’ne hiçbir zorlukla karşılaşmadan yaklaştılar. jin ordusunun komutanı wanyan chengyu\\'nun amacı, yehuling\\'deki dağlık araziyi moğol süvarilerini engellemek için kullanmaktı. çin ordusu moğol ordusundan daha kalabalık ve silahlanmış durumdaydı. khitan kökenli bir yetkili olan shimo ming\\'an\\'ı cengiz han\\'la tanışmak ve barış görüşmelerine başlamak için gönderdi. bununla birlikte, cengiz han, shimo ming\\'an\\'ı kendi tarafına çekmeyi başardı. shimo ming\\'an, jin ordusu hakkında moğollara askeri istihbarat sağladı. cengiz han, general mukhulai önderliğinde sürpriz bir süvari akını başlattı. savaştan önce mukhulai cengiz han\\'a söz verdi: \"jin ordusunu yenemezsem canlı olarak geri dönmeyeceğim!\" moral gücü yüksek olan moğollar, jin güçlerini mağlup ederek wanyan chengyu\\'nun ana karargahına doğru savaştı. sonunda, jin ordusu dağınık hâle geldi, moralini kaybetti ve parçalanmaya başladı. 300.000 kişilik güçlü jin ordusu yok edildi. bu savaş 1211 ağustos\\'unda gerçekleşti. bu o kadar korkunç bir savaştı ki toprağın üzeri cesetlerle doldu. buradan dokuz yıl sonra geçen taoist rahip şang şun sonsuzluğa uzanan beyazlaşmış insan kemiklerini seyrettiğini aktarır. wanyan chengyu, yehuling savaşı\\'ndan sonra dağılmış jin güçlerini topladı ve huihe kalesi\\'nde bir araya geldi. bununla birlikte, 12 ekim 1211\\'de moğol kuvvetlerini takip ederek saldırıya geçti. moğollar, jin kuvvetlerini hızla kuşattı ve üç gün boyunca şiddetli bir savaşa girdiler. cengiz han bizzat yönettiği 3.000 atlıyla bir süvari akını başlatırken kalan moğol kuvvetleri ise geride kaldı. wanyan chengyu zorlukla hayatta kaldı fakat tüm jin ordusu yok edildi. yehuling savaşı, jin hanedanına 950.000 askerinin yarısına mal oldu. yaklaşık olarak on jin şehri moğollar tarafından yağmalandı. yehuling savaşından sonra, jin imparatoru wanyan yongji, pekin\\'de generali hushahu tarafından düzenlenen bir suikaste kurban gitti. cengiz han’ın en parlak komutanlarından bir diğeri olan cebe noyan, çin seddinin çevresinden dolaşarak donmuş liao nehri’ni geçip mançurya’nın güneyindeki mukden’i (bugünkü adı ile shenyang) ele geçirdi. 2 şubat 1212’de elde edilen bu zaferden sonra mançurya\\'daki liao hanedanı jin’den ayrılarak cengiz han\\'a bağlı bir prenslik hâline getirildi. cengiz han, cebe’nin başarısından çok memnun oldu ve beklemeye çekildi. 1212 yılı, çin i̇mparatoruna karşı isyanlar yılı oldu ve cengiz’in casusları tarafından ülkede adeta bir iç savaş çıkarılması başarıldı. pekin politik kargaşalarla sarsılıyordu. cengiz han, casus teşkilatı sayesinde fethedeceği ülkenin muhalif adamlarını, hoşnutsuzları kendi hizmetine almaya uğraşırdı. ve onlara ganimetten pay ve yüksek memuriyetler vadederdi. çin ordusunda bulunan ongut, kongrat ve tatar kabileleri saf değiştirerek soydaşları olan moğolların tarafına geçtiler. çin seddi\\'nin neredeyse bütün kapıları ihanet edenler tarafından açılmıştı. bu sebeple moğol ordusu gayet seri bir şekilde çin seddi\\'ni aştı.\\n\\npekin\\'in fethi\\n\\n1212 yılının sonbaharında cengiz han, pekin’e bir saldırı düzenleme kararı almış ancak bir çarpışma sırasında ok ile yaralanınca saldırıya ara verilmişti. ertesi yıl tekrar pekin’e giden geçidin üzerindeki iki kaleye saldırı düzenlenerek geri dönüldü. çin kuvvetleri moğol ordusunun geçeceği yollara atları yaralamak gayesi ile dört tarafında çivi olan toplar serpiştirmişlerdi. cebe ve sübedey kaleleri teslim almak için epey uğraşmışlar ve sonuçta pekin yolunu tekrar açmayı başarmışlardır. 1214’te cengiz han üç ordusunu çin başkenti pekin duvarları önüne yığdı. pekin muhasarası 1214 yılının ilkbaharına kadar yaklaşık bir yıl sürmüştü. ancak moğolların savaşta en geri oldukları konu kuşatmaydı. sorunun ciddiyetinin farkına varan cengiz han atlıları ile orada kalamazdı. kış moğollar için oldukça zor şartlar altında geçmiş salgın hastalıklar ve kıtlık yaşanmıştı. şehir halkının da durumu hiç iyi değildi. cengiz han çaresizlik içerisinde ne yapacağını düşünüp, geri dönmeye niyetlenirken, çin imparatorundan barış teklifi geldi. i̇mparator, altın, gümüş, ipekle bunların yanı sıra beş yüz oğlan, beş yüz kız ve üç bin at verdi ve on bin top kumaş verdi ayrıca kızı ki-kuo’yu da cengiz han ile evlendirdi. cengiz han, imparatorun verdiklerini kabul eder gibi görünüp karakurum’a geri dönünce pekin sarayı bir an kurtulduğunu sanarak rahat nefes aldı. bu çin seferi, cengiz han’ın bu güne kadar en çaplı ve getirisi en fazla olan seferi niteliğindeydi. şimdi dünyanın belki en zengin ülkesinin çok büyük bir kısmı çok kısa sürede ele geçirilmişti. ancak çin’i gerçekten istila etmek için pekin’i ele geçirmek gerekiyordu. cengiz han bir sene önceki pekin kuşatmasında çin usulü bu müstahkem kenti atlı birliklerden kurulu göçebe ordusu ile düzenli bir kuşatma ile ele geçiremeyeceğini anlamıştı. bu nedenle çinli istihkâmcıları ordusuna dahil etti. bu istihkâmcılar, moğollara çin mancınıklarını kullanmayı öğretti; çin mancınıklarının hafif olanlarının kolunu kurabilmek için 40, ağır olanları için ise 100 kişi gerekiyordu. mancınıkların menzili 100-150 metreydi, attıkları taşlar ise küçüktü 1-13 kilo arası. artık pekin’in burçlarını nasıl zorlayacaklarını biliyordu. cengiz han, kenti düşürebilmek için esir edilen çinli mühendislerden yararlanma yoluna gitmişti. hareketli saldırı kuleleri hazırlanmıştı. mancınıklar ile ordunun gücü daha da pekiştirilmişti.\\n\\nhaziran 1214’te imparator pekin’i bırakıp sarı irmağın ötesine kai-fong şehrine çekildi. ne var ki bu durum halkının gözünde bir kaçıştı. pekin’deki devlete ait evraklar ile maddi varlıklar 3 bin deve ve 300 araba ile sarı irmağın ötesindeki güvenli bölgeye taşınmaya başlanmıştır. ancak imparatorluğun içerisindeki mançurya’dan gelen 2000 hitay askerî atalarından kalan topraklardan ayrılmak istemediler ve pekin’den 50\\xa0km uzaklaştıktan sonra isyan ettiler. cengiz han\\'a da bir haber göndererek onun emrine girmek istediklerini söylediler. cengiz han, jin imparatorunun bu taşınma kararını; sözüme güvenmedi, beni aldatmak için barış yaptı diye yorumlayarak terk edilen pekin’in güçsüz kaldığını düşünüp buraya tekrar sefer düzenleme kararı aldı. şimdi daha hazır durumda olan ordusu ile mart 1215’te pekin surlarına dayandı. pekin hücumunu mukhulai idare etmekte idi. subutay, mukhulai\\'ın ordusunun bir kanadını koruyordu. zamanın kendileri lehine olduğunu biliyordu. kuşatma aylardan beri sürmesine rağmen, surların üzerinde tam donanımlı çin askerleri savaşmak için bekliyordu. 9 ay süren kuşatma boyunca yiyecek sıkıntısı çeken pekinliler arasında yamyamlık yapanlar bile olmuştu. çin askerleri duvarlara tırmanmaya çalışan moğol askerlerinin üzerine ok yağdırıyorlardı. saldırının en önemli anında cengiz han, çinli esirleri savaş arabaları ile surlara doğru sürdü. cengiz han aldığı binlerce esiri saldırılarda en önde savaşmaya zorladı. şimdi çin askerleri, arabaları itmekte olan çinli esirleri okluyordu. sonrasında, ağır taş gülleri atan mancınıklar harekete geçmişti. büyük taşlar, pekin kentinin duvarlarını parçalıyordu. çinliler de bu arada boş durmuyordu. i̇leri teknikleri kullanarak ürettikleri, petrol ve farklı kimyasal maddelerden yapmış oldukları yangın bombalarını moğolların üzerine atıyordu. cengiz han. durumun zorluğunun farkına varmış ve askerlerine, bedeli ne olursa olsun, surlardan gedik açılarak kentin içine girilmesi emrini vermişti. çinli esirler kentin surlarına uzun merdivenleri dayamayı başardığında, kuşatma altındakiler surların altında kızgın yağlarda kavurdukları yığınların kendi akrabaları olduklarını fark ettiklerinde onlara karşı dayanmaya dayanamayıp teslim oldular. bu sırada surlarda gedikler açılmıştı ve moğol askerleri gediklerden, kentin içine sızmayı başarıyordu. moğollar kentin surlarına kendi bayraklarını dikmeye başladığında, bayrakları gören çinli komutanlar utançlarından kendilerini öldürmeye başlamışlardı. artık zaferinden emin olan cengiz han atını kentin sokaklarından sürerek, kent merkezine ilerliyordu. moğollar, kentte insanlık tarihinin en büyük yağmalarından birine bu şekilde başlamıştı. batılı kaynaklarda; o donemde kentte bulunan batılı diplomatlar ve gezginlerin şahitliği ile şunlar yazacaktır:\\n\\n \\nmukhulai, pekin\\'de hazine ve cephane namına ne varsa toplatarak cengiz han\\'a gönderdi. cengiz han, kendisine meydan okuyan pekin kentine vahşice bir ceza vermişti. artık bütün dünyanın başkentleri çin\\'de olanlarla yakından ilgilenmeye başlamıştı. harezmşah hükümdarı sultan alaaddin muhammed harezmşah, kendi ideali olan çin’in, moğolların eline geçmesine inanamadı. haberin doğruluğunu tetkik ettirmek için seyyid behâeddîn-i râzî’nin idaresinde bir heyeti çin’e gönderdi. harezmşâh elçileri çin hududuna vardıkları zaman, çok uzak mesafeden bembeyaz bir yığın gördüler. önce bunu karla kaplı bir tepe zannettiler. yerli halktan, burada bir tepe olmadığını, cengiz askerlerinin öldürdüğü çinlilerin kemikleri olduğunu öğrendiler. bir müddet gittikten sonra toprağı insan kanından simsiyah kesilmiş bir bölgeye geldiler. bu siyahlık kilometrelerce devam ediyordu. pekin’e vardıklarında kale burçlarının dibinde bulunan kemik yığınlarının da, cengiz’in pekin’i ele geçirdiği zaman, zalim moğol askerinin eline düşmemek için kendilerini burçlardan atarak ölen yirmi bin bakire kıza ait olduğunu öğrendiler.\\n\\nçin\\'in fethinin devamı ve idare işlerinin mukhulai\\'a devredilmesi\\npekin\\'in fethinin ardından mukhulai ve cengiz’in kardeşi kasara baştan başa tüm mançurya’yı geçtiler ve güneye doğru ilerlediler. mukhulai kusursuz planlama yeteneği ile cengiz han’ın en büyük komutanlarından biriydi. mançurya’da liao’nun başkenti pei ching’i hiç alışılmadık bir şekilde fethetti. mukhali, yesen isimli hem çince hem de yerel türk dillerini bilen bir moğol subayını görevlendirerek şehrin idaresini devralmak için gelen yeni jin komutanını tuzağa düşürmek için görevlendirdi. yesen isimli casus jin komutanının evraklarını alarak muhafızları yeni gelen general olduğuna inandırdı. daha sonra şehrin yeni hakimi olarak tüm muhafızlara kalenin dışına çıkmalarını emrederek mukhulai’ı şehre davet etti. mukhulai neredeyse hiçbir direnişle karşılaşmadan yürüyerek şehirdeki 100 bin eve halkına silahları ve yiyecekleri ile birlikte el koydu. kendisine karşı direnç gösteren iki kasabayı cezalandırmak için marangozlar, kale ustaları ve sanatkarlar hariç her iki kasabada yaşayanların da öldürülmesini emretti. cengiz han, kuzeydeki vaziyeti tetkik için subutay kumandasında başka bir kol gönderdi. leao-dong körfezini kaplayan yarımadayı dönerek yeni bir ülkenin keşfine çıkmış gibiydi. 1216\\'da yalu irmağının geçilmesi kore’ye girilmesine yol açtı. subutay, burada jin imparatoruna bağlı krallığı kendilerine tâbi kılmak için kaçırılmaz bir fırsat olduğunu gördü. küçük bir ordu ile bugünkü kuzey ve güney kore arasındaki sınırda bulunan zengin ve kozmopolit bir şehir olan kaesong’taki hükümdar sarayına bir yolculuk yaptı. cengiz han’ın başarısından etkilenen kral yeni ve korkutucu komşularına haraç ödemeyi kabul ettiler. bu haracın kapsamında 100 bin yaprak en büyük boy kore kağıdını da içeriyordu.\\n\\ncengiz han artık bütün kuzey çin’in hakimiydi. cengiz karakurum’un ipek çadırını eski çin’in başkentinin şaşaasına tercih etti. cengiz han, çin’in maddi değeri fazla ağırlıklarını karakurum’a taşırken ye-liyu çutsay gibi birçok bilgini de yanında getirdi. onlardan dünya ahvalini, ticareti, dilleri, dinleri, milletleri öğrendi. uygur aydınlarını da bu bilginler aracılığı ile yüksek çin teknolojisi ile tanıştırdı. cengiz han, çin’i kendi adamları ile idare etme yolunu ömrünün sonuna kadar sürdürdü. ye liyu çutsay\\'ın ceniz han\\'a verdiği; sen büyük bir imparatorluğu at üstünde fethettin ama at üstünde idare edemezsin öğüdü üzerine fethedilen yerlere yerel yöneticiler atadı. ye liyu çutsay, cengiz han\\'a şehirleri yerle bir etmek yerine onları geliştirmeyi teşvik dilmesi gerektiğini çünkü bunların zenginlik kaynağı olduğunu anlattı. cengiz han, çin\\'in tamamının fethinin uzun süreceğini anlayıp, buranın fetih ve idare işlerini 1217\\'de mukhulai\\'a devrederek mukhulai\\'ı burada bırakıp kendi yurduna geri döndü. mukhulai’a “bütün ulusun guyang’ı” ünvânı verilmişti. reşidüddin bu unvanının farsça’daki han-ı buzurg ”büyük han” olduğu ve onun çin’deki görevi esnasında çinliler tarafından kendisine verilen lakap olduğu ileri sürülmektedir. mukhulai, moğol i̇mparatorluğu\\'nun kuruluşuna büyük katkıda bulunduğundan kendi adına ferman çıkarmak ve ortasında siyah ay bulunan dokuz ayaklı beyaz tuğ ve büyük han’ınki ile aynı olan süslü eyer, kemer, davul ve kendine has taht kullanma hakkına da sahip idi. mukhulai yedi yıl boyunca başarılı savaşlar sonunda kin krallığını honan\\'a hapsetmeyi başarmış çin topraklarını cengiz han adına yönetmiş ve 1223\\'te burada ölmüştür.\\n\\notrar hadisesi\\nharezmşahlar ile moğollar\\'ın ilk kez karşı karşıya gelmesi 1218 yılında gerçekleşmişti. kara hıtaylara sığınan naymanların son hükümdarı güçlük üzerine karşı cengiz han 1218’de cebe noyan komutasında 20.000 kişilik bir kuvvet yollamıştı. cebe noyan, güçlük\\'ü öldürüp, kara hıtay devletine son vererek i̇li, issık gölü, talas ve bütün türkistan\\'ı cengiz han’a bağlayınca cengiz han harezmşahlar ile sınırdaş olmuştu. kara hıtay toprakları üzerinde her iki imparator hakimiyet tesis ederken birçok sınır olayı olmuş ve cengiz han\\'ın oğlu cuci güçleri ile bizzat harezmşah alâeddin muhammed\\'in de iştirak ettiği bir çarpışma yaşanmıştı. bu çarpışma esnasında oğlu celâleddin, babası alâeddin muhammed\\'i ölümden kurtarmış ancak harezmşah\\'ın saldırıda yaptığı zulüm sinirleri oldukça germiş cengiz han bu hadisenin ilk olması nedeniyle büyük bir tepki göstermemiştir. cengiz han\\'ın çin’i fethettiğine ihtimal vermeyenlerin başında harezmşah hükümdarı sultan muhammed geliyordu. bu sebeple bahaaddin razi adlı bir adamını pekin’e kadar göndermiş ve bizzat çin’in artık cengiz han’ın mülkü olduğunu tespit ettirmişti. bahaaddin razi çin dönüşünde karakurum’a gelerek cengiz han’ı ziyaret etti. cengiz han yaptıkları görüşmede ona kurulacak barış neticesinde her iki tarafın kervanlarının serbestçe gidip gelmelerini memnuniyetle karşılayacağını, tüccarların kendi ülkesi dahilinde tam bir emniyet içinde bulunacağını ifade etti.\\n\\ncengiz han 1218 yılının başlarında harezmşah tüccarları ile ticaret için tamamen müslüman üyelerden oluşan bir heyeti anlaşma şartları için harezm’e gönderdi. sultan muhammed, cengiz han’ın heyetini 1218 yılı baharında kabul etti. heyet sözcüsü verdiği izahatta cengiz han’ın harezmşah alâeddin muhammed’i “en sevgili oğlu” olarak gördüğünü, onunla dost olmak istediğini, her iki milletin ticaret erbabına kapılarını açık tutmasını istediğini bildirdiler. harezmşah alâeddin muhammed heyetin yüzüne karşı; “benim ülkemin genişliğini, ordularının büyüklüğünü biliyorsunuz; nasıl olurda hanınız bana “oğul” diye hitap etmeye cesaret ediyor?” diyerek tehditler savurmuş ancak mahmut yalvaç onu teskin ederek iki devlet arasında bir ticaret anlaşması yapılmasını sağlayabilmişti. cengiz han’ın çin ülkesini fethederek çok zengin olduğunu duyan harezmli tüccarlar satacakları malları cengiz han’ın ülkesine götürerek ticari ilişkiler içine girmeye başlamışlardı. ardından o da oğulları ve komutanlarına bir talimat vererek sermayeyi hazineden temin ederek kıymetli mallar getirmeleri için seçilen 450 kişilik bir heyeti de harezmliler ile birlikte o tarafa gönderdi. müslümanlardan müteşekkil 450 kişilik bu kafilede toplam 500 deve yükü kıymetli mallar, ipek dokumalar, samur ve kunduz kürkleri, çin sanat eserleri bulunuyordu. cengiz han’ın heyetinin ilk konaklayacağı yer sir derya üzerinde yer alan ve maveraünnehir’in son noktası olan otrar idi. otrar valisi i̇nalcık, harezmşah muhammed’in annesi terken hatun’un da yakın akrabası idi. otrar valisi i̇nalcık, cengiz han’ın 450 kişilik heyetini tutuklattı. ardından onları öldürtüp mallarına da el koydu. cengiz han bu hadiseyi duyduğunda oldukça fazla hiddetlenmiş ve kendisini sakinleştirmek için burhan haldun’a çıkarak inzivaya çekilmiştir. cengiz han, i̇nalcık\\'ın cezalandırılarak, malların bedelinin ödenmesi için harezmşahlara elçilik heyeti gönderdi. ancak harezmşah alâeddin muhammed elçiyle birlikte elçilik heyetini de öldürttü. otrar hadisesi hakkında dönemin eserlerinde müslüman yazarlar dahi kabahati i̇nalcık ve harezmşah alâeddin muhammed\\'in üzerine yıkmaktadırlar. nesavi kervancıların öldürülmesini i̇nalçık\\'ın şahsi tamahına bağlamakladır. cuzcani bu hareketin üstü kapalı bir şekilde alâeddin muhammed tarafından tasvip gördüğünü düşünmektedir. i̇bn al-alhir bu suçu tamamen harezmşah alâeddin muhammed\\'in üzerine atmaktadır.\\n\\nharezmşahlar ile savaş\\n\\notrar\\'da cengiz han\\'ın elçilik heyetinin öldürülüp mallarına el konulmasından sonra toplanan 1218 kurultayında moğol elçilerine karşılık olarak harezm’e saldırma kararı alındı. seferde başına bir şey gelirse diye tahtın varisini belirlemek için oğullarını topladı, ancak cuci ve çağatay\\'ın cuci\\'nin cengiz han\\'ın gerçek oğlu olup olmadığı konusunda birbirlerine girdiler. cengiz han, çağatay\\'ın önerisiyle, ögeday\\'ı tahtın varisi olarak belirledi. en küçük kardeşi temuge’yi, ocağı beklesin diye ordugah komutanı olarak karakurum’da bıraktı. harezm seferi cengiz han’ın yaşantısında bir dönüm noktası olacağı gibi tüm avrasya hatta insanlık tarihi için bir dönüm noktası olmuştur.\\n\\n1219 yazında cengiz han’ın ordusu altay dağlarının güney yamacında yığınak yaptı. zungan kapısını geçerek yedi irmak ilinin alt ovasına ulaştılar. cebe, subutay ve tohoçar’ın öncü güçlerinin sayısı 100 binden fazla idi. bu arada hâkimiyeti altındaki kabilelerden istediği askerler gelirken tangut krallığına da elçi yollamış ancak tangut kralının kendisi değil de askerî gücün lideri konumundaki aşa adındaki kişi “cengiz han mademki bu kadar zayıf, neden han olmak için bu kadar sıkıntı çekiyor” şeklinde aşağılayıcı bir cevap göndermiştir. cengiz han o anda harezmşahlar üzerine yürümekte olduğu için tangutları cezalandırabilecek bir durumda değildi ama bu yapılanı unutmadı. cengiz han, bu seferinde kullanmak üzere ordusunun teçhizatını en iyi şekilde tamamlamış, beraberinde kuşatma malzemeleri, çin\\'den getirttiği mühendisler ile askerî nakliyat için pek çok deve getirmişti.\\n\\ncengiz’in orduları aral gölünün güneyinde amu derya üzerinden harezm sınırlarına yaklaştığında harezmşah muhammed, hazırlıklarına askerî bir şura toplayarak başlamış, ordusunu sir derya ile maveraünnehir’in müstahkem mevkilerine dağıtarak moğol ordusunu semerkant\\'ta karşılamaya karar vermişti. güçlerini belli başlı şehirlere dağıtması sayı üstünlüğüne rağmen kuvvetlerinin azalmasına yol açmıştır. cengiz han ilk olarak eylül 1219\\'da, elçilerinin ve ticaret kervanlarının katledildiği otrar\\'a saldırma kararı aldı. bu sembolik açıdan son derece önemliydi. cengiz han, otrar önlerine geldiğinde harezmşah alaeddin muhammed\\'in savaş planını öğrenerek şehirlerin arasına girecek şekilde ordusunu düzenleyerek maveraünnehir\\'deki şehirlerinin birbirlerine yardım etmesini önlemeye karar verdi. yaptığı plana göre orduyu üçe ayırdı. oğulları çağatay ve ögeday, otrar önlerinde kalarak şehri alacaklar. yanlardan gelebilecek bir karşı saldırıyı önlemek için cuci, sir derya boylarına ilerleyerek cend’i alacak, cengiz han ise buhara’ya yürüyecekti. böylece harezmşah ordusunun birbirleriyle teması önlenecekti. cengiz han, çağatay ve ögeday\\'ı otrar\\'da bırakıp buhara\\'ya doğru yola çıktı. yol boyunca konaklar tesis ediliyor ve posta menzilleri kuruluyordu. kendi ülkesi maveraünnehir\\'de bile harezmşah aleaddin muhammed, 1216\\'da sufi kubravi tarikatından şeyh mecideddin bağdadi\\'yi idam ettirmesinden dolayı müslüman din adamlarının düşmanlığını çekmiş vaziyetteydi. ailesi harezmşah alaeddin muhammed tarafından öldürülmüş bir genç cengiz han\\'a katılarak maveraünnehir hakkında bilmediği bilgiler veriyor, yolları ve bölgeleri bilen tüccarlar da cengiz han\\'a eşlik ediyorlardı. cengiz han’ın bu sefer sonucunda yaptığı yeniliklerden birisi de harita kullanmak olmuştur. harita işini de oğlu cuci’ye vermiştir. topoğrafya\\'dan haberdar olmaları da harezmlilerin elinden önemli bir kozu alıyordu. buz tutmuş gölü hiçbir engelle karşılaşmadan geçti. siri derya savunma hattına birliklerini yayan harezmşah alaeddin muhammed karşısında cengiz han, kendi ordusunun ağırlık noktasının bilinmeyeceği bir yerleşik saldırı tuzağı kurmuştu. cengiz han\\'ın yaptığı plan sonucunda üç ordusundan biri kuzeyden, cebe komutasındaki diğeri doğudan gelirken cengiz han’ın bizzat kendisinin ve subutay’ın yönettiği bir üçüncü ordu da kızılkum çölü’nü geniş bir daire çizip geçerek görünmez biçimde buhara’ya ve harezmşah alaeddin muhammed’in kuvvetlerinin arkasına yöneldi. cengiz han çölden çıkıp göründüğünde ve buhara yolunu tuttuğunda batıdan geliyordu. gafil avlanma öylesine etkilidir ki harezmşah alaeddin muhammed, geri çekilme hattının kesildiğini ve horasan’dan beklediği kuvvetlerin gelmediğini görünce paniğe kapılarak cengiz han ile karşılaşmadan maiyetiyle birlikte semerkant\\'ı terk etti. cengiz han buhara önlerine geldiğinde buhara eşrafı, hakimleri ve ulema vaziyeti müzakere ettikten sonra şehrin anahtarlarını 10 ya da 16 şubat 1220\\'de cengiz han’a teslim ettiler.\\n\\ncengiz han, buhara\\'da iki gün kaldıktan sonra sonra semerkant\\'a ilerledi. otrar\\'ı ele geçirmiş olan çağatay ve ögeday ile cend\\'i ele geçirmiş olan cuci de ona katıldı ve 22 nisan 1219’da cengiz’in üç ordusu da harezmşahların başkenti semerkant yakınında birleşti. otrar\\'ın ele geçirilmesinden sonra yakalanan i̇nalcık cengiz han\\'ın huzuruna getirilerek öç işkencesi olarak kulaklarıyla gözlerine eritilmiş gümüş dökülerek infaz edildi. harezmşah muhammed daha kalabalık olan ordularının başında savaşmak yerine asker toplamak gibi bahanelerle sürekli kaçıyordu ve cengiz han, semerkant önlerine geldiğinde semerkant halkının gözü savaştan korktuğu için şehri teslim etmeye karar verdiler. şehrin kadısından, şeyhülislamından ve alimlerinden oluşan bir heyeti cengiz han\\'a yolladılar. i̇bnül esir\\'e göre şehir teslim olduğu için katliam olmadı. cengiz han\\'a semerkant\\'ta verilen kalifiye zanaatkâr sayısı 30 bin kişi kadardı. onlara da aynı hoşgörü gösteriliyordu. bu, cengiz han\\'ın ilim ve sanat adamlarını kendi tarafına çekerek onun şanı namına hizmet etmeleri için uyguladığı bir yöntemdi. yağmalama ve haraçtan sonra şehir halkı evlerine dönebildi.\\n\\n1220 baharını semerkand yakınlarında geçirip oradan nahşeb bahçelerine geçen cengiz han tirmiz\\' hareket doğru hareket ederek şehri ele geçirdi. cuci, çağatay ve ögeday\\'ı 1220 yılının sonlarına doğru harezm\\'in merkezi gürgenç’i fethetmeleri için görevlendirirken alâeddin muhammed\\'i ne olursa olsun onu canlı yakalamaları için peşinden yetenekli generallerinden cebe noyan ve subutay noyan\\'ı gönderdi ve yol boyunca direniş olmadığı sürece savaşılmaması ve kesinlikle yağmaya girişilmemesini emretti. alâeddin muhammed kaçışına devam ederken, cengiz han, harezmşah muhammed\\'in annesi türkan hatun\\'a kendisine karşı kötü bir niyeti olmadığını yalnızca oğlu ile görülecek bir hesabı olduğunu ifade etmek için bir elçi gönderdi. ancak türkan hatun yanıt vermemeyi yeğledi ve harezmşah\\'ın kızları ve oğulları ile i̇ran\\'ın kuzeyinde hazar denizi kıyısındaki mazenderan\\'a kaçtı. subutay, alâeddin muhammed\\'in ailesinin saklandığı mazenderan\\'ı kuşattı ve kaleyi teslim olmak zorunda bıraktı. türkan hatun moğolistan\\'a sürgün edildi. harezmşah\\'ın çocukları öldürüldü, kızları ise moğolların hizmetine girmiş kişilere dağıtıldı. subutay ve cebe, harezmşah\\'ın izini eylül\\'de batı i̇ran\\'da hemedan\\'da kaybetmişlerdi. harezmşah muhammed batıya kaçarak hazar denizi üzerinde bir küçük adaya sığınmıştı. aralık 1220\\'de bu adada neden olduğu bilinmez şekilde öldü. gürgenc kuşatmasına, cengiz han\\'in muhafız kıtasının bir birliğini yöneten bughurçi ile, sağ kanatta binbaşı olan tolun-çerbi de katılmıştı. bu zor kuşatma sırasında cuci son derece zayıf bir idare göstermişti. kararsızlığını tenkit eden çağatay ile yaptığı münakaşaları cengiz han\\'ı her ikisini birden kardeşleri ögeday\\'in emri altına sokmaya mecbur etmişti. gürgenç kuşatması 1221 ilkbaharına kadar, reşîdüddîn\\'e göre 7 ay, i̇bnül esir\\'e göre ise 5 ay sürdü. bu moğolların en zor savaşlarından biri oldu. cüveynî, bu savaşta iki tarafın kaybettiği insan sayısını bana söyledikleri zaman inanamadım onun için de buraya yazmadım demektedir. zafer, 1221 yılının nisan ayında geldi. karşı koyan kalmayıp herkes teslim olunca, şehirde bulunanları dışarıdaki boş alana sürdüler. bunlar arasında meslek ve sanat sahibi yüz binden fazla kimseyi ayırdılar kadınları ve küçük çocukları köle yapıp esir aldılar. \\ngürgenç\\'in 1221’de moğolların eline geçmesiyle harezmşahlar devleti resmen tarihe karışmış oldu. harezm’in zaptından sonra cengiz han, oğlu cuci’ye, harezm ülkesinin bu bölümü de dahil olmak üzere ele geçirdiği batı sibirya’yı vererek onu bölgeye idareci olarak gönderdi. alâeddin muhammed\\'in ölüm haberini aldıktan sonra amu derya\\'yı geçerek horasan\\'a girdi ve belh şehrini fethetti. küçük oğlu tuluy\\'u ise horasan\\'daki şehirleri ele geçirmesi için yolladı. horasan\\'da insanlık tarihinde eşine az rastlanır biçimde bir katliam gerçekleştirildi. cüveynî, seferden sonra geriye halkın onda birinin bile kalmadığını söyler. nişabur’da cengiz han’ın en sevdiği damadı olan toguçar bir nişaburlunun attığı ok ile ölmüştü. bu olayın şubat 1221\\'de tuluy\\'un şehri ele geçirdikten sonra yaşanan bir isyan sırasında mı yoksa kuşatma sırasında mı olduğu açıklığa kavuşmuş değil. i̇ki ihtimalde de şehirdeki insanların ölüm fermanının imzalanmasının bu olay sonucu olduğu biliniyor. cengiz han’ın kızı, kocasının ölüm haberini aldığı için acılıydı ve nişabur’daki her insanın öldürülmesini istedi. tuluy orduyu yönetiyordu ve bu görevi yerine getirdi. kadınlar, çocuklar, bebekler hatta köpekler ve kediler bile katledildi. bazı şehir sakinlerinin yaralı olup ölmemesinden endişelenen cengiz han’ın kızı söylenenlere göre herkesin kafasının kesilmesini istedi, kesilen kafalarla piramitler oluşturuldu. on gün içinde piramitlerin hepsi tamamlanmıştı. nişabur’da kaç kişinin öldüğü her zaman tartışma konusu olsa da çok sayıda insanın yaşamını yitirdiği bilinmekte. bu katliam yaşanırken cengiz han’ın şehirde olmadığı tahmin ediliyor. nişabur\\'un ardından direnen merv de ele geçirildikten sonra korkunç bir yıkıma maruz kaldı. kale yerle bir edilirken büyük selçuklu hükümdarı sultan sencer\\'in anıt mezarı tahrip edildi. horasan\\'ın en zengin ve gelişmiş şehirlerinden merv harabe hâline dönüştü. cüveyni’nin aktardığına göre merv\\'de bir milyon üç yüz binden fazla insan öldürüldü. nişabur ve merv\\'deki katliamlardan gözü korkan herat ise teslim oldu. böylece tuluy üç ay gibi kısa bir sürede horasan’ın merv, nişabur ve herat şehirlerini ele geçirdi.\\n\\nalâeddin muhammed ölmeden birkaç gün önce oğlu celaleddin’i veliaht ilan etmişti. celaleddin bu devleti yeniden toparlamak istedi. bunun için moğollarla mücadele etti. celaleddin harezmşah, hindikuş\\'un güneyinde önemli bir ordu kurmuş ve tehdit oluşturmaya başlamıştı. gazne\\'de 60 bin askerle yerleşmiş olan celaleddin, toharistan\\'da valiyan\\'ı kuşatan moğol ordusunu yendi. sultan celaleddin’in sayısı az olan ve başka yerden yardım alamayan moğol ordusunu yendiğini haber alınca cengiz han hiç vakit geçirmeden, gazne’ye geldi. celaleddin\\'in on beş gün önce oradan sind geçidini geçerek hindistan\\'a gitmek için ayrıldığı haberini alması üzerine celaleddin\\'in peşine düştü. cengiz han, 26 kasım 1221\\'de i̇ndus nehri sahilinde ona yetişti ve her taraftan sultan’ın ordusunu kavis içine aldılar. şiddetli bir çarpışma yaşandı. celaleddin mağlup olarak annesini ve karısını nehre attırdıktan sonra nehri geçip hindistan\\'a kaçtı. cengiz han, celaleddin\\'e karşı zaferinin etkisini güçlendirmek için hindistan\\'a girip onu takip etmedi. hindistan çok büyüktü ve hakkında hiçbir bilgiye sahip değildi. delhi sultanlığı hatırı sayılır bir güce sahipti. 1223 yazını bugünkü taşkent’in bulunduğu yerde geçiren cengiz han, geri dönüş için hazırlıklara başladı.\\n\\nsubutay ve cebe 1221\\'de yakalamakla görevli oldukları harezmşah alaeddin muhammed\\'in ölümünü öğrendiklerinde artık tek amaçları olan harezmşah\\'ı ele geçirmek söz konusu olmadığı için serbest hareket etmeye başladılar. bu serbestlik onlara insanlık tarihinin bugüne kadar bilinen en büyük süvarilik harikalarından birini gerçekleştirmelerine imkân tanımıştı. kafkasya\\'ya girerek gürcüleri kış ortasında başkentleri tiflis\\'te yenilgiye uğrattılar. hazar denizi ve karadeniz\\'in kuzeyinde yaşayan kıpçaklar, moğollar ile tek başlarına başa çıkamayacaklarını anlayınca ruslara çağrıda bulundular. cebe ve subutay, 31 mayıs 1223\\'te 80 bin kişilik rus-kıpçak ordusunu kalka nehri kıyısında mağlubiyete uğrattılar ve oradan kırım\\'a doğru uzanarak sudaka\\'yı zapt ettiler. dönüş yolunda hazar denizi kuzeyinde i̇dil bulgarları tarafından kuşatıldılar. subutay ve cebe birçok tarihi kaynağa göre i̇dil bulgarlarını mağlup etti. bazı tarihçiler, moğolların yenildiğine dair rivayetleri i̇dil bulgarlarının ruslara, moğolları yendiklerini ve onları topraklarından sürdüklerini söylemek için uydurdukları hikâyelerin oluşturduğunu iddia etmektedirler. cebe ve subutay, 1223\\'ün sonu veya 1224\\'ün başında i̇rtiş vadisi\\'nde, dönüş yolunda olan cengiz han\\'a katıldılar.\\n\\n son seferi ve ölümü \\n\\ncengiz han, harezmşahlar üzerine sefere gitmeden önce yardım için asker istediği kendisine tâbi tangut krallığı olarak bilinen batı xia hanedanının tavrını unutmamıştı. karakurum\\'a döner dönmez bu sorunu halletmek için hazırlıklara başladı. sefere yanında eşlerinden yesüy ile birlikte 1225 sonbaharı ya da 1226 ilkbaharında çıktı. av esnasında attan düştü. karın bölgesinde çok ciddi ağrıları vardı ve ateşi çok yüksekti. telaşlanan yesüy, kazayı ve cengiz han\\'ın rahatsızlığını haber vermek için oğullarını ve komutanlarını topladı. seferin ertelenmesi önerisi kabul edildi. tam toplanıp gidilecekken cengiz han; \"eğer geri çekilirsek tangutlar korktuğumuzu düşünür.\" diyerek karşı çıktı. meseleyi diplomasi yoluyla çözmek için tangut kralına bir elçi gönderildi. kral barıştan yanaydı ancak bakanı aşagambu onu vazgeçirdi ve \"moğollar savaşmak istiyorlarsa gelsinler boy ölçüşelim, altın, gümüş ve ipek istiyorlarsa almak için ilerlesinler\" diye cevap gönderdi. yüksek ateşten bitkin bir vaziyette olan cengiz han, \"ölmem gerekse bile artık geri çekilemeyiz\" dedi ve moğollar saldırıya geçti. cengiz han, lipuan dağları\\'nda gizli bir vadiye götürülerek ve şifalı bitkiler ile tedavi edilmeye çalışıldı. diğer taraftan moğol ordusu bölgeyi öyle kötü yıkıp yağmalamıştı ki tangut kralı barış istemek zorunda kalmıştı ama cengiz han\\'ın huzuruna çıkarılmadı. yalnızca otağının önüne gitmesine izin verildi. gerçeği saklamak çok da mümkün olamamıştır ancak bu haberin dışarı sızmaması gerekiyordu. cengiz han: “ölümümü kimsenin öğrenmesine izin vermeyin. hiçbir zaman ağlamayın ve yas tutmayın, böylece düşmanlarımızın hiçbir şeyden haberi olmaz. tangutlu idareciler ve halk belirlenen zamanda şehri terk ettiklerinde hepsini yok edin!” demiştir. akabinde tangut kralı öldürülmüş, yinçuan şehri yağmalanmış, hükümdar mezarları açılmış ve halkı tamamen ortadan kaldırılmıştı. bu yüzdendir ki kaynaklarda bundan sonra tangutlar hakkında bir bilgiye rastlanılmamaktadır. böylece cengiz han\\'ın emri yerine getirilmişti.\\n\\ncengiz han 1227 yılının ağustos ayının ortası civarında hayatını kaybetmiştir. neden öldüğü tam olarak bilinmemektedir. ölüm sebebi hakkında çeşitli rivayetler vardır. cengiz han\\'ın naaşına ne olduğu ve nerede bulunduğu konusu günümüzde bile hâlâ sırrını korumaktadır. moğolların gizli tarihi\\'nde bu konu ile ilgili hiçbir kayıt yoktur. ülkesinden yaklaşık 1600\\xa0km uzakta ölen cengiz han\\'ın naaşının ülkesine nasıl götürüldüğü konusunda soru işaretleri vardır. moğollar mumyalama tekniklerini bilmedikleri için bazı yazarlar cengiz han\\'ın öldüğü yere defnedildiğini iddia etmektedirler. bazıları doğduğu yerde gizli bir yere gömüldüğünü, cenaze konvoyunda görev alan herkesin öldürüldüklerini ve mezarının gizli tutulması için birçok atın mezarın üstüne gezdirilerek mezarın belirginliğinin giderildiğini kaydederler. çünkü bir orta asya inancına göre, cengiz han\\'ın mezarının bulunduğu gün, dünya\\'nın sonu gelecekti. bazıları ise naaşın karakurum’a getirilerek onon ve kerulen nehirlerinin kaynakları civarında bulunan kutsal burhan haldun dağı\\'nda gizli bir yere gömüldüğünü söylemektedirler. cengiz han’ın mezarı bütün arkeolojik arama ve çalışmalara rağmen hâlâ bulunamamıştır.\\n\\n kişiliği ve karakteri \\n\\ncengiz han\\'ın fiziksel görünümü hakkında 1221\\'de kendisine yollanan song elçisi, çinli general meng-hung ve onu horasan\\'da görmüş olan insanlardan bilgi alan i̇ranlı tarihçi cüzcani\\'nin anlattıkları dışında hiçbir bilgi yoktur. meng-hung, onun uzun boyu, geniş yüzü ve uzun sakalıyla diğer moğollardan farklı olduğunu söylerken cüzcani, hanı yapılı, beyaz saçlı ve kedi gözleri olan biri olarak tasvir eder. cengiz han\\'ın, düşmanlarına ve kendisine ihanet edenlere karşı acımasız ve sert bir tavır sergilerken kendisine sadakat gösterenleri de o derecede mükafatlandırdığı görülmektedir. küçük yaştan itibaren zorluklar ve yok olma tehlikesi içinde yaşamış bu nedenle kendine yardım eden herkesi kardeşi ve babası gibi görmüş ve davranmıştır. hükümdar olduğu zaman gençlik yıllarında verdiği mücadele esnasında yanında olan herkesi mükafatlandırmıştı. tayciutlara esir düştüğü zaman kaçarken onu evinde saklayan sorhan şira ve çocukları, çalınan atlarını bulmak için at hırsızlarının peşindeyken tanıştığı ve çok iyi dost olduğu bughurçi, camuka ile savaşı esnasında yaralandığı zaman onun yarasını iyileştiren ve karnını doyuran celme ile yine camuka ile savaşında atını öldüren oku atmasına rağmen gelip bağlılığını bildiren cebe, her birini en yüksek mevkide rütbelerle mükafatlandırmıştır. en karakteristik vasıflarından biri de hainlere karşı duyduğu nefretti. kötü duruma düşen efendilerine ihanet ederek kendisine yaranacaklarını sananları derhal idam ettirir, düşmanı olan hükümdarlara sonuna kadar sadık kalanları da hizmetine alarak mükafatlandırmıştır. mükafatlandırılacaklarını umarak kerayitlerin lideri tuğrul\\'un oğlu sangum\\'u yerini söyleyen onun seyisi ile camuka\\'yı yakalayıp cengiz han\\'a teslim eden beş arkadaşının da akıbeti felaket olmuş, öz hanlarına ihanet edenleri bütün nesilleri ile yok edin emrini vererek onları infaz ettirmiştir. pekin\\'in fethinden sonra ele geçirilen esirler arasında yer alan jin hanedanına hizmet etmiş liyaso tunglu bir prens te vardı. ye liyu çutsay adındaki alim cengiz han\\'ın dikkatini çekmiş; asırlarca size düşman kesilmiş bir hanedana niçin hizmet ediyordun diye sorunca ye liyu çutsay\\'ın, babam ve ailemden birçok kimse onların hizmetinde bulundu benim de başka türlü yapmam münasip olmazdı şeklinde cevap vermesi cengiz han\\'ın hoşuna gitmiş, demek ki bana da sadıkane hizmet edebilirsin demişti. ye liyu çutsay, cengiz han\\'a sadakat yemini etti ve ölene kadar onu yanından ayırmadı.\\n\\ncengiz han, insanları seçme ve onların yeteneklerini ortaya çıkarma konusunda da oldukça başarılıydı. mukhuali, cebe, subutay her biri ayrı ayrı onunkilerle eş değer askerî zaferler kazansalar da hiçbir zaman bundan kişisel bir çıkar sağlamayı düşünmediler. onları kendinden kopmayacak şekilde bağlamayı başardı ve hiçbir zaman ihanete uğramadı. 1206\\'dan sonra ölene kadar 21 yıl boyunca kimse onun hükümdarlığını sorgulamadı. düşmanı olmayanlara karşı da oldukça lütüfkardı. güney çin\\'deki song hanedanının elçisi meng-hung yanından ayrılırken, her önemli şehirde birkaç gün durun, ona en güzel şaraplar, en güzel kokulu çaylar ikram edilsin, şerefine güzel yüzlü kadınlar çalgılarını tıngırdatırken yakışıklı gençler fülüt çalsın emrini vermişti. her tür eğlenceyi çok severdi. büyük tutkusu avın yanı sıra ayak topundan da çok keyif alırdı. song elçisi meng-hung\\'un aktardığına göre bir gün haber yollayarak; bu gün top oynadık niçin gelmedin dedi. elçi davet edilmedim dedikten sonra her şölende oyun ya da top oynandığında gelip bizimle eğlenmeni bekliyorum demişti. meng-hung, o gün şölene katılan sekiz kadınının göz kamaştıran beyaz yüzleri var ve çok güzeller diyerek onun zevkini över. i̇çki içmekle birlikte ayda yalnızca üç kere sarhoş olunmasını öneriyordu. lüks giysilere ve gösterişe meraklı değildi. her türlü görkemli unvanı reddetti. uygurların verdiği şatafatlı unvanları kullanmak istemedi. i̇ranlı bir katibin onu tanıtmak için kullandığı süslü ifadeleri gülünç ve çirkin buldu. cüveynî ve makrizî, onun eğitimli kişiler ve her dinden din adamlarına saygı duyduğunu, aralarında bir ayrım yapılmasını yasakladığını anlatmaktadırlar.\\n\\nxiii. yüzyılın keşiş seyyahlarından plano carpini, moğolların yaşadığı yerlere giderek cengiz han hakkında edindiği bilgileri raporlaştırmıştı. cengiz\\'in savaş esnasındaki kararlılığı hakkında bilgiler sunan carpini, cengiz\\'in kıtaylarla mücadelesinde ordusunun tüm yiyecekleri bitmesine rağmen saldırılarını sürdürdüğünü ifade eder. öyle ki carpini\\'nin aktardığına göre askerlerinin yiyecek bir şeyleri kalmaması üzerine cengiz han her 10 kişiden birinin kesilip, diğer askerlere yiyecek olarak verilmesini dahi emretmişti.\\n\\n dinler ile ilişkisi \\ncengiz han, çinli tao rahibi çang çuen’in şöhretini duyunca onunla görüşmek için kendisini davet etmiştir. çang çuen, cengiz han harezmşahlara karşı seferde iken 1222 yılında huzuruna getirilmiştir. cengiz han; bana uzaklardan, ölümsüzlük için ne getirdin diye sormuş rahip de hayatı uzatmanın çaresi var, ama ölmemek için ilaç yok diyerek cevap vermiştir. 21 ekim 1222’de semerkant yakınlarında cengiz han\\'ın çang çuen\\'un öğretilerini dinleyeceği özel bir çadır kurulur. bu, babür i̇mparatoru ekber döneminde görülecek olan konuşmaların yapıldığı göçebe felsefe evlerinin prototipidir. çang çuen cengiz han’a taoizmi anlatır ve ona şehvetini köreltmeyi, zevki okşayan tatları reddetmeyi, taze ve hafif yiyecekler yemeyi, nefsin isteklerinden uzak durmayı öğütler. bütün bir ay boyunca sadece uyumaya çalışmasını, manevi zenginlikleri ve enerjisi karşısındaki artışa şaşıracağını söyler. cengiz han ise bu öğütlerin faydalı olduğunu anlar, fakat moğolları eski alışkanlıklarından vazgeçirmenin kolay olmayacağını söyler. nitekim 10 mart 1223’te taşkent bölgesinde bir sürek avı sırasında attan düşerek yaralanır. çang çuen bu durumdan ona ilerlemiş yaşında avın oluşturduğu tehlikeleri göstermek için yararlanır. ancak cengiz han ona öğütlerini takdir ettiğini ama avlanmanın asla vazgeçemeyeceği bir zevk olduğunu söyledi. bu görüşmelerden en kârlı çıkan ise taoistler olur. cengiz han, çang çuen adına, taoizm üstadını vergiden muaf tutma amacı taşıyan mühürlenmiş bir yarlık hazırlamıştı.\\n\\ncengiz han yönetimde kaldığı süre içerisinde bu duruma dikkat etmiş, yönetiminde farklı dinlere mensup insanları önemli görevlere getirmekten kaçınmamıştır. ona göre farklı dini grupları bir arada tutmanın ve itaatlerini sağlamanın en önemli metodu buydu.\\n\\n tarihe bıraktıkları \\n\\ncengiz han\\'ın imajı askerî harekâtları esnasında sorumlu tutulduğu kıyımlar ve kültürel hazinelerin yerle bir edilişi gibi sebeplerden dolayı özellikle i̇slam dünyasında iyi değildir. dönemin i̇ran ve arap kaynakları cani ve kana susamış bir adam portresi çizer. kimi kaynaklara göre cengiz han\\'ın fetihlerinin yaklaşık olarak 40 milyon insanın ölümüne sebep olduğu tahmin edilmektedir. bu; o zamanki dünya nüfusunun %11\\'ine denk gelmekteydi.\\n\\nnişaburlu bir askerin damadı toquchar\\'ı öldürmesinden sonra; cengiz han harezmşah i̇mparatorluğu\\'na saldırmış, galip geldiği bu savaş sonrası ise i̇ran nüfusunun dörtte üçünü öldürmüş olduğu tahmin edilmektedir. sadece damadının öldürüldüğü nişabur\\'da, intikam almak için 1 milyondan fazla insan öldürdüğü düşünülmektedir. ancak onun büyük bir asker olarak ün kazanmasının temelinde o güne kadar bir birleri ile savaşmaktan başka bir şey yapmayan moğol boylarını bir araya getirip 10\\'luk-100\\'lük-1000\\'lik gruplara ayırarak, liyakata bağlı bir ordu meydana getirmiş olması, bununla beraber askerlerini böyle gruplara ayırarak, askerlerin savaş alanında mensup oldukları kabilelere değil de savaş gruplarına karşı aidiyet hissi benimsemelerini sağlamasında yatmakta idi.\\n\\nbu düşünceyle askerleri içerisindeki en seçkin 10.000 askerî seçerek, kendisine sadakati ön planda tutan keshig adındaki özel muhafız birliğini kurdu. tüm askerî seferleri, sağlam bir hazırlıktan sonra yöneten cengiz han’ın büyük bir asker olarak ün kazanmasının bir diğer önemli sebebi kurduğu posta teşkilatı ve casus ağı ile istihbarat sanatına verdiği büyük değerdi. casuslar, bilgi toplamakla, söylentiler yaymakla ve araziyi tanımakla görevlendirilirken alimler geçtikleri nehirlerin ne zaman donacağını, balık veren gölleri ve çeşitli maden ocaklarının vaziyetlerini kaydedip fethedilen yerler için haberleşme ağını oluşturmak için posta menzilleri kuruyorlardı.\\n\\ncengiz han, koyduğu kuralları yasa adını verdiği kanunlarla metinleştirdi ve o öldükten sonra bile japon denizinden polonya içlerine ve macar ovalarına kadar çin, i̇ran, rusya dahil birçok ülke cengiz han yasası adı verilen bu kurallara göre yönetildi. cengiz han\\'ın asya\\'yı birleştirmesiyle sınırlar ve gümrükler kalkmış, asya\\'daki iktisadi yapı değişmiştir. halklar arası ticaret artmıştır. hem asya hem de avrupa\\'daki sınırları sayesinde iki kıta arasında bilgi ve tecrübe akışını, kısa bir süre de olsa, sağlamıştır.\\n\\ni̇pek yolu\\'nun işlek ve güvenli bir hâle gelmesiyle doğu ile batı arasındaki ticaretin gelişmesindeki rolü ve ipek, ipekli kumaş, barut ve matbaa gibi uygurlar ve çinliler tarafından kullanılan pek çok unsurun batıya taşınmasındaki etkisi cengiz han’ın başlattığı bu ilerleyiş ile ilgili olarak günümüzde, günümüz terminolojisinde globalleşme veya küreselleşme adı verilen kavramın babası olarak cengiz han’ın kabul edilmesi gerektiği şeklinde görüşler ileri sürülmüştür. bu nedenle aralık 1995’te abd’de, washington post gazetesi cengiz han’ı son bin yılın en önemli adamı olarak ilan etti. cengiz han aynı zamanda michael h. heart tarafından belirlenen \\'tarihin en fazla etki bırakan liderleri\\' arasında 29\\'uncu sırada yer alırken national geographic tarafından tarihin en önemli 50 politika liderlerinden biri olarak seçilmiş, 1998\\'de dr g. ab arwel\\'ın araştırması sonucunda bin yılın en büyük 10 kültürel efsanesinden biri olarak belirlenmiştir.\\n\\ncengiz han sovyetler birliği tarafından desteklenen komünist yönetim dönemince millî duyguları ön plana çıkarmamak için geri plana itilmişti. sovyet baskısı altındayken moğollar cengiz han’ın ismini yüksek sesle bile telaffuz edemiyorlardı. cengiz han, moğolistan komünist rejimden çıkınca bağımsız devletin bir simgesi hâline gelmiştir. günümüzde cengiz han doğduğu topraklar olan moğolistan’da, moğolistan\\'ın gelmiş geçmiş en büyük ve efsanevi lideri olarak görülmektedir. moğolistan\\'ın politik ve etnik kimliğinin var olmasında büyük önem taşır. moğollar bu sebeple moğolistan\\'a cengiz han\\'ın moğolistan\\'ı kendilerine de cengiz han\\'ın çocukları demektedirler. moğollar bu ismi birçok ürüne, sokağa, binaya ve diğer yerlere de vermişlerdir. ayrıca cengiz han\\'ın resmi para birimleri tugrik\\'in ₮500, ₮1000, ₮5000 ve ₮10,000\\'in üzerinde bulunmaktadır. başkent ulaanbaatar\\'daki hava alanının ismi cengiz han uluslararası havaalanı\\'dır. halk cengiz han\\'a büyük saygı duymaktadır. 2006 yılında, başkentte cengiz han\\'ın ve oğullarının heykelleri konmuştur. devlet resmi törenlerde cengiz han’ın askerleri ve süvarileri yer almaktadır. 2008 yılında ulanbatur\\'a bir saat uzaklıkta tsonjin boldog bölgesinde çöl ortasında inşa edilen dev cengiz han heykeli 40 metre boyu ile dünyanın en büyük heykellerinden biri konumundadır. heykelin içinden geçen bir asansörle atının kafasına ulaşan ziyaretçiler, buradan uçsuz bucaksız moğol bozkırını seyredebilmektedirler.\\n\\nçin’de ise cengiz han çinliler tarafından çinli bir ulus kahramanı olarak ve çin’in moğollar tarafından fethinden sonra çin’de torunu kubilay han tarafından kurulan ve 1271–1368 arasında yaklaşık 100 sene çin’i yöneten kubilay hanlığı olarak bilinen yuan hanedanının kurucusu olarak görülmektedir. yuan hanedanı, çin hanedanları listesinde saygın bir yer edinmiştir. cengiz han hayatta iken çin’in kuzeyini ve pekin’i fethetmişti ancak buraya yerleşmemişti. torunu kubilay han çin’in tamamını fethedip başkentini karakurum’dan pekin’e taşımıştır. günümüzde bağımsız moğolistan’ın yanı sıra çin’de i̇ç moğolistan özerk bölgesi bulunmaktadır ve burada 5 milyon moğol yaşamaktadır. 1962 yılında cengiz han anısına çıkarılan pullar ve bir bilim akademisi tarafından düzenlenen bir sempozyum ile cengiz han’ın 800. doğum yıl dönümü çin halk cumhuriyeti i̇ç moğolistan özerk bölgesinde kutlandı. cengiz’in 10 metrelik bir heykelinin yapımının ardından onon nehrinin balj ile birleştiği dadal civarı resmi olarak cengiz han’ın doğduğu yer olarak belirlendi.\\n\\ngünümüzde cengiz han sadece moğolistan ve çin\\'in sahiplendiği bir tarihi miras değil tüm avrasya güzergahındaki birçok millet için ortak değer konumundadır. cengiz han, i̇mparatorluğunu orta asya’da yaşayan halkların desteği ile kurdu. onlardan destek alarak muazzam bir imparatorluk inşa etti. cengiz han ve onun haleflerinin olmadığı bir modern devir orta asya türk halklarının tarihi yazmak mümkün değildir. bu nedenle cengiz han moğollar için olduğu kadar uygurlar, tatarlar, nogaylar, özbekler ve kazaklar için de ortak değerdir. cengiz han uygur yazısını kullandı ve onun halefleri döneminde dahi uygurca diplomatik yazışmalarda kullanılan bir dil olarak bürokraside yerini korudu. devletin inşasında uygur devlet adamlarını kâtiplerini, sanat ve bilim adamlarını danışmanı olarak kullandı, onlardan hayatın her alanında yararlandı.\\n\\nmaveraünnehir’i kapsayan batı türkistan’ın yanı sıra uygurların yaşadığı kaşgar ve çevresindeki toprakları kapsayan doğu türkistan da cengiz han ölmeden yaptığı taksimat sonucu sonra oğlu çağatay’a verilmişti. çağataylılar 18. yüzyılın sonuna kadar doğu türkistan’daki varlıklarını sürdürdüler. uygurların cengiz i̇mparatorluğunun kuruluşundaki rolleri ve uygurların yaşadığı doğu türkistan’ın yaklaşık 500 sene cengiz han neslinden gelen hanlar tarafından yönetilmesi sebebi ile uygurlar cengiz han’ı tarihlerinin bir parçası olarak görmüşlerdir. bu nedenle 1933 yılında muhammed ali tevpik tarafından uygurca olarak kaleme alınan ve 1949’da çin tarafından ilhak edilene kadar uygurların millî marşı olarak kullanılan doğu türkistan cumhuriyeti ulusal marşında attila, cengiz, timur dünyani titretken idi, kan birip nam alimiz biz unlarn evladi biz dizeleri uygurların cengiz’i tarihlerinin en büyük şahsiyetlerinden biri olarak gördüklerini göstermektedir.\\n\\ncengiz han\\'ın en büyük oğlu cuci\\'nin soyundan gelenler tarafından idare edilen altın orda’nın ise özbek, kazak, nogay, kırım ve kazan tatar halklarının oluşmasındaki rolleri orta asya tarihi için çok önemli sonuçlardır. cengiz han’ın büyük oğlu cuci’nin oğlu batu han’ın kurduğu altın ordu hanlığının parçalanması ile ortaya çıkan tatar hanlıklarından kırım hanlığı, kazan hanlığı, astrahan hanlığı ve kasım hanlığı, cengiz han soyundan gelen hanlar tarafından idare edilmiştir. ruslar, tatar hanlıklarından kazan hanlığına 1552’de, astrahan hanlığına 1556’da, kasım hanlığı ise 1681’de ve son verirken içlerinde en uzun ömürlüsü olan kırım hanlığının kurucusu hacı giray, cuci\\'nin küçük oğlu tokay timur soyundan gelmekteydi. tokay timur aynı zamanda altın orda’nın kurucusu cuci’nin büyük oğlu batu han’ın da kardeşi idi. kırım hanlığı, kırım’ın ruslar tarafından ilhak edildiği 1783 yılına kadar cengiz han soyundan gelen giraylar tarafından yönetilmiştir. âl-i cengiz olarak da anılan girayların yönettiği kırım hanlığı 18. yüzyıla kadar osmanlı devleti\\'nin herhangi bir etkisi değerlendirmeye alınmadığında bile avrupa\\'nın en önemli güçlerinden biriydi. 18. yüzyıla kadar rusya ve polonya\\'nın hanlığa vergi ödemesi bunun en güçlü örneğidir.\\n\\ncengiz han nesli modern özbek halkının oluşumunda oynadığı rol nedeniyle bu halkın tarihinin en önemli kesitini oluşturmaktadır. günümüzde orta asya’nın en kalabalık halkı olan özbeklerin adı altın orda hanı özbek han’dan gelmektedir. özbek han, cengiz han’ın büyük oğlu cuci’nin soyundan toğrılca’nın oğludur. bozkırda genellikle tanınmış bir idarecinin veya kumandanın başında bulunduğu grubun zamanla onun adını taşıması geleneği uyarınca cuci’nin haleflerinden özbek han’ı liderleri olarak kabul eden cuci ulusu onun ismini kendilerini tanımlamak üzere kullanmaya başlamış, böylece özbekler denen topluluk ortaya çıkmış özbek ulusu tâbiri bütün altın-orda’yı ifade eder hâle gelmiştir.\\n\\naltın orda’nın parçalanması ile özbek ulusunun bağımsız bir hâle gelişi, 1428’de cuci\\'nin 5. oğlu ve batu\\'nun kardeşi olan şeyban\\'ın (şiban) sülalesinden ebu\\'l hayr han’ın, batı sibirya’da tura ırmağının kıyısında özbek ulusunun hanı olarak ilân edilmesiyle gerçekleşmiştir. bu hanlık tarihe şeybani hanlığı ya da özbek hanlığı olarak geçmiştir. şeybani hanlığı 1561\\'de yönetim merkezini buhara\\'ya taşıdığı için, buhara hanlığı olarak anılmaya başlamıştır. buhara hanlığı, 1753 yılına kadar cengiz han soyundan gelen hanlar tarafından yönetilirken buhara hanlığını işgal eden cengiz han soyundan olmayan mangitler 1753\\'te emirliğini ilan etmişti. dönemin orta asya\\'nın töresine göre cengiz han soyundan gelmeyenler han olamadığı için mangit hanedanı 1920’de buhara cumhuriyeti kurulana dek tıpkı timur gibi emir unvanını kullanmıştı.\\n\\nsadece cengiz han soyundan gelenlerin \"han\" unvanını kullanabildiği bir dünyada cengiz han’ın oğlu çağatay’ın kurduğu çağatay hanlığı topraklarında semerkand’da askeri bir lider olarak ortaya çıkan timur(1370-1405) gibi bir askeri deha bile cengiz han soyundan olmadığı için “han” unvanını yerine “emir” unvanını kullanmıştır ve hayatı boyunca “han” olarak cengiz han soyundan birini yanında taşımıştır. cengiz han soyundan biri ile evlenerek han damadı anlamına gelen “küregen” unvanını kullanmıştır. tarihte buhara ve hokand hanlığı ile birlikte üç özbek hanlıkları olarak anılan hanlıklardan biri olan hive hanlığı da 20. yüzyıla kadar belli aralıklarla yine şeybanilerin farklı bir kolu olarak zikredilen, cengiz han soyundan gelen yadigâroğulları tarafından yönetilmiştir.\\n\\naltın orda\\'nın parçalanmasından sonra cetisu nehri kıyılarında 1465 yılında kurulan ve günümüzde kazakların kökenini oluşturan kazak hanlığı da cengiz han\\'ın oğullarından cuci\\'nin ulusuna bağlı toka temür neslinden canibeg ve kerey tarafından kurulmuştur. günümüzde kazakistan cengiz soyunun hâlâ değerli olduğu ülkelerden biridir. kazak bilim adamları yaptıkları genetik araştırmalar sonucunda kazakistan cumhurbaşkanı nursultan nazarbayev’in de soy olarak cengiz han’ın torunu olduğunu iddia etmişlerdir.\\n\\nrusya da cengiz han i̇mparatorluğunun en çok etkilediği ülkeler arasında yer alır. moğollar cengiz han hayatta iken 1223\\'te ilk olarak ruslar\\'ı yenilgiye uğratmış, 1235-1242 arası batu han\\'ın, moskova ve kiev’i fethetmesiyle rusların tatar boyunduruğu dediği yaklaşık 300 sene sürecek dönem başlamıştır. sovyet yönetiminin rusya’da 80 sene sürdüğü düşünülürse bu muazzam bir süredir. günümüzdeki rus devleti 1480 yılında kurulan moskova knezliği üzerine inşa edilmiştir.\\n\\n1317 yılında moskova knezi yuri daniloviç, cengiz han soyundan gelen altın ordu hanı özbek han’ın kız kardeşiyle evlendi. bu nedenle moskova rus knezleri cengiz han’ın büyük oğlu cuci nesli ile akrabalık tesis etmiş oldu. özbek han, moskova knezi yuri daniloviç’i büyük knez ilan ederek rusya’nın temelini oluşturacak olan moskova knezliğinin ön plana çıkmasını sağladı. altı ordu’nun parçalanmasından sonra ortaya çıkan tatar hanlıklarından biri olan kasım hanlığı hükümdarlarından sayın bulat han 1573’te hıristiyanlığı kabul etmiş ve semön bekbulatoviç adını almıştı.\\n\\nyaptığı çeşitli seferlerle moskova knezliği\\'ni genişletip bu durumdan faydalanarak kendini \"tüm rusya\\'nın çarı\" ilan eden rus çarlığının kurucusu korkuç i̇van, i̇sveç ile yaptığı livon savaşlarında zor duruma düşünce ülke içindeki boyar ve yerel knezlerin muhalefetini ancak rus tahtına cengiz han soyundan biri geçtiği takdirde bastırabileceğini düşünüyordu. korkunç ivan, bu amacına ulaşmak için de 1574 yılında simeon bekbulatoviç ’den daha uygun aday bulamazdı.\\n\\nsimeon, cengiz han’ın torunu orda’nın soyundan geliyordu ve altın orda’nın son hanı ahmet’in en büyük torunuydu. böylece, rus çarı korkunç ivan hem cengiz han soyundan gelen hem de aynı zamanda han olan simeon ’u rus tahtına çıkartarak, rusya’nın merkezileşme ve çarın otoritesini artırmaya yönelik politikasını temellendirmek amacıyla onu tüm rusya\\'nın grandükü olarak atamış kendisini sadece \"moskova\\'nın ivan\\'ı\" olarak isimlendirmişti.\\n\\nsimeon, livonya savaşı\\'nda moskova ordusunun baş alayında (bolşoi polk) komutan olarak yer almıştır. simeon, moskova kremlini\\'ndeki bir yıllık hükümdarlık süresinde, iii. i̇van\\'ın büyük büyük torunu anastasya mstislavskaya ile evlenmiştir. simeon 1576\\'da da kıdemi düşürülerek \"tüm rusya\\'nın grandükü\" iken \"tver\\' ve torjok şehirlerinin grandükü\" oldu.1585 yılında, çar feyodor ivanoviç onun \"tver\\' ve torjok şehirlerinin grandükü\" unvanını kaldırarak onu kuşalov\\'daki kendi mülkünde hapse attırdı.\\n\\n1616 yılında moskova\\'da bir manastırda öldü. ruslar’da tıpkı avrupalılar, araplar ve i̇ranlılar gibi moğollara tatar demekte idi. moğol i̇mparatorluğu ve onun ardılı olan hanlıklar çöktükten veya rusya tarafından ilhak edildikten sonra onların bünyesindeki halklara da tatar demeye devam ettiler. günümüzde kırım tatarları, tataristan\\'daki kazan tatarları ve başkurdistan’daki tatarlar rusya federasyonu içerisindeki kendi özerk cumhuriyetleri içerisinde yaşamakta olup 10 milyonluk nüfusları ile rusya federasyonu içerisinde ruslardan sonra en kalabalık ikinci etnik gruptur.\\n\\ni̇skender’den sonra i̇ran’ın ikinci büyük fatihi olarak kabul edilen cengiz han döneminden başlayan i̇ran’daki moğol hakimiyeti, onun torunu hülagü han tarafından kurulan başkenti tebriz şehri olan i̇lhanlılar dönemi boyunca yaklaşık 110 sene devam etmiştir. altın ordu ve çağatay hanlığının aksine i̇lhanlıların çöküşünden sonra kapsadığı topraklarda cengiz han soyundan başka oluşumlar meydana gelmedi. siyasi ve askerî yaşantısına cengiz han soyundan i̇lhanlılara bağlı bir beylik olarak başlayan osmanlı devleti döneminde cengiz han soyuna karşı herhangi bir olumsuz yaklaşım görülmemiştir. hatta osmanlı padişahlarından ii. murad zamanında, yayınlanan bir tarihî takvimde cengiz han, ögedey, güyük, mengü, hülagü, abaka, keyhatu gibi müslüman olmayan cengiz han soyundan kağanlar rahmetle anılmıştır.\\n\\nosmanlıların cengiz han soyundan gelenlerle yakın ilişkisi kırım hanlığını yöneten âl-i cengiz olarak anılan giray hanedanı ile olan müttefikliği sayesinde gelişmiştir. kırım hanlığı, osmanlılar için daha çok müttefik devlet statüsündeydi. kırım hanları, kendi adlarına para bastırıyor ve kendi adlarına hutbe okutuyorlardı. osmanlılar da ukrayna bozkırlarının sadece kırım yönetimine ait olduğunu kabul ediyordu. osmanlılar kırım hanlığı\\'ndan vergi almıyor, hatta seferlerde başarılı olurlarsa onlara vergi bile ödüyorlardı.\\n\\nkırım hanlarının osmanlı veziriazam’ının ordudaki mevkiine rağmen kırım hanlarının teşrifattaki dereceleri veziriazamdan yukarı idi. kırım hanları padişah tarafından kabullerinde bir minder üzerinde otururlar halbuki veziriazam 17.yüzyıl ortalarından itibaren padişah huzurunda ayakta dururdu. yine kırım hanı ata biner veya attan inerken padişahlara mahsus binek taşı üzerine basar veziriazamlar ise iskemle üzerine basardı. kanuni sultan süleyman döneminde 1532 yılından sonra kırım’ın\\u2008hükümdar\\u2008ailesi giray hanedanından bir ya da birkaç kişi i̇stanbul’da ve hemen yakınındaki mülkleri\\u2008olan,\\u2008avcılığıyla ünlü çatalca’da yaşardı.\\n\\nosmanlı devleti’nin 14. padişahı sultan i. ahmet zamanında,\\u2008osmanlı\\u2008devleti’nin altın orda\\'nın varisleri kırım hanları ile yaptıkları antlaşmada hanedan-ı ali osman’da erkek kalmazsa kırım hanları\\u2008otomatikman\\u2008osmanlı devleti’nin başına geçecekti. cengiz han soyundan gelen kırım hanları, osmanlı i̇mparatorluğu’nun\\u2008meşru\\u2008varisi sayılmıştır. yani osmanlı soyundan bir erkek dünyaya gelmeseydi veya öldürülüp de hanedanda kimse kalmasaydı, “devlet-i ali osmaniye’yi”\\u2008kırım\\u2008hanları’dan,\\u2008yani\\u2008cengiz han soyundan gelen biri yönetecekti.\\u2008\\n\\nosmanlı’nın\\u2008cengiz han\\'ın\\u2008vârisleriyle ile ilişkisi bu kadar derindi. on sekizinci yüzyıl sonlarında kırım hanlığı’nın ruslar tarafından yıkılmasından sonra ii. kaplan giray çatalca’ya gelerek subaşı köyü’ne yerleşti. köyde han’ın\\u2008ve\\u2008soyunun\\u2008yaptırdıkları\\u2008han\\u2008camii, selim giray sultan çeşmesi ve mezar taşları vardır. kırım hanları’ndan selim giray han da kırımdan çatalca’ya gelip yerleşenlerdendir. 19. yüzyılda sultan ii. mahmud döneminde, kırım hanlığının yıkılışından 60 sene sonra osmanlının kırım hanlık sülalesi ile ilgili olarak selatin-i cengiziyeden hangileri hayatta ve hangilerinin vefat etmiş olduğu tespit edilip soyu sopu cengiz hana dayandırılan kırım hanlarından devlet giray sultanın kanını taşıyanların maaşa bağlanmasıyla ilgili 1837 tarihli bir belge bulunmaktadır. bugün torunların bir kısmı i̇stanbul, ankara ve bursa\\'da yaşamakta olup hanedanın i̇ngiltere\\'de yaşayan bir kolu da bulunmaktadır.\\n\\ncumhuriyet döneminde ise mustafa kemal atatürk’ün başlattığı tarih ve türkoloji çalışmaları ile teşekkül eden türklük litaretürü ile birlikte türkiye\\'de cengiz han ile çalışmalara ağırlık verildi. bu yeni türklük litaretüründe bu dönemden itibaren uzun süre türklerin tarihinin osmanlıdan ibaret olmadığı ve müslüman olmadan önce de büyük bir millet olduğu cengiz han ve atilla gibi cihangirler çıkardığı kültü işlenmiştir. 1931 yılında harold lamb’in “cengiz han; tüm i̇nsanların i̇mparatoru” adlı eseri ve 1950’de b.y vladamirov’un cengiz han adlı eseri millî eğitim bakanlığı tarafından türkçeye tercüme edilerek basılmıştır. profesör zeki velidi togan\\'ın, 1941′de yayınladığı “moğollar, cengiz ve türklük” adlı eseri, 1946′da yayınladığı “umumî türk tarihine giriş” adlı eseri cengiz han ile ilgili detaylı çalışmalardır. cengiz han ve moğollar ile ilgili en önemli ve çağdaş tek kaynak olan 1240 yılında yazılmış olan moğolların gizli tarihi ise türkolog prof. dr. ahmet temir tarafından almanca ve rusça tercümeleri, moğolca aslıyla karşılaştırılarak türkçeye tercüme edilmiş ve 1948 yılında türk tarih kurumu yayınları arasında neşredilmiştir.\\n\\ncengiz han, haleflerinin asırlarca hüküm sürdüğü rusya’dan çin’e, türkiye’den, i̇ran’a ve ukrayna’ya kadar geniş bir sahada büyük etkiler bırakmıştır. 2003 yılı mart ayında, american journal of human genetics dergisinde yayınlanan makaleye göre 23 genetik bilimciden oluşan bir grup bilim insanı, avrasya’da 2000 kadar erkekten alınan dna örneklerini inceleyerek günümüzde 16 milyon erkeğin ortak atasının cengiz han’ın soyundan geldiği kanısına varmıştır.\\n\\ncengiznâmeler\\ncengizname, cengiz han’ın hayatı etrafında teşekkül etmiş bir destansı bir hikâyedir. bu destan’ın kazan tatarları tarafından oluşturulduğu veya tataristan\\'da oluştuğuna dair kuvvetli emareler vardır. yazıya geçirildiği zamana dair işaretler ise 16. yüzyılı göstermektedir. 1551\\'de, \"ötemiş hacı\" adlı bir kazak tarafından çağatayca yazılmış olan cengiznâme, cengiz han destanının bilinen ilk yazma nüshası (kopyasıdır). yine çağatayca yazılmış olan ve 17. yüzyılda yazıldığı belirlenen diğer eser ise defter-i çingizname\\'\\'\\'dir. defter-i çingizname\\'nin kazan tatarlarına ait olan nüshası araştırmacıların üzerinde en çok durdukları nüshadır. defter-i çingizname’nin paris millî kütüphanesinde, berlin devlet kütüphanesinde ve british museum\\'da yazma nüshaları vardır. i̇lk matbu nüshası i̇brahim halfin tarafından 1822’de kazan’da bastırılmıştır. destan, orta asya’da başkurtlar, kırgız-kazakları, yakutlar-tunguzlar arasında yayılmış ve değişik anlatımları ortaya çıkmıştır. kendisi de cengiz han’ın soyundan gelen özbek hanlıklarından hive hanlığı hükümdarı ebu\\'l gazi bahadır han’ın 17. yüzyılda kaleme aldığı “şecere-i türkî” ve “şecere-i terâkime” adlı eserlerinde \"cengiznâme\"nin 17 varyantını tespit ettiğini söylemektedir. cengizname\\'de anlatılan olaylar, cengiz han’ın ve çocuklarının tarihi hikâyelerine uygun bir seyir izlemektedir. destan, han’ın atalarını ve doğuşunu anlatarak başlar. evlenmesi, kabileleri etrafında toplaması, yaptığı savaşlar ve fetihleri anlatıldıktan sonra kurduğu imparatorluğu çocukları arasında paylaştırarak ölmesiyle bitmektedir.\\n\\nailesi\\neşleri\\n börte\\n yesüy\\n\\nyirmi yıl boyunca kendisine devamlı birçok kız getirilmesine rağmen büyük bir bağlılık ve sevgi gösterdiği eşleri börte ve yesüy olmuştur.\\n\\nerkek çocukları\\n cuci\\n çağatay\\n ögeday\\n tuluy\\n\\ncengiz han\\'ın yasal varisleri yalnızca börte\\'den olan oğulları idi. başka kadınlardan da oğulları olsa da yasal olarak varislik haklarından mahrum edildikleri için haklarında hiçbir bilgi yoktur.\\n\\nkız çocukları\\n alaltun\\n\\ncengiz han\\'ın börte\\'den iki kızı olduğu bilinmektedir. esasen cengiz han\\'ın birçok kızı olmuştur ancak birçoğunun ismi bilinmemektedir.\\n\\nnotlar\\n\\nkaynakça\\n\\nkonuyla ilgili yayınlar \\n rene grousset, bozkır i̇mparatorluğu isbn 978-975-437-098-0\\n man, john. genghis khan: life, death and resurrection (london; new york: bantam press, 2004) isbn 0-593-05044-4.\\n özdemir, h. ahmet, moğol i̇stilâsı, i̇z yayıncılık, i̇stanbul 2005. isbn 975-355-592-x\\n ratchnevsky, paul (1991). genghis khan: his life and legacy. blackwell publishing. isbn 0-631-16785-4.\\n lister, r. p. genghis khan (lanham, md.: cooper square press, 2000 [c1969]) isbn 0-8154-1052-2.\\n morgan, david (1986). the mongols (peoples of europe). blackwell publishing. isbn 0-631-17563-6.\\n meydan larousse büyük lugat ve ansiklopedi - cengiz han maddesi.\\n \\n bretschneider, emilii. mediæval researches from eastern asiatic sources. london: k. paul, trench, trübner & co. isbn 81-215-1003-1\\n belgesel: cengiz han - bbc\\n grolier international americana encyclopedia - cengiz han maddesi isbn 0-7172-9647-4.\\n\\ndış bağlantılar \\n\\n cengiz han ve mirascıları sergisi haberi - ntvmsnbc 6 aralık 2006 \\n arkeologlar cengiz han\\'ın kalesini buldu,sözcü 8 aralık 2015  \\n ben tanrının cezasıyım-milliyet.16 nisan.2013, \\n\\n1162 doğumlular\\n1227 yılında ölenler\\n \\nattan düşerek ölenler\\nvikiproje tarih kaynak bekleyen maddeler\\norta çağ köleleri\\nkurucu hükümdarlar\\nsoykırım failleri\\ntengrici hükümdarlar'}"
      ]
     },
     "execution_count": 37,
     "metadata": {},
     "output_type": "execute_result"
    }
   ],
   "source": [
    "full_data[\"train\"][0]"
   ]
  },
  {
   "cell_type": "code",
   "execution_count": 38,
   "metadata": {},
   "outputs": [
    {
     "name": "stderr",
     "output_type": "stream",
     "text": [
      "Creating parquet from Arrow format: 100%|██████████| 265/265 [00:02<00:00, 108.11ba/s]\n",
      "Creating parquet from Arrow format: 100%|██████████| 265/265 [00:01<00:00, 173.70ba/s]\n",
      "Uploading the dataset shards: 100%|██████████| 2/2 [00:26<00:00, 13.08s/it]\n",
      "Creating parquet from Arrow format: 100%|██████████| 5/5 [00:00<00:00, 85.91ba/s]\n",
      "Uploading the dataset shards: 100%|██████████| 1/1 [00:00<00:00,  1.01it/s]\n"
     ]
    },
    {
     "data": {
      "text/plain": [
       "CommitInfo(commit_url='https://huggingface.co/datasets/mismayil/tr_wikipedia/commit/30751b03c1d9935587d22e020cf93c67a55890d5', commit_message='Lowercase all data', commit_description='', oid='30751b03c1d9935587d22e020cf93c67a55890d5', pr_url=None, pr_revision=None, pr_num=None)"
      ]
     },
     "execution_count": 38,
     "metadata": {},
     "output_type": "execute_result"
    }
   ],
   "source": [
    "full_data.push_to_hub(\"mismayil/tr_wikipedia\", commit_message=\"Lowercase all data\")"
   ]
  },
  {
   "cell_type": "code",
   "execution_count": 34,
   "metadata": {},
   "outputs": [
    {
     "name": "stderr",
     "output_type": "stream",
     "text": [
      "Downloading readme: 100%|██████████| 537/537 [00:00<00:00, 1.51MB/s]\n",
      "Downloading data: 100%|██████████| 338M/338M [00:06<00:00, 49.5MB/s] \n",
      "Downloading data: 100%|██████████| 208M/208M [00:05<00:00, 38.1MB/s] \n",
      "Downloading data: 100%|██████████| 5.47M/5.47M [00:00<00:00, 9.64MB/s]\n",
      "Generating train split: 100%|██████████| 530000/530000 [00:08<00:00, 59476.91 examples/s] \n",
      "Generating validation split: 100%|██████████| 4454/4454 [00:00<00:00, 47758.44 examples/s]\n"
     ]
    }
   ],
   "source": [
    "data = load_dataset(\"mismayil/tr_wikipedia\")"
   ]
  },
  {
   "cell_type": "code",
   "execution_count": 35,
   "metadata": {},
   "outputs": [
    {
     "data": {
      "text/plain": [
       "DatasetDict({\n",
       "    train: Dataset({\n",
       "        features: ['id', 'url', 'title', 'text'],\n",
       "        num_rows: 530000\n",
       "    })\n",
       "    validation: Dataset({\n",
       "        features: ['id', 'url', 'title', 'text'],\n",
       "        num_rows: 4454\n",
       "    })\n",
       "})"
      ]
     },
     "execution_count": 35,
     "metadata": {},
     "output_type": "execute_result"
    }
   ],
   "source": [
    "data"
   ]
  },
  {
   "cell_type": "code",
   "execution_count": 30,
   "metadata": {},
   "outputs": [
    {
     "data": {
      "text/plain": [
       "IterableDatasetDict({\n",
       "    train: IterableDataset({\n",
       "        features: ['id', 'url', 'title', 'text'],\n",
       "        n_shards: 3\n",
       "    })\n",
       "    validation: IterableDataset({\n",
       "        features: ['id', 'url', 'title', 'text'],\n",
       "        n_shards: 2\n",
       "    })\n",
       "})"
      ]
     },
     "execution_count": 30,
     "metadata": {},
     "output_type": "execute_result"
    }
   ],
   "source": [
    "data"
   ]
  },
  {
   "cell_type": "code",
   "execution_count": 10,
   "metadata": {},
   "outputs": [
    {
     "data": {
      "text/plain": [
       "{'id': '19172',\n",
       " 'url': 'https://tr.wikipedia.org/wiki/447',\n",
       " 'title': '447',\n",
       " 'text': \"\\n\\nOlaylar \\n Avrupa Hun Devleti ile Doğu Roma İmparatorluğu arasında Anotolyos Antlaşması imzalandı.\\n 447 Konstantinopolis depremi, Konstantinopolis Surları'na ciddi bir hasar verdi.\\n\\nDoğumlar\\n\\nÖlümler\"}"
      ]
     },
     "execution_count": 10,
     "metadata": {},
     "output_type": "execute_result"
    }
   ],
   "source": [
    "next(iter(data[\"train\"]))"
   ]
  }
 ],
 "metadata": {
  "kernelspec": {
   "display_name": "til",
   "language": "python",
   "name": "python3"
  },
  "language_info": {
   "codemirror_mode": {
    "name": "ipython",
    "version": 3
   },
   "file_extension": ".py",
   "mimetype": "text/x-python",
   "name": "python",
   "nbconvert_exporter": "python",
   "pygments_lexer": "ipython3",
   "version": "3.10.13"
  }
 },
 "nbformat": 4,
 "nbformat_minor": 2
}
