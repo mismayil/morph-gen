{
 "cells": [
  {
   "cell_type": "code",
   "execution_count": 2,
   "metadata": {},
   "outputs": [
    {
     "name": "stdout",
     "output_type": "stream",
     "text": [
      "Number of analyses: 6\n",
      "['(açık[NN]+[PersonNumber=A3sg]+[Possessive=Pnon]+[Case=Bare])([VB]-lA[Derivation=Make])([VB]-YA[Derivation=Able]+mA[Polarity=Neg])([NOMP]-mAk[Derivation=Inf]+[PersonNumber=A3sg]+[Possessive=Pnon]+[Case=Bare]+[Copula=PresCop]+[PersonNumber=V3pl])', '(açık[NN]+[PersonNumber=A3sg]+[Possessive=Pnon]+[Case=Bare])([VB]-lA[Derivation=Make])([VB]-YA[Derivation=Able]+mA[Polarity=Neg])([NOMP]-mAk[Derivation=Inf]+[PersonNumber=A3sg]+[Possessive=Pnon]+[Case=Bare]+[Copula=PresCop]+[PersonNumber=V3sg])', '(açık[NN]+[PersonNumber=A3sg]+[Possessive=Pnon]+[Case=Bare])([VB]-lA[Derivation=Make])([VB]-YA[Derivation=Able]+mA[Polarity=Neg])([NOMP]-mAk[Derivation=Inf]+[PersonNumber=A3sg]+[Possessive=Pnon]+[Case=Nom]+[Copula=PresCop]+[PersonNumber=V3pl])', '(açık[NN]+[PersonNumber=A3sg]+[Possessive=Pnon]+[Case=Bare])([VB]-lA[Derivation=Make])([VB]-YA[Derivation=Able]+mA[Polarity=Neg])([NOMP]-mAk[Derivation=Inf]+[PersonNumber=A3sg]+[Possessive=Pnon]+[Case=Nom]+[Copula=PresCop]+[PersonNumber=V3sg])', '(açık[NN]+[PersonNumber=A3sg]+[Possessive=Pnon]+[Case=Bare])([VB]-lA[Derivation=Make])([VB]-YA[Derivation=Able]+mA[Polarity=Neg])([VN]-mAk[Derivation=Inf]+[PersonNumber=A3sg]+[Possessive=Pnon]+[Case=Bare])', '(açık[NN]+[PersonNumber=A3sg]+[Possessive=Pnon]+[Case=Bare])([VB]-lA[Derivation=Make])([VB]-YA[Derivation=Able]+mA[Polarity=Neg])([VN]-mAk[Derivation=Inf]+[PersonNumber=A3sg]+[Possessive=Pnon]+[Case=Nom])']\n"
     ]
    },
    {
     "data": {
      "text/plain": [
       "['açık', 'lA', 'YA', 'mA', 'mAk']"
      ]
     },
     "execution_count": 2,
     "metadata": {},
     "output_type": "execute_result"
    }
   ],
   "source": [
    "from turkish_morphology import decompose, analyze\n",
    "\n",
    "word = \"kitaplarımızdaki\"\n",
    "word = \"yapamadıklarımızdan\"\n",
    "sentence = \"Yazarın kitaplarını yayın hakkını elinde bulunduran Aziz Nesin Vakfı'ndan yapılan açıklamaya göre,ilki 1946 yılında basılan Aziz Nesin'in kitapları, o dönemden bu yana 10 milyon 780 bin adet basıldı ve dağıtıldı\"\n",
    "word = \"açıklayamamak\"\n",
    "\n",
    "def get_morphemes(word, analysis_index=-1):\n",
    "    analyses = analyze.surface_form(word, use_proper_feature=False)\n",
    "    \n",
    "    if analysis_index >= len(analyses):\n",
    "        analysis_index = -1\n",
    "\n",
    "    print(f\"Number of analyses: {len(analyses)}\")\n",
    "\n",
    "    if not analyses:\n",
    "        return []\n",
    "    \n",
    "    print(analyses)\n",
    "\n",
    "    decomposition = decompose.human_readable_analysis(analyses[analysis_index])\n",
    "\n",
    "    morphemes = []\n",
    "\n",
    "    for ig in decomposition.ig:\n",
    "        root = getattr(ig, \"root\")\n",
    "        if root:\n",
    "            morpheme = root.morpheme\n",
    "            if morpheme:\n",
    "                morphemes.append(morpheme)\n",
    "\n",
    "        if hasattr(ig, \"derivation\"):\n",
    "            morpheme = getattr(ig.derivation, \"meta_morpheme\")\n",
    "            if morpheme:\n",
    "                morphemes.append(morpheme)\n",
    "\n",
    "        if hasattr(ig, \"inflection\"):\n",
    "            for inflection in ig.inflection:\n",
    "                morpheme = getattr(inflection, \"meta_morpheme\")\n",
    "                if morpheme:\n",
    "                    morphemes.append(morpheme)\n",
    "\n",
    "    return morphemes\n",
    "\n",
    "def get_morphemes_from_sentence(sentence, analysis_index=-1):\n",
    "    sentence_morphemes = []\n",
    "    for word in sentence.split():\n",
    "        sentence_morphemes.append(get_morphemes(word, analysis_index=analysis_index))\n",
    "    return sentence_morphemes\n",
    "\n",
    "# get_morphemes_from_sentence(sentence, analysis_index=8)\n",
    "get_morphemes(word, analysis_index=-1)"
   ]
  },
  {
   "cell_type": "code",
   "execution_count": 20,
   "metadata": {},
   "outputs": [
    {
     "data": {
      "text/html": [
       "<div>\n",
       "<style scoped>\n",
       "    .dataframe tbody tr th:only-of-type {\n",
       "        vertical-align: middle;\n",
       "    }\n",
       "\n",
       "    .dataframe tbody tr th {\n",
       "        vertical-align: top;\n",
       "    }\n",
       "\n",
       "    .dataframe thead th {\n",
       "        text-align: right;\n",
       "    }\n",
       "</style>\n",
       "<table border=\"1\" class=\"dataframe\">\n",
       "  <thead>\n",
       "    <tr style=\"text-align: right;\">\n",
       "      <th></th>\n",
       "      <th>Unnamed: 0</th>\n",
       "      <th>text</th>\n",
       "    </tr>\n",
       "  </thead>\n",
       "  <tbody>\n",
       "    <tr>\n",
       "      <th>0</th>\n",
       "      <td>0</td>\n",
       "      <td>BATUHAN ERDURCAN \\r\\n21301855 \\r\\nTURK 101-13 ...</td>\n",
       "    </tr>\n",
       "    <tr>\n",
       "      <th>1</th>\n",
       "      <td>1</td>\n",
       "      <td>\\r\\nYalçın Arslan \\r\\n21300458 \\r\\nAslı Uçar ...</td>\n",
       "    </tr>\n",
       "    <tr>\n",
       "      <th>2</th>\n",
       "      <td>2</td>\n",
       "      <td>Sudenur SOYSAL \\r\\nGÜZELLİK Mİ ÇİRKİNLİK Mİ HA...</td>\n",
       "    </tr>\n",
       "    <tr>\n",
       "      <th>3</th>\n",
       "      <td>3</td>\n",
       "      <td>Mars’ta Yaşam mı? \\r\\n \\r\\nHayatım boyunca evr...</td>\n",
       "    </tr>\n",
       "    <tr>\n",
       "      <th>4</th>\n",
       "      <td>4</td>\n",
       "      <td>Bir Şehrin İki Yakasında \\r\\n \\r\\n\"İki büyük c...</td>\n",
       "    </tr>\n",
       "  </tbody>\n",
       "</table>\n",
       "</div>"
      ],
      "text/plain": [
       "   Unnamed: 0                                               text\n",
       "0           0  BATUHAN ERDURCAN \\r\\n21301855 \\r\\nTURK 101-13 ...\n",
       "1           1   \\r\\nYalçın Arslan \\r\\n21300458 \\r\\nAslı Uçar ...\n",
       "2           2  Sudenur SOYSAL \\r\\nGÜZELLİK Mİ ÇİRKİNLİK Mİ HA...\n",
       "3           3  Mars’ta Yaşam mı? \\r\\n \\r\\nHayatım boyunca evr...\n",
       "4           4  Bir Şehrin İki Yakasında \\r\\n \\r\\n\"İki büyük c..."
      ]
     },
     "execution_count": 20,
     "metadata": {},
     "output_type": "execute_result"
    }
   ],
   "source": [
    "import pandas as pd\n",
    "\n",
    "data = pd.read_csv(\"data/bilkent-turkish-writings/bilkent-turkish-writings-dataset.csv\")\n",
    "data.head()"
   ]
  },
  {
   "cell_type": "code",
   "execution_count": 22,
   "metadata": {},
   "outputs": [],
   "source": [
    "import re\n",
    "from utils import write_json\n",
    "\n",
    "essays = []\n",
    "\n",
    "for i, row in data.iterrows():\n",
    "    if isinstance(row[\"text\"], str):\n",
    "        raw_texts = re.split(\"[.?!]\\s\",row[\"text\"].replace(\"\\r\\n\", \"\"))\n",
    "        texts = []\n",
    "\n",
    "        for text in raw_texts:\n",
    "            texts.extend(re.split(\"\\s\\s\\s\\s\", text))\n",
    "\n",
    "        texts = [re.sub(\"^[A-ZÜÖĞIŞÇİ0-9\\-\\s.]+$\", \"\", text) for text in texts]\n",
    "        texts = [re.sub(\"\\s+\", \" \", text).strip() for text in texts if all([\"http\" not in text.lower(), \"kaynakça\" not in text.lower()]) and len(text.strip().split()) > 5]\n",
    "        \n",
    "        if len(texts) > 1:\n",
    "            essays.append({\n",
    "                \"id\": f\"bilkent-turkish-writings-{i}\",\n",
    "                \"sentences\": texts\n",
    "            })\n",
    "\n",
    "write_json(essays, \"data/bilkent-turkish-writings/bilkent-turkish-writings-dataset.json\", ensure_ascii=False)\n"
   ]
  }
 ],
 "metadata": {
  "kernelspec": {
   "display_name": "til",
   "language": "python",
   "name": "python3"
  },
  "language_info": {
   "codemirror_mode": {
    "name": "ipython",
    "version": 3
   },
   "file_extension": ".py",
   "mimetype": "text/x-python",
   "name": "python",
   "nbconvert_exporter": "python",
   "pygments_lexer": "ipython3",
   "version": "3.9.7"
  }
 },
 "nbformat": 4,
 "nbformat_minor": 2
}
