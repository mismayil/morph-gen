{
 "cells": [
  {
   "cell_type": "code",
   "execution_count": 2,
   "metadata": {},
   "outputs": [
    {
     "data": {
      "text/plain": [
       "['(de[VB]+[Polarity=Pos])([VN]-r[Derivation=AorNom]+[PersonNumber=A3sg]+[Possessive=Pnon]+[Case=Bare])([NOMP]-sH[Derivation=Sim]+[PersonNumber=A3sg]+Hn[Possessive=P2sg]+NDA[Case=Loc]+[Copula=PresCop]+YHm[PersonNumber=V1sg])',\n",
       " '(ders[NOMP]+[PersonNumber=A3sg]+Hn[Possessive=P2sg]+NDA[Case=Loc]+[Copula=PresCop]+YHm[PersonNumber=V1sg])',\n",
       " '(ders[NOMP]+[PersonNumber=A3sg]+SH[Possessive=P3sg]+NDA[Case=Loc]+[Copula=PresCop]+YHm[PersonNumber=V1sg])']"
      ]
     },
     "execution_count": 2,
     "metadata": {},
     "output_type": "execute_result"
    }
   ],
   "source": [
    "from turkish_morphology import decompose, analyze\n",
    "\n",
    "word = \"kitaplarımızdaki\"\n",
    "word = \"yapamadıklarımızdan\"\n",
    "sentence = \"Yazarın kitaplarını yayın hakkını elinde bulunduran Aziz Nesin Vakfı'ndan yapılan açıklamaya göre,ilki 1946 yılında basılan Aziz Nesin'in kitapları, o dönemden bu yana 10 milyon 780 bin adet basıldı ve dağıtıldı\"\n",
    "word = \"dersindeyim\"\n",
    "\n",
    "analyses = analyze.surface_form(word, use_proper_feature=False)\n",
    "decomposition = decompose.human_readable_analysis(analyses[0])\n",
    "\n",
    "analyses\n",
    "# decomposition"
   ]
  },
  {
   "cell_type": "code",
   "execution_count": 3,
   "metadata": {},
   "outputs": [
    {
     "data": {
      "text/plain": [
       "[Decomposition(root=ders, pos=NOMP, meta_morphemes=['SH', 'NDA', 'YHm'], morphemes=['i', 'nde', 'yim']),\n",
       " Decomposition(root=ders, pos=NOMP, meta_morphemes=['Hn', 'NDA', 'YHm'], morphemes=['in', 'de', 'yim']),\n",
       " Decomposition(root=de, pos=NOMP, meta_morphemes=['r', 'sH', 'Hn', 'NDA', 'YHm'], morphemes=['r', 'si', 'n', 'de', 'yim']),\n",
       " Decomposition(root=de, pos=NOMP, meta_morphemes=['r', 'sH', 'Hn', 'NDA', 'YHm'], morphemes=['r', 'si', 'n', 'de', 'yim'])]"
      ]
     },
     "execution_count": 3,
     "metadata": {},
     "output_type": "execute_result"
    }
   ],
   "source": [
    "from morphology import decompose_tr\n",
    "\n",
    "decomposition = decompose_tr(word)\n",
    "decomposition"
   ]
  },
  {
   "cell_type": "code",
   "execution_count": null,
   "metadata": {},
   "outputs": [],
   "source": [
    "import pandas as pd\n",
    "\n",
    "data = pd.read_csv(\"data/bilkent-turkish-writings/bilkent-turkish-writings-dataset.csv\")\n",
    "data.head()"
   ]
  },
  {
   "cell_type": "code",
   "execution_count": null,
   "metadata": {},
   "outputs": [],
   "source": [
    "import re\n",
    "from utils import write_json\n",
    "\n",
    "essays = []\n",
    "\n",
    "for i, row in data.iterrows():\n",
    "    if isinstance(row[\"text\"], str):\n",
    "        raw_texts = re.split(\"[.?!]\\s\",row[\"text\"].replace(\"\\r\\n\", \"\"))\n",
    "        texts = []\n",
    "\n",
    "        for text in raw_texts:\n",
    "            texts.extend(re.split(\"\\s\\s\\s\\s\", text))\n",
    "\n",
    "        texts = [re.sub(\"^[A-ZÜÖĞIŞÇİ0-9\\-\\s.]+$\", \"\", text) for text in texts]\n",
    "        texts = [re.sub(\"\\s+\", \" \", text).strip() for text in texts if all([\"http\" not in text.lower(), \"kaynakça\" not in text.lower()]) and len(text.strip().split()) > 5]\n",
    "        \n",
    "        if len(texts) > 1:\n",
    "            essays.append({\n",
    "                \"id\": f\"bilkent-turkish-writings-{i}\",\n",
    "                \"sentences\": texts\n",
    "            })\n",
    "\n",
    "write_json(essays, \"data/bilkent-turkish-writings/bilkent-turkish-writings-dataset.json\", ensure_ascii=False)\n"
   ]
  },
  {
   "cell_type": "code",
   "execution_count": null,
   "metadata": {},
   "outputs": [],
   "source": [
    "from morphology import decompose_tr\n",
    "\n",
    "# decompose_tr(\"heykelciklerinin\")\n",
    "[decomposition.to_json() for decomposition in decompose_tr(\"yansıttığımızın\")]"
   ]
  },
  {
   "cell_type": "code",
   "execution_count": null,
   "metadata": {},
   "outputs": [],
   "source": [
    "from utils import read_json\n",
    "\n",
    "data = read_json(\"../data/bilkent-turkish-writings/bilkent-turkish-writings-dataset_prep.json\")"
   ]
  },
  {
   "cell_type": "code",
   "execution_count": null,
   "metadata": {},
   "outputs": [],
   "source": [
    "len(data), sum([len(val) for val in data.values()])"
   ]
  },
  {
   "cell_type": "code",
   "execution_count": null,
   "metadata": {},
   "outputs": [],
   "source": [
    "sum([1 for root, word_map in data.items() for word, decompositions in word_map.items() if len(decompositions) == 1 and decompositions[0][\"morphemes\"]])"
   ]
  },
  {
   "cell_type": "code",
   "execution_count": null,
   "metadata": {},
   "outputs": [],
   "source": [
    "from utils import write_json\n",
    "import pathlib\n",
    "\n",
    "pathlib.Path(\"../data/bilkent-turkish-writings/batches\").mkdir(parents=True, exist_ok=True)\n",
    "i = 0\n",
    "while True:\n",
    "    data_chunk = list(data.items())[i*500:(i+1)*500]\n",
    "    if data_chunk:\n",
    "        write_json(dict(data_chunk), f\"../data/bilkent-turkish-writings/batches/bilkent-turkish-writings-dataset_prep_{i}.json\", ensure_ascii=False)\n",
    "        i += 1\n",
    "    else:\n",
    "        break"
   ]
  },
  {
   "cell_type": "code",
   "execution_count": 1,
   "metadata": {},
   "outputs": [],
   "source": [
    "from utils import write_json\n",
    "from prepare_data_for_morph import post_morph_process\n",
    "\n",
    "new_data = post_morph_process(\"../data/bilkent-turkish-writings/batches/bilkent-turkish-writings-dataset_prep_0.json\")\n",
    "\n",
    "write_json(new_data, \"../data/bilkent-turkish-writings/batches/bilkent-turkish-writings-dataset_prep_0_new.json\", ensure_ascii=False)"
   ]
  }
 ],
 "metadata": {
  "kernelspec": {
   "display_name": "til",
   "language": "python",
   "name": "python3"
  },
  "language_info": {
   "codemirror_mode": {
    "name": "ipython",
    "version": 3
   },
   "file_extension": ".py",
   "mimetype": "text/x-python",
   "name": "python",
   "nbconvert_exporter": "python",
   "pygments_lexer": "ipython3",
   "version": "3.9.7"
  }
 },
 "nbformat": 4,
 "nbformat_minor": 2
}
